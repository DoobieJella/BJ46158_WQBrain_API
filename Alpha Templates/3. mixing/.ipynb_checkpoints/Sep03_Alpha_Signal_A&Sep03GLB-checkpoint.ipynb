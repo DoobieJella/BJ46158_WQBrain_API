{
 "cells": [
  {
   "cell_type": "markdown",
   "metadata": {},
   "source": [
    "### Import library"
   ]
  },
  {
   "cell_type": "code",
   "execution_count": 1,
   "metadata": {},
   "outputs": [
    {
     "data": {
      "text/plain": [
       "'C:\\\\Users\\\\csia7\\\\OneDrive\\\\문서\\\\GitHub\\\\WQBrain_2024_API'"
      ]
     },
     "execution_count": 1,
     "metadata": {},
     "output_type": "execute_result"
    }
   ],
   "source": [
    "import os\n",
    "os.chdir('../..')\n",
    "os.getcwd()"
   ]
  },
  {
   "cell_type": "code",
   "execution_count": 2,
   "metadata": {
    "tags": []
   },
   "outputs": [],
   "source": [
    "import ace_lib as ace\n",
    "import helpful_functions as hf\n",
    "import pandas as pd\n",
    "import requests\n",
    "import plotly.express as px\n",
    "import pygwalker as pyg\n",
    "import glob\n",
    "import re"
   ]
  },
  {
   "cell_type": "markdown",
   "metadata": {},
   "source": [
    "### Start session\n",
    "Enter credentials once - they will be saved to local folder and loaded each time"
   ]
  },
  {
   "cell_type": "code",
   "execution_count": 3,
   "metadata": {},
   "outputs": [
    {
     "name": "stdout",
     "output_type": "stream",
     "text": [
      "Complete biometrics authentication and press any key to continue: \n",
      "https://api.worldquantbrain.com/authentication/persona?inquiry=inq_LN1fgyHytVe5fEGQqcdfaioXJuZw\n",
      "\n",
      " \n"
     ]
    }
   ],
   "source": [
    "s = ace.start_session()"
   ]
  },
  {
   "cell_type": "code",
   "execution_count": 4,
   "metadata": {},
   "outputs": [
    {
     "data": {
      "text/plain": [
       "14395.813216"
      ]
     },
     "execution_count": 4,
     "metadata": {},
     "output_type": "execute_result"
    }
   ],
   "source": [
    "ace.check_session_timeout(s)"
   ]
  },
  {
   "cell_type": "markdown",
   "metadata": {},
   "source": [
    "## Alpha Mixing Templates"
   ]
  },
  {
   "cell_type": "code",
   "execution_count": 18,
   "metadata": {},
   "outputs": [
    {
     "data": {
      "text/plain": [
       "'\\nsignal1 = scale_down(<cs_operator>(ts_backfill(<data1>,126)));\\n\\nsignal2 = scale_down(<cs_operator>(ts_backfill(<data2>,126)));\\n\\nsignal1 * (1 + signal2)\\n'"
      ]
     },
     "execution_count": 18,
     "metadata": {},
     "output_type": "execute_result"
    }
   ],
   "source": [
    "'''\n",
    "signal1 = scale_down(<cs_operator>(ts_backfill(<data1>,126)));\n",
    "\n",
    "signal2 = scale_down(<cs_operator>(ts_backfill(<data2>,126)));\n",
    "\n",
    "signal1 * (1 + signal2)\n",
    "'''"
   ]
  },
  {
   "cell_type": "markdown",
   "metadata": {},
   "source": [
    "## Read all passed alphas"
   ]
  },
  {
   "cell_type": "code",
   "execution_count": 20,
   "metadata": {},
   "outputs": [
    {
     "data": {
      "text/plain": [
       "['A_signalform.csv',\n",
       " 'B_signalform.csv',\n",
       " 'C_signalform.csv',\n",
       " 'D_signalform.csv',\n",
       " 'pre_signalform.csv',\n",
       " 'Sep03GLB_signalform.csv']"
      ]
     },
     "execution_count": 20,
     "metadata": {},
     "output_type": "execute_result"
    }
   ],
   "source": [
    "#os.chdir('Results/signal')\n",
    "file_direc = glob.glob('*')\n",
    "file_direc"
   ]
  },
  {
   "cell_type": "code",
   "execution_count": null,
   "metadata": {},
   "outputs": [],
   "source": []
  },
  {
   "cell_type": "code",
   "execution_count": 23,
   "metadata": {
    "scrolled": true
   },
   "outputs": [
    {
     "data": {
      "text/plain": [
       "{'A': 0     pro_A_0 = oth460_1l_acda;stock_A_0 = ts_zscore...\n",
       " 1     pro_A_1 = oth460_1l_ccns;stock_A_1 = ts_zscore...\n",
       " 2     pro_A_2 = oth460_1l_ccns;stock_A_2 = ts_zscore...\n",
       " 3     pro_A_3 = oth460_1l_acda;stock_A_3 = ts_zscore...\n",
       " 4     pro_A_4 = oth460_1l_m3r_mtn_spb_se;stock_A_4 =...\n",
       "                             ...                        \n",
       " 75    pro_A_75 = oth460_1l_ccns;stock_A_75 = ts_zsco...\n",
       " 76    pro_A_76 = oth460_1l_acda;stock_A_76 = ts_zsco...\n",
       " 77    pro_A_77 = oth460_1l_acda;stock_A_77 = ts_zsco...\n",
       " 78    pro_A_78 = oth460_1l_acda;stock_A_78 = ts_zsco...\n",
       " 79    pro_A_79 = oth460_1l_acda;stock_A_79 = ts_zsco...\n",
       " Name: expression, Length: 80, dtype: object,\n",
       " 'B': 0     entry_B_0 = ts_rank( ts_std_dev(oth460_3l_vlc,...\n",
       " 1     entry_B_1 = ts_rank( ts_std_dev(oth460_1l_1dls...\n",
       " 2     entry_B_2 = ts_rank( ts_std_dev(oth460_1l_aiec...\n",
       " 3     entry_B_3 = ts_rank( ts_std_dev(oth460_veia_l2...\n",
       " 4     entry_B_4 = ts_rank( ts_std_dev(oth460_3l_vlc,...\n",
       "                             ...                        \n",
       " 67    entry_B_67 = ts_rank( ts_std_dev(oth460_1l_aie...\n",
       " 68    entry_B_68 = ts_rank( ts_std_dev(oth460_1l_1dl...\n",
       " 69    entry_B_69 = ts_rank( ts_std_dev(oth460_1l_2dl...\n",
       " 70    entry_B_70 = ts_rank( ts_std_dev(oth460_clv_cl...\n",
       " 71    entry_B_71 = ts_rank( ts_std_dev(oth460_3l_vlc...\n",
       " Name: expression, Length: 72, dtype: object,\n",
       " 'C': 0     x_C_0 = regression_neut(implied_volatility_mea...\n",
       " 1     x_C_1 = regression_neut(implied_volatility_cal...\n",
       " 2     x_C_2 = regression_neut(implied_volatility_cal...\n",
       " 3     x_C_3 = regression_neut(implied_volatility_mea...\n",
       " 4     x_C_4 = regression_neut(implied_volatility_put...\n",
       " 5     x_C_5 = regression_neut(implied_volatility_cal...\n",
       " 6     x_C_6 = regression_neut(historical_volatility_...\n",
       " 7     x_C_7 = regression_neut(historical_volatility_...\n",
       " 8     x_C_8 = regression_neut(historical_volatility_...\n",
       " 9     x_C_9 = regression_neut(historical_volatility_...\n",
       " 10    x_C_10 = regression_neut(implied_volatility_me...\n",
       " 11    x_C_11 = regression_neut(implied_volatility_me...\n",
       " 12    x_C_12 = regression_neut(implied_volatility_ca...\n",
       " 13    x_C_13 = regression_neut(implied_volatility_me...\n",
       " 14    x_C_14 = regression_neut(historical_volatility...\n",
       " Name: expression, dtype: object,\n",
       " 'D': 0     WR_D_0 = (high-close)/(high-low) * -100;cond_D...\n",
       " 1     WR_D_1 = (high-close)/(high-low) * -100;cond_D...\n",
       " 2     WR_D_2 = (high-close)/(high-low) * -100;cond_D...\n",
       " 3     WR_D_3 = (high-close)/(high-low) * -100;cond_D...\n",
       " 4     WR_D_4 = (high-close)/(high-low) * -100;cond_D...\n",
       " 5     WR_D_5 = (high-close)/(high-low) * -100;cond_D...\n",
       " 6     WR_D_6 = (high-close)/(high-low) * -100;cond_D...\n",
       " 7     WR_D_7 = (high-close)/(high-low) * -100;cond_D...\n",
       " 8     WR_D_8 = (high-close)/(high-low) * -100;cond_D...\n",
       " 9     WR_D_9 = (high-close)/(high-low) * -100;cond_D...\n",
       " 10    WR_D_10 = (high-close)/(high-low) * -100;cond_...\n",
       " 11    WR_D_11 = (high-close)/(high-low) * -100;cond_...\n",
       " 12    WR_D_12 = (high-close)/(high-low) * -100;cond_...\n",
       " 13    WR_D_13 = (high-close)/(high-low) * -100;cond_...\n",
       " 14    WR_D_14 = (high-close)/(high-low) * -100;cond_...\n",
       " 15    WR_D_15 = (high-close)/(high-low) * -100;cond_...\n",
       " 16    WR_D_16 = (high-close)/(high-low) * -100;cond_...\n",
       " 17    WR_D_17 = (high-close)/(high-low) * -100;cond_...\n",
       " 18    WR_D_18 = (high-close)/(high-low) * -100;cond_...\n",
       " 19    WR_D_19 = (high-close)/(high-low) * -100;cond_...\n",
       " 20    WR_D_20 = (high-close)/(high-low) * -100;cond_...\n",
       " 21    WR_D_21 = (high-close)/(high-low) * -100;cond_...\n",
       " 22    WR_D_22 = (high-close)/(high-low) * -100;cond_...\n",
       " 23    WR_D_23 = (high-close)/(high-low) * -100;cond_...\n",
       " 24    WR_D_24 = (high-close)/(high-low) * -100;cond_...\n",
       " 25    WR_D_25 = (high-close)/(high-low) * -100;cond_...\n",
       " 26    WR_D_26 = (high-close)/(high-low) * -100;cond_...\n",
       " 27    WR_D_27 = (high-close)/(high-low) * -100;cond_...\n",
       " Name: expression, dtype: object,\n",
       " 'pre': 0    sig_pre_0 = group_zscore(ts_zscore(ts_backfill...\n",
       " Name: expression, dtype: object,\n",
       " 'Sep03GLB': 0    group_Sep03GLB_0 = (country+1)*group_max(pv13_...\n",
       " 1    group_Sep03GLB_1 = (country+1)*group_max(pv13_...\n",
       " 2    group_Sep03GLB_2 = (country+1)*group_max(pv13_...\n",
       " 3    group_Sep03GLB_3 = (country+1)*group_max(pv13_...\n",
       " 4    group_Sep03GLB_4 = (country+1)*group_max(pv13_...\n",
       " Name: expression, dtype: object}"
      ]
     },
     "execution_count": 23,
     "metadata": {},
     "output_type": "execute_result"
    }
   ],
   "source": [
    "expressions = {}\n",
    "for file in file_direc:\n",
    "    expressions[file.split('_')[0]] = pd.read_csv(file)['expression']\n",
    "#expressions"
   ]
  },
  {
   "cell_type": "code",
   "execution_count": 25,
   "metadata": {},
   "outputs": [
    {
     "data": {
      "text/plain": [
       "dict_keys(['A', 'B', 'C', 'D', 'pre', 'Sep03GLB'])"
      ]
     },
     "execution_count": 25,
     "metadata": {},
     "output_type": "execute_result"
    }
   ],
   "source": [
    "expressions.keys()"
   ]
  },
  {
   "cell_type": "code",
   "execution_count": 26,
   "metadata": {},
   "outputs": [
    {
     "data": {
      "text/plain": [
       "0    group_Sep03GLB_0 = (country+1)*group_max(pv13_...\n",
       "1    group_Sep03GLB_1 = (country+1)*group_max(pv13_...\n",
       "2    group_Sep03GLB_2 = (country+1)*group_max(pv13_...\n",
       "3    group_Sep03GLB_3 = (country+1)*group_max(pv13_...\n",
       "4    group_Sep03GLB_4 = (country+1)*group_max(pv13_...\n",
       "Name: expression, dtype: object"
      ]
     },
     "execution_count": 26,
     "metadata": {},
     "output_type": "execute_result"
    }
   ],
   "source": [
    "expressions['Sep03GLB']"
   ]
  },
  {
   "cell_type": "markdown",
   "metadata": {},
   "source": [
    "## Template A & Sep03GLB mixing\n",
    "use top 32 results"
   ]
  },
  {
   "cell_type": "code",
   "execution_count": 59,
   "metadata": {},
   "outputs": [],
   "source": [
    "#region= \"GLB\", universe = \"MINVOL1M\", neutralization = 'MARKET', truncation = 0.01"
   ]
  },
  {
   "cell_type": "code",
   "execution_count": 27,
   "metadata": {},
   "outputs": [],
   "source": [
    "A = expressions['A'][:32]\n",
    "Sep03GLB = expressions['Sep03GLB']"
   ]
  },
  {
   "cell_type": "code",
   "execution_count": 29,
   "metadata": {},
   "outputs": [
    {
     "data": {
      "text/plain": [
       "[{'type': 'REGULAR',\n",
       "  'settings': {'instrumentType': 'EQUITY',\n",
       "   'region': 'GLB',\n",
       "   'universe': 'MINVOL1M',\n",
       "   'delay': 1,\n",
       "   'decay': 3,\n",
       "   'neutralization': 'COUNTRY',\n",
       "   'truncation': 0.01,\n",
       "   'pasteurization': 'ON',\n",
       "   'testPeriod': 'P0Y0M0D',\n",
       "   'unitHandling': 'VERIFY',\n",
       "   'nanHandling': 'OFF',\n",
       "   'language': 'FASTEXPR',\n",
       "   'visualization': False},\n",
       "  'regular': 'pro_A_0 = oth460_1l_acda;stock_A_0 = ts_zscore(ts_backfill(anl69_cps_best_eeps_nxt_yr, 21),21);factor_A_0 = group_zscore(ts_ir(returns, 252), industry);alpha_A_0 = regression_neut(stock_A_0, factor_A_0);signal_A_0 = trade_when(pro_A_0<=0.5, alpha_A_0, pro_A_0>0.5);group_Sep03GLB_0 = (country+1)*group_max(pv13_52_minvol_1m_all_delay_1_sector, market) + pv13_52_minvol_1m_all_delay_1_sector;signal_Sep03GLB_0 = group_neutralize(ts_scale(group_backfill(fnd23_intfvalld1_ecns, industry, 252, std=1), 252), densify(group_Sep03GLB_0));add(scale_down(signal_A_0), scale_down(signal_Sep03GLB_0), filter = false)'},\n",
       " {'type': 'REGULAR',\n",
       "  'settings': {'instrumentType': 'EQUITY',\n",
       "   'region': 'GLB',\n",
       "   'universe': 'MINVOL1M',\n",
       "   'delay': 1,\n",
       "   'decay': 3,\n",
       "   'neutralization': 'MARKET',\n",
       "   'truncation': 0.01,\n",
       "   'pasteurization': 'ON',\n",
       "   'testPeriod': 'P0Y0M0D',\n",
       "   'unitHandling': 'VERIFY',\n",
       "   'nanHandling': 'OFF',\n",
       "   'language': 'FASTEXPR',\n",
       "   'visualization': False},\n",
       "  'regular': 'pro_A_0 = oth460_1l_acda;stock_A_0 = ts_zscore(ts_backfill(anl69_cps_best_eeps_nxt_yr, 21),21);factor_A_0 = group_zscore(ts_ir(returns, 252), industry);alpha_A_0 = regression_neut(stock_A_0, factor_A_0);signal_A_0 = trade_when(pro_A_0<=0.5, alpha_A_0, pro_A_0>0.5);group_Sep03GLB_0 = (country+1)*group_max(pv13_52_minvol_1m_all_delay_1_sector, market) + pv13_52_minvol_1m_all_delay_1_sector;signal_Sep03GLB_0 = group_neutralize(ts_scale(group_backfill(fnd23_intfvalld1_ecns, industry, 252, std=1), 252), densify(group_Sep03GLB_0));add(scale_down(signal_A_0), scale_down(signal_Sep03GLB_0), filter = false)'},\n",
       " {'type': 'REGULAR',\n",
       "  'settings': {'instrumentType': 'EQUITY',\n",
       "   'region': 'GLB',\n",
       "   'universe': 'MINVOL1M',\n",
       "   'delay': 1,\n",
       "   'decay': 3,\n",
       "   'neutralization': 'COUNTRY',\n",
       "   'truncation': 0.01,\n",
       "   'pasteurization': 'ON',\n",
       "   'testPeriod': 'P0Y0M0D',\n",
       "   'unitHandling': 'VERIFY',\n",
       "   'nanHandling': 'OFF',\n",
       "   'language': 'FASTEXPR',\n",
       "   'visualization': False},\n",
       "  'regular': 'pro_A_0 = oth460_1l_acda;stock_A_0 = ts_zscore(ts_backfill(anl69_cps_best_eeps_nxt_yr, 21),21);factor_A_0 = group_zscore(ts_ir(returns, 252), industry);alpha_A_0 = regression_neut(stock_A_0, factor_A_0);signal_A_0 = trade_when(pro_A_0<=0.5, alpha_A_0, pro_A_0>0.5);group_Sep03GLB_1 = (country+1)*group_max(pv13_52_minvol_1m_all_delay_1_sector, market) + pv13_52_minvol_1m_all_delay_1_sector;signal_Sep03GLB_1 = group_neutralize(ts_scale(group_backfill(fnd23_intfvalld1_ecns, industry, 252, std=1), 252), densify(group_Sep03GLB_1));add(scale_down(signal_A_0), scale_down(signal_Sep03GLB_1), filter = false)'},\n",
       " {'type': 'REGULAR',\n",
       "  'settings': {'instrumentType': 'EQUITY',\n",
       "   'region': 'GLB',\n",
       "   'universe': 'MINVOL1M',\n",
       "   'delay': 1,\n",
       "   'decay': 3,\n",
       "   'neutralization': 'MARKET',\n",
       "   'truncation': 0.01,\n",
       "   'pasteurization': 'ON',\n",
       "   'testPeriod': 'P0Y0M0D',\n",
       "   'unitHandling': 'VERIFY',\n",
       "   'nanHandling': 'OFF',\n",
       "   'language': 'FASTEXPR',\n",
       "   'visualization': False},\n",
       "  'regular': 'pro_A_0 = oth460_1l_acda;stock_A_0 = ts_zscore(ts_backfill(anl69_cps_best_eeps_nxt_yr, 21),21);factor_A_0 = group_zscore(ts_ir(returns, 252), industry);alpha_A_0 = regression_neut(stock_A_0, factor_A_0);signal_A_0 = trade_when(pro_A_0<=0.5, alpha_A_0, pro_A_0>0.5);group_Sep03GLB_1 = (country+1)*group_max(pv13_52_minvol_1m_all_delay_1_sector, market) + pv13_52_minvol_1m_all_delay_1_sector;signal_Sep03GLB_1 = group_neutralize(ts_scale(group_backfill(fnd23_intfvalld1_ecns, industry, 252, std=1), 252), densify(group_Sep03GLB_1));add(scale_down(signal_A_0), scale_down(signal_Sep03GLB_1), filter = false)'},\n",
       " {'type': 'REGULAR',\n",
       "  'settings': {'instrumentType': 'EQUITY',\n",
       "   'region': 'GLB',\n",
       "   'universe': 'MINVOL1M',\n",
       "   'delay': 1,\n",
       "   'decay': 3,\n",
       "   'neutralization': 'COUNTRY',\n",
       "   'truncation': 0.01,\n",
       "   'pasteurization': 'ON',\n",
       "   'testPeriod': 'P0Y0M0D',\n",
       "   'unitHandling': 'VERIFY',\n",
       "   'nanHandling': 'OFF',\n",
       "   'language': 'FASTEXPR',\n",
       "   'visualization': False},\n",
       "  'regular': 'pro_A_1 = oth460_1l_ccns;stock_A_1 = ts_zscore(ts_backfill(anl69_cpss_best_eeps_nxt_yr, 21),21);factor_A_1 = group_zscore(ts_ir(returns, 252), industry);alpha_A_1 = regression_neut(stock_A_1, factor_A_1);signal_A_1 = trade_when(pro_A_1<=0.5, alpha_A_1, pro_A_1>0.5);group_Sep03GLB_0 = (country+1)*group_max(pv13_52_minvol_1m_all_delay_1_sector, market) + pv13_52_minvol_1m_all_delay_1_sector;signal_Sep03GLB_0 = group_neutralize(ts_scale(group_backfill(fnd23_intfvalld1_ecns, industry, 252, std=1), 252), densify(group_Sep03GLB_0));add(scale_down(signal_A_1), scale_down(signal_Sep03GLB_0), filter = false)'},\n",
       " {'type': 'REGULAR',\n",
       "  'settings': {'instrumentType': 'EQUITY',\n",
       "   'region': 'GLB',\n",
       "   'universe': 'MINVOL1M',\n",
       "   'delay': 1,\n",
       "   'decay': 3,\n",
       "   'neutralization': 'MARKET',\n",
       "   'truncation': 0.01,\n",
       "   'pasteurization': 'ON',\n",
       "   'testPeriod': 'P0Y0M0D',\n",
       "   'unitHandling': 'VERIFY',\n",
       "   'nanHandling': 'OFF',\n",
       "   'language': 'FASTEXPR',\n",
       "   'visualization': False},\n",
       "  'regular': 'pro_A_1 = oth460_1l_ccns;stock_A_1 = ts_zscore(ts_backfill(anl69_cpss_best_eeps_nxt_yr, 21),21);factor_A_1 = group_zscore(ts_ir(returns, 252), industry);alpha_A_1 = regression_neut(stock_A_1, factor_A_1);signal_A_1 = trade_when(pro_A_1<=0.5, alpha_A_1, pro_A_1>0.5);group_Sep03GLB_0 = (country+1)*group_max(pv13_52_minvol_1m_all_delay_1_sector, market) + pv13_52_minvol_1m_all_delay_1_sector;signal_Sep03GLB_0 = group_neutralize(ts_scale(group_backfill(fnd23_intfvalld1_ecns, industry, 252, std=1), 252), densify(group_Sep03GLB_0));add(scale_down(signal_A_1), scale_down(signal_Sep03GLB_0), filter = false)'},\n",
       " {'type': 'REGULAR',\n",
       "  'settings': {'instrumentType': 'EQUITY',\n",
       "   'region': 'GLB',\n",
       "   'universe': 'MINVOL1M',\n",
       "   'delay': 1,\n",
       "   'decay': 3,\n",
       "   'neutralization': 'COUNTRY',\n",
       "   'truncation': 0.01,\n",
       "   'pasteurization': 'ON',\n",
       "   'testPeriod': 'P0Y0M0D',\n",
       "   'unitHandling': 'VERIFY',\n",
       "   'nanHandling': 'OFF',\n",
       "   'language': 'FASTEXPR',\n",
       "   'visualization': False},\n",
       "  'regular': 'pro_A_1 = oth460_1l_ccns;stock_A_1 = ts_zscore(ts_backfill(anl69_cpss_best_eeps_nxt_yr, 21),21);factor_A_1 = group_zscore(ts_ir(returns, 252), industry);alpha_A_1 = regression_neut(stock_A_1, factor_A_1);signal_A_1 = trade_when(pro_A_1<=0.5, alpha_A_1, pro_A_1>0.5);group_Sep03GLB_1 = (country+1)*group_max(pv13_52_minvol_1m_all_delay_1_sector, market) + pv13_52_minvol_1m_all_delay_1_sector;signal_Sep03GLB_1 = group_neutralize(ts_scale(group_backfill(fnd23_intfvalld1_ecns, industry, 252, std=1), 252), densify(group_Sep03GLB_1));add(scale_down(signal_A_1), scale_down(signal_Sep03GLB_1), filter = false)'},\n",
       " {'type': 'REGULAR',\n",
       "  'settings': {'instrumentType': 'EQUITY',\n",
       "   'region': 'GLB',\n",
       "   'universe': 'MINVOL1M',\n",
       "   'delay': 1,\n",
       "   'decay': 3,\n",
       "   'neutralization': 'MARKET',\n",
       "   'truncation': 0.01,\n",
       "   'pasteurization': 'ON',\n",
       "   'testPeriod': 'P0Y0M0D',\n",
       "   'unitHandling': 'VERIFY',\n",
       "   'nanHandling': 'OFF',\n",
       "   'language': 'FASTEXPR',\n",
       "   'visualization': False},\n",
       "  'regular': 'pro_A_1 = oth460_1l_ccns;stock_A_1 = ts_zscore(ts_backfill(anl69_cpss_best_eeps_nxt_yr, 21),21);factor_A_1 = group_zscore(ts_ir(returns, 252), industry);alpha_A_1 = regression_neut(stock_A_1, factor_A_1);signal_A_1 = trade_when(pro_A_1<=0.5, alpha_A_1, pro_A_1>0.5);group_Sep03GLB_1 = (country+1)*group_max(pv13_52_minvol_1m_all_delay_1_sector, market) + pv13_52_minvol_1m_all_delay_1_sector;signal_Sep03GLB_1 = group_neutralize(ts_scale(group_backfill(fnd23_intfvalld1_ecns, industry, 252, std=1), 252), densify(group_Sep03GLB_1));add(scale_down(signal_A_1), scale_down(signal_Sep03GLB_1), filter = false)'},\n",
       " {'type': 'REGULAR',\n",
       "  'settings': {'instrumentType': 'EQUITY',\n",
       "   'region': 'GLB',\n",
       "   'universe': 'MINVOL1M',\n",
       "   'delay': 1,\n",
       "   'decay': 3,\n",
       "   'neutralization': 'COUNTRY',\n",
       "   'truncation': 0.01,\n",
       "   'pasteurization': 'ON',\n",
       "   'testPeriod': 'P0Y0M0D',\n",
       "   'unitHandling': 'VERIFY',\n",
       "   'nanHandling': 'OFF',\n",
       "   'language': 'FASTEXPR',\n",
       "   'visualization': False},\n",
       "  'regular': 'pro_A_2 = oth460_1l_ccns;stock_A_2 = ts_zscore(ts_backfill(anl69_cpss_best_eeps_nxt_yr, 21),21);factor_A_2 = group_zscore(ts_ir(returns, 252), industry);alpha_A_2 = vector_neut(stock_A_2, factor_A_2);signal_A_2 = trade_when(pro_A_2<=0.5, alpha_A_2, pro_A_2>0.5);group_Sep03GLB_0 = (country+1)*group_max(pv13_52_minvol_1m_all_delay_1_sector, market) + pv13_52_minvol_1m_all_delay_1_sector;signal_Sep03GLB_0 = group_neutralize(ts_scale(group_backfill(fnd23_intfvalld1_ecns, industry, 252, std=1), 252), densify(group_Sep03GLB_0));add(scale_down(signal_A_2), scale_down(signal_Sep03GLB_0), filter = false)'},\n",
       " {'type': 'REGULAR',\n",
       "  'settings': {'instrumentType': 'EQUITY',\n",
       "   'region': 'GLB',\n",
       "   'universe': 'MINVOL1M',\n",
       "   'delay': 1,\n",
       "   'decay': 3,\n",
       "   'neutralization': 'MARKET',\n",
       "   'truncation': 0.01,\n",
       "   'pasteurization': 'ON',\n",
       "   'testPeriod': 'P0Y0M0D',\n",
       "   'unitHandling': 'VERIFY',\n",
       "   'nanHandling': 'OFF',\n",
       "   'language': 'FASTEXPR',\n",
       "   'visualization': False},\n",
       "  'regular': 'pro_A_2 = oth460_1l_ccns;stock_A_2 = ts_zscore(ts_backfill(anl69_cpss_best_eeps_nxt_yr, 21),21);factor_A_2 = group_zscore(ts_ir(returns, 252), industry);alpha_A_2 = vector_neut(stock_A_2, factor_A_2);signal_A_2 = trade_when(pro_A_2<=0.5, alpha_A_2, pro_A_2>0.5);group_Sep03GLB_0 = (country+1)*group_max(pv13_52_minvol_1m_all_delay_1_sector, market) + pv13_52_minvol_1m_all_delay_1_sector;signal_Sep03GLB_0 = group_neutralize(ts_scale(group_backfill(fnd23_intfvalld1_ecns, industry, 252, std=1), 252), densify(group_Sep03GLB_0));add(scale_down(signal_A_2), scale_down(signal_Sep03GLB_0), filter = false)'},\n",
       " {'type': 'REGULAR',\n",
       "  'settings': {'instrumentType': 'EQUITY',\n",
       "   'region': 'GLB',\n",
       "   'universe': 'MINVOL1M',\n",
       "   'delay': 1,\n",
       "   'decay': 3,\n",
       "   'neutralization': 'COUNTRY',\n",
       "   'truncation': 0.01,\n",
       "   'pasteurization': 'ON',\n",
       "   'testPeriod': 'P0Y0M0D',\n",
       "   'unitHandling': 'VERIFY',\n",
       "   'nanHandling': 'OFF',\n",
       "   'language': 'FASTEXPR',\n",
       "   'visualization': False},\n",
       "  'regular': 'pro_A_2 = oth460_1l_ccns;stock_A_2 = ts_zscore(ts_backfill(anl69_cpss_best_eeps_nxt_yr, 21),21);factor_A_2 = group_zscore(ts_ir(returns, 252), industry);alpha_A_2 = vector_neut(stock_A_2, factor_A_2);signal_A_2 = trade_when(pro_A_2<=0.5, alpha_A_2, pro_A_2>0.5);group_Sep03GLB_1 = (country+1)*group_max(pv13_52_minvol_1m_all_delay_1_sector, market) + pv13_52_minvol_1m_all_delay_1_sector;signal_Sep03GLB_1 = group_neutralize(ts_scale(group_backfill(fnd23_intfvalld1_ecns, industry, 252, std=1), 252), densify(group_Sep03GLB_1));add(scale_down(signal_A_2), scale_down(signal_Sep03GLB_1), filter = false)'},\n",
       " {'type': 'REGULAR',\n",
       "  'settings': {'instrumentType': 'EQUITY',\n",
       "   'region': 'GLB',\n",
       "   'universe': 'MINVOL1M',\n",
       "   'delay': 1,\n",
       "   'decay': 3,\n",
       "   'neutralization': 'MARKET',\n",
       "   'truncation': 0.01,\n",
       "   'pasteurization': 'ON',\n",
       "   'testPeriod': 'P0Y0M0D',\n",
       "   'unitHandling': 'VERIFY',\n",
       "   'nanHandling': 'OFF',\n",
       "   'language': 'FASTEXPR',\n",
       "   'visualization': False},\n",
       "  'regular': 'pro_A_2 = oth460_1l_ccns;stock_A_2 = ts_zscore(ts_backfill(anl69_cpss_best_eeps_nxt_yr, 21),21);factor_A_2 = group_zscore(ts_ir(returns, 252), industry);alpha_A_2 = vector_neut(stock_A_2, factor_A_2);signal_A_2 = trade_when(pro_A_2<=0.5, alpha_A_2, pro_A_2>0.5);group_Sep03GLB_1 = (country+1)*group_max(pv13_52_minvol_1m_all_delay_1_sector, market) + pv13_52_minvol_1m_all_delay_1_sector;signal_Sep03GLB_1 = group_neutralize(ts_scale(group_backfill(fnd23_intfvalld1_ecns, industry, 252, std=1), 252), densify(group_Sep03GLB_1));add(scale_down(signal_A_2), scale_down(signal_Sep03GLB_1), filter = false)'}]"
      ]
     },
     "execution_count": 29,
     "metadata": {},
     "output_type": "execute_result"
    }
   ],
   "source": [
    "alpha_list_ASep03GLB = []\n",
    "\n",
    "for i in range(3):\n",
    "    for j in range(2):\n",
    "        alpha_list_ASep03GLB += [ace.generate_alpha(f'{A[i]};{Sep03GLB[j]};add(scale_down(signal_A_{i}), scale_down(signal_Sep03GLB_{j}), filter = false)', region= \"GLB\", universe = \"MINVOL1M\", neutralization = x, truncation = 0.01, decay = 3) for x in ['COUNTRY', 'MARKET']]\n",
    "\n",
    "alpha_list_ASep03GLB"
   ]
  },
  {
   "cell_type": "code",
   "execution_count": 31,
   "metadata": {},
   "outputs": [
    {
     "name": "stderr",
     "output_type": "stream",
     "text": [
      "100%|███████████████████████████████████████████████████████████████████████████████████| 4/4 [22:04<00:00, 331.07s/it]\n"
     ]
    }
   ],
   "source": [
    "result = ace.simulate_alpha_list_multi(s, alpha_list_ASep03GLB)"
   ]
  },
  {
   "cell_type": "code",
   "execution_count": 32,
   "metadata": {
    "scrolled": true
   },
   "outputs": [
    {
     "data": {
      "text/html": [
       "<div>\n",
       "<style scoped>\n",
       "    .dataframe tbody tr th:only-of-type {\n",
       "        vertical-align: middle;\n",
       "    }\n",
       "\n",
       "    .dataframe tbody tr th {\n",
       "        vertical-align: top;\n",
       "    }\n",
       "\n",
       "    .dataframe thead th {\n",
       "        text-align: right;\n",
       "    }\n",
       "</style>\n",
       "<table border=\"1\" class=\"dataframe\">\n",
       "  <thead>\n",
       "    <tr style=\"text-align: right;\">\n",
       "      <th></th>\n",
       "      <th>pnl</th>\n",
       "      <th>book_size</th>\n",
       "      <th>long_count</th>\n",
       "      <th>short_count</th>\n",
       "      <th>turnover</th>\n",
       "      <th>returns</th>\n",
       "      <th>drawdown</th>\n",
       "      <th>margin</th>\n",
       "      <th>fitness</th>\n",
       "      <th>sharpe</th>\n",
       "      <th>start_date</th>\n",
       "      <th>alpha_id</th>\n",
       "      <th>expression</th>\n",
       "      <th>concentrated_weight</th>\n",
       "      <th>high_turnover</th>\n",
       "      <th>is_ladder_sharpe</th>\n",
       "      <th>low_fitness</th>\n",
       "      <th>low_sharpe</th>\n",
       "      <th>low_sub_universe_sharpe</th>\n",
       "      <th>low_turnover</th>\n",
       "    </tr>\n",
       "  </thead>\n",
       "  <tbody>\n",
       "    <tr>\n",
       "      <th>0</th>\n",
       "      <td>7067883</td>\n",
       "      <td>20000000</td>\n",
       "      <td>1756</td>\n",
       "      <td>1698</td>\n",
       "      <td>0.1395</td>\n",
       "      <td>0.0682</td>\n",
       "      <td>0.0210</td>\n",
       "      <td>0.000978</td>\n",
       "      <td>2.08</td>\n",
       "      <td>2.97</td>\n",
       "      <td>2012-01-22</td>\n",
       "      <td>5wmQEZo</td>\n",
       "      <td>pro_A_0 = oth460_1l_acda;stock_A_0 = ts_zscore...</td>\n",
       "      <td>PASS</td>\n",
       "      <td>PASS</td>\n",
       "      <td>PASS</td>\n",
       "      <td>PASS</td>\n",
       "      <td>PASS</td>\n",
       "      <td>PASS</td>\n",
       "      <td>PASS</td>\n",
       "    </tr>\n",
       "    <tr>\n",
       "      <th>1</th>\n",
       "      <td>8547650</td>\n",
       "      <td>20000000</td>\n",
       "      <td>1755</td>\n",
       "      <td>1700</td>\n",
       "      <td>0.1312</td>\n",
       "      <td>0.0825</td>\n",
       "      <td>0.0563</td>\n",
       "      <td>0.001258</td>\n",
       "      <td>1.58</td>\n",
       "      <td>1.99</td>\n",
       "      <td>2012-01-22</td>\n",
       "      <td>g1lQeJK</td>\n",
       "      <td>pro_A_0 = oth460_1l_acda;stock_A_0 = ts_zscore...</td>\n",
       "      <td>PASS</td>\n",
       "      <td>PASS</td>\n",
       "      <td>PASS</td>\n",
       "      <td>PASS</td>\n",
       "      <td>PASS</td>\n",
       "      <td>PASS</td>\n",
       "      <td>PASS</td>\n",
       "    </tr>\n",
       "    <tr>\n",
       "      <th>2</th>\n",
       "      <td>7201181</td>\n",
       "      <td>20000000</td>\n",
       "      <td>879</td>\n",
       "      <td>1280</td>\n",
       "      <td>0.1983</td>\n",
       "      <td>0.0695</td>\n",
       "      <td>0.0335</td>\n",
       "      <td>0.000701</td>\n",
       "      <td>1.23</td>\n",
       "      <td>2.08</td>\n",
       "      <td>2012-01-22</td>\n",
       "      <td>Lpv95km</td>\n",
       "      <td>pro_A_2 = oth460_1l_ccns;stock_A_2 = ts_zscore...</td>\n",
       "      <td>PASS</td>\n",
       "      <td>PASS</td>\n",
       "      <td>FAIL</td>\n",
       "      <td>PASS</td>\n",
       "      <td>PASS</td>\n",
       "      <td>FAIL</td>\n",
       "      <td>PASS</td>\n",
       "    </tr>\n",
       "    <tr>\n",
       "      <th>3</th>\n",
       "      <td>6850265</td>\n",
       "      <td>20000000</td>\n",
       "      <td>873</td>\n",
       "      <td>1288</td>\n",
       "      <td>0.1957</td>\n",
       "      <td>0.0661</td>\n",
       "      <td>0.0330</td>\n",
       "      <td>0.000676</td>\n",
       "      <td>1.20</td>\n",
       "      <td>2.06</td>\n",
       "      <td>2012-01-22</td>\n",
       "      <td>p62PvnX</td>\n",
       "      <td>pro_A_1 = oth460_1l_ccns;stock_A_1 = ts_zscore...</td>\n",
       "      <td>PASS</td>\n",
       "      <td>PASS</td>\n",
       "      <td>FAIL</td>\n",
       "      <td>PASS</td>\n",
       "      <td>PASS</td>\n",
       "      <td>FAIL</td>\n",
       "      <td>PASS</td>\n",
       "    </tr>\n",
       "    <tr>\n",
       "      <th>4</th>\n",
       "      <td>8228723</td>\n",
       "      <td>20000000</td>\n",
       "      <td>866</td>\n",
       "      <td>1296</td>\n",
       "      <td>0.1821</td>\n",
       "      <td>0.0795</td>\n",
       "      <td>0.0410</td>\n",
       "      <td>0.000873</td>\n",
       "      <td>1.18</td>\n",
       "      <td>1.79</td>\n",
       "      <td>2012-01-22</td>\n",
       "      <td>p62Pp1j</td>\n",
       "      <td>pro_A_2 = oth460_1l_ccns;stock_A_2 = ts_zscore...</td>\n",
       "      <td>PASS</td>\n",
       "      <td>PASS</td>\n",
       "      <td>FAIL</td>\n",
       "      <td>PASS</td>\n",
       "      <td>PASS</td>\n",
       "      <td>FAIL</td>\n",
       "      <td>PASS</td>\n",
       "    </tr>\n",
       "    <tr>\n",
       "      <th>5</th>\n",
       "      <td>7961367</td>\n",
       "      <td>20000000</td>\n",
       "      <td>860</td>\n",
       "      <td>1302</td>\n",
       "      <td>0.1795</td>\n",
       "      <td>0.0769</td>\n",
       "      <td>0.0425</td>\n",
       "      <td>0.000857</td>\n",
       "      <td>1.17</td>\n",
       "      <td>1.78</td>\n",
       "      <td>2012-01-22</td>\n",
       "      <td>178xjoX</td>\n",
       "      <td>pro_A_1 = oth460_1l_ccns;stock_A_1 = ts_zscore...</td>\n",
       "      <td>PASS</td>\n",
       "      <td>PASS</td>\n",
       "      <td>FAIL</td>\n",
       "      <td>PASS</td>\n",
       "      <td>PASS</td>\n",
       "      <td>FAIL</td>\n",
       "      <td>PASS</td>\n",
       "    </tr>\n",
       "  </tbody>\n",
       "</table>\n",
       "</div>"
      ],
      "text/plain": [
       "       pnl  book_size  long_count  short_count  turnover  returns  drawdown  \\\n",
       "0  7067883   20000000        1756         1698    0.1395   0.0682    0.0210   \n",
       "1  8547650   20000000        1755         1700    0.1312   0.0825    0.0563   \n",
       "2  7201181   20000000         879         1280    0.1983   0.0695    0.0335   \n",
       "3  6850265   20000000         873         1288    0.1957   0.0661    0.0330   \n",
       "4  8228723   20000000         866         1296    0.1821   0.0795    0.0410   \n",
       "5  7961367   20000000         860         1302    0.1795   0.0769    0.0425   \n",
       "\n",
       "     margin  fitness  sharpe  start_date alpha_id  \\\n",
       "0  0.000978     2.08    2.97  2012-01-22  5wmQEZo   \n",
       "1  0.001258     1.58    1.99  2012-01-22  g1lQeJK   \n",
       "2  0.000701     1.23    2.08  2012-01-22  Lpv95km   \n",
       "3  0.000676     1.20    2.06  2012-01-22  p62PvnX   \n",
       "4  0.000873     1.18    1.79  2012-01-22  p62Pp1j   \n",
       "5  0.000857     1.17    1.78  2012-01-22  178xjoX   \n",
       "\n",
       "                                          expression concentrated_weight  \\\n",
       "0  pro_A_0 = oth460_1l_acda;stock_A_0 = ts_zscore...                PASS   \n",
       "1  pro_A_0 = oth460_1l_acda;stock_A_0 = ts_zscore...                PASS   \n",
       "2  pro_A_2 = oth460_1l_ccns;stock_A_2 = ts_zscore...                PASS   \n",
       "3  pro_A_1 = oth460_1l_ccns;stock_A_1 = ts_zscore...                PASS   \n",
       "4  pro_A_2 = oth460_1l_ccns;stock_A_2 = ts_zscore...                PASS   \n",
       "5  pro_A_1 = oth460_1l_ccns;stock_A_1 = ts_zscore...                PASS   \n",
       "\n",
       "  high_turnover is_ladder_sharpe low_fitness low_sharpe  \\\n",
       "0          PASS             PASS        PASS       PASS   \n",
       "1          PASS             PASS        PASS       PASS   \n",
       "2          PASS             FAIL        PASS       PASS   \n",
       "3          PASS             FAIL        PASS       PASS   \n",
       "4          PASS             FAIL        PASS       PASS   \n",
       "5          PASS             FAIL        PASS       PASS   \n",
       "\n",
       "  low_sub_universe_sharpe low_turnover  \n",
       "0                    PASS         PASS  \n",
       "1                    PASS         PASS  \n",
       "2                    FAIL         PASS  \n",
       "3                    FAIL         PASS  \n",
       "4                    FAIL         PASS  \n",
       "5                    FAIL         PASS  "
      ]
     },
     "execution_count": 32,
     "metadata": {},
     "output_type": "execute_result"
    }
   ],
   "source": [
    "#prettify_result function can be used from the helpful_functions library to take a look at IS stats of all the simulated alphas\n",
    "\n",
    "result_st1 = hf.prettify_result(result, detailed_tests_view=False)\n",
    "result_st1"
   ]
  },
  {
   "cell_type": "code",
   "execution_count": 33,
   "metadata": {},
   "outputs": [],
   "source": [
    "result_st1.to_csv('A&Sep03GLB_mixing_add.csv')"
   ]
  },
  {
   "cell_type": "code",
   "execution_count": 34,
   "metadata": {
    "scrolled": true
   },
   "outputs": [
    {
     "data": {
      "text/html": [
       "<div>\n",
       "<style scoped>\n",
       "    .dataframe tbody tr th:only-of-type {\n",
       "        vertical-align: middle;\n",
       "    }\n",
       "\n",
       "    .dataframe tbody tr th {\n",
       "        vertical-align: top;\n",
       "    }\n",
       "\n",
       "    .dataframe thead th {\n",
       "        text-align: right;\n",
       "    }\n",
       "</style>\n",
       "<table border=\"1\" class=\"dataframe\">\n",
       "  <thead>\n",
       "    <tr style=\"text-align: right;\">\n",
       "      <th></th>\n",
       "      <th>alpha_id</th>\n",
       "      <th>endDate</th>\n",
       "      <th>limit</th>\n",
       "      <th>message</th>\n",
       "      <th>name</th>\n",
       "      <th>result</th>\n",
       "      <th>startDate</th>\n",
       "      <th>themes</th>\n",
       "      <th>value</th>\n",
       "      <th>year</th>\n",
       "    </tr>\n",
       "  </thead>\n",
       "  <tbody>\n",
       "    <tr>\n",
       "      <th>0</th>\n",
       "      <td>p62PvnX</td>\n",
       "      <td>NaN</td>\n",
       "      <td>1.58</td>\n",
       "      <td>NaN</td>\n",
       "      <td>LOW_SHARPE</td>\n",
       "      <td>PASS</td>\n",
       "      <td>NaN</td>\n",
       "      <td>NaN</td>\n",
       "      <td>2.0600</td>\n",
       "      <td>NaN</td>\n",
       "    </tr>\n",
       "    <tr>\n",
       "      <th>1</th>\n",
       "      <td>p62PvnX</td>\n",
       "      <td>NaN</td>\n",
       "      <td>1.00</td>\n",
       "      <td>NaN</td>\n",
       "      <td>LOW_FITNESS</td>\n",
       "      <td>PASS</td>\n",
       "      <td>NaN</td>\n",
       "      <td>NaN</td>\n",
       "      <td>1.2000</td>\n",
       "      <td>NaN</td>\n",
       "    </tr>\n",
       "    <tr>\n",
       "      <th>2</th>\n",
       "      <td>p62PvnX</td>\n",
       "      <td>NaN</td>\n",
       "      <td>0.01</td>\n",
       "      <td>NaN</td>\n",
       "      <td>LOW_TURNOVER</td>\n",
       "      <td>PASS</td>\n",
       "      <td>NaN</td>\n",
       "      <td>NaN</td>\n",
       "      <td>0.1957</td>\n",
       "      <td>NaN</td>\n",
       "    </tr>\n",
       "    <tr>\n",
       "      <th>3</th>\n",
       "      <td>p62PvnX</td>\n",
       "      <td>NaN</td>\n",
       "      <td>0.70</td>\n",
       "      <td>NaN</td>\n",
       "      <td>HIGH_TURNOVER</td>\n",
       "      <td>PASS</td>\n",
       "      <td>NaN</td>\n",
       "      <td>NaN</td>\n",
       "      <td>0.1957</td>\n",
       "      <td>NaN</td>\n",
       "    </tr>\n",
       "    <tr>\n",
       "      <th>4</th>\n",
       "      <td>p62PvnX</td>\n",
       "      <td>NaN</td>\n",
       "      <td>NaN</td>\n",
       "      <td>NaN</td>\n",
       "      <td>CONCENTRATED_WEIGHT</td>\n",
       "      <td>PASS</td>\n",
       "      <td>NaN</td>\n",
       "      <td>NaN</td>\n",
       "      <td>NaN</td>\n",
       "      <td>NaN</td>\n",
       "    </tr>\n",
       "  </tbody>\n",
       "</table>\n",
       "</div>"
      ],
      "text/plain": [
       "  alpha_id endDate  limit message                 name result startDate  \\\n",
       "0  p62PvnX     NaN   1.58     NaN           LOW_SHARPE   PASS       NaN   \n",
       "1  p62PvnX     NaN   1.00     NaN          LOW_FITNESS   PASS       NaN   \n",
       "2  p62PvnX     NaN   0.01     NaN         LOW_TURNOVER   PASS       NaN   \n",
       "3  p62PvnX     NaN   0.70     NaN        HIGH_TURNOVER   PASS       NaN   \n",
       "4  p62PvnX     NaN    NaN     NaN  CONCENTRATED_WEIGHT   PASS       NaN   \n",
       "\n",
       "  themes   value  year  \n",
       "0    NaN  2.0600   NaN  \n",
       "1    NaN  1.2000   NaN  \n",
       "2    NaN  0.1957   NaN  \n",
       "3    NaN  0.1957   NaN  \n",
       "4    NaN     NaN   NaN  "
      ]
     },
     "execution_count": 34,
     "metadata": {},
     "output_type": "execute_result"
    }
   ],
   "source": [
    "#to take a look at the combined result of all new alphas\n",
    "\n",
    "is_tests_df = hf.concat_is_tests(result)\n",
    "is_tests_df.head()"
   ]
  },
  {
   "cell_type": "code",
   "execution_count": 35,
   "metadata": {},
   "outputs": [
    {
     "name": "stdout",
     "output_type": "stream",
     "text": [
      "Failed alphas:['p62PvnX' '178xjoX' 'Lpv95km' 'p62Pp1j']\n",
      "Passed alphas:['5wmQEZo', 'g1lQeJK']\n"
     ]
    }
   ],
   "source": [
    "#making a list of failed alphas\n",
    "failed_alphas = is_tests_df.query('result==\"FAIL\"')['alpha_id'].unique()\n",
    "\n",
    "#making a list of passed alphas\n",
    "passed_alphas = list(set(is_tests_df['alpha_id']).difference(failed_alphas))\n",
    "\n",
    "print(f'Failed alphas:{failed_alphas}\\nPassed alphas:{passed_alphas}')"
   ]
  },
  {
   "cell_type": "code",
   "execution_count": 36,
   "metadata": {},
   "outputs": [],
   "source": [
    "#calling submit_alpha on all alphas that have passed the submission tests\n",
    "for alpha_id in passed_alphas:\n",
    "    hf.set_alpha_properties(s, alpha_id, tags = ['Sep03_mixing'])"
   ]
  },
  {
   "cell_type": "code",
   "execution_count": 37,
   "metadata": {},
   "outputs": [
    {
     "data": {
      "text/plain": [
       "{'5wmQEZo': True, 'g1lQeJK': True}"
      ]
     },
     "execution_count": 37,
     "metadata": {},
     "output_type": "execute_result"
    }
   ],
   "source": [
    "submit_result = {alpha_id: ace.submit_alpha(s, alpha_id) for alpha_id in passed_alphas}\n",
    "submit_result"
   ]
  },
  {
   "cell_type": "markdown",
   "metadata": {},
   "source": [
    "### Library Fuctions.\n",
    "\n",
    "following are some other functions that you can use for your own analysis\n",
    "\n",
    "**get_alpha_pnl(s, alpha_id)** - to get the pnl for an alpha\n",
    "\n",
    "**get_alpha_yearly_stats(s, alpha_id)** - to get yearly statistics for an alpha\n",
    "\n",
    "**get_self_corr(s, alpha_id)** - to get self correlation results for an alpha\n",
    "\n",
    "**get_prod_corr(s, alpha_id)** - to get prod correlation results for an alpha\n",
    "\n",
    "**get_check_submission(s, alpha_id)** - to get check submission result for an alpha\n",
    "\n",
    "**check_self_corr_test(s, alpha_id)** - to check if alpha passes self correlation test (self_corr<0.7)\n",
    "\n",
    "**check_prod_corr_test(s, alpha_id)** - to check if alpha passes prod correlation test (prod_corr<0.7)\n",
    "\n",
    "**perfomance_comparison(s, alpha_id)** - to get the result of performance comparison for an alpha merged performance"
   ]
  },
  {
   "cell_type": "code",
   "execution_count": 37,
   "metadata": {},
   "outputs": [
    {
     "data": {
      "text/html": [
       "<div>\n",
       "<style scoped>\n",
       "    .dataframe tbody tr th:only-of-type {\n",
       "        vertical-align: middle;\n",
       "    }\n",
       "\n",
       "    .dataframe tbody tr th {\n",
       "        vertical-align: top;\n",
       "    }\n",
       "\n",
       "    .dataframe thead th {\n",
       "        text-align: right;\n",
       "    }\n",
       "</style>\n",
       "<table border=\"1\" class=\"dataframe\">\n",
       "  <thead>\n",
       "    <tr style=\"text-align: right;\">\n",
       "      <th></th>\n",
       "      <th>Pnl</th>\n",
       "      <th>alpha_id</th>\n",
       "    </tr>\n",
       "    <tr>\n",
       "      <th>Date</th>\n",
       "      <th></th>\n",
       "      <th></th>\n",
       "    </tr>\n",
       "  </thead>\n",
       "  <tbody>\n",
       "    <tr>\n",
       "      <th>2012-01-23</th>\n",
       "      <td>0.0</td>\n",
       "      <td>dx9ALqJ</td>\n",
       "    </tr>\n",
       "    <tr>\n",
       "      <th>2012-01-24</th>\n",
       "      <td>52190.0</td>\n",
       "      <td>dx9ALqJ</td>\n",
       "    </tr>\n",
       "    <tr>\n",
       "      <th>2012-01-25</th>\n",
       "      <td>32038.0</td>\n",
       "      <td>dx9ALqJ</td>\n",
       "    </tr>\n",
       "    <tr>\n",
       "      <th>2012-01-26</th>\n",
       "      <td>37403.0</td>\n",
       "      <td>dx9ALqJ</td>\n",
       "    </tr>\n",
       "    <tr>\n",
       "      <th>2012-01-27</th>\n",
       "      <td>53631.0</td>\n",
       "      <td>dx9ALqJ</td>\n",
       "    </tr>\n",
       "    <tr>\n",
       "      <th>...</th>\n",
       "      <td>...</td>\n",
       "      <td>...</td>\n",
       "    </tr>\n",
       "    <tr>\n",
       "      <th>2022-01-17</th>\n",
       "      <td>12935472.0</td>\n",
       "      <td>dx9ALqJ</td>\n",
       "    </tr>\n",
       "    <tr>\n",
       "      <th>2022-01-18</th>\n",
       "      <td>12935661.0</td>\n",
       "      <td>dx9ALqJ</td>\n",
       "    </tr>\n",
       "    <tr>\n",
       "      <th>2022-01-19</th>\n",
       "      <td>12967474.0</td>\n",
       "      <td>dx9ALqJ</td>\n",
       "    </tr>\n",
       "    <tr>\n",
       "      <th>2022-01-20</th>\n",
       "      <td>12966156.0</td>\n",
       "      <td>dx9ALqJ</td>\n",
       "    </tr>\n",
       "    <tr>\n",
       "      <th>2022-01-21</th>\n",
       "      <td>12958392.0</td>\n",
       "      <td>dx9ALqJ</td>\n",
       "    </tr>\n",
       "  </tbody>\n",
       "</table>\n",
       "<p>2588 rows × 2 columns</p>\n",
       "</div>"
      ],
      "text/plain": [
       "                   Pnl alpha_id\n",
       "Date                           \n",
       "2012-01-23         0.0  dx9ALqJ\n",
       "2012-01-24     52190.0  dx9ALqJ\n",
       "2012-01-25     32038.0  dx9ALqJ\n",
       "2012-01-26     37403.0  dx9ALqJ\n",
       "2012-01-27     53631.0  dx9ALqJ\n",
       "...                ...      ...\n",
       "2022-01-17  12935472.0  dx9ALqJ\n",
       "2022-01-18  12935661.0  dx9ALqJ\n",
       "2022-01-19  12967474.0  dx9ALqJ\n",
       "2022-01-20  12966156.0  dx9ALqJ\n",
       "2022-01-21  12958392.0  dx9ALqJ\n",
       "\n",
       "[2588 rows x 2 columns]"
      ]
     },
     "execution_count": 37,
     "metadata": {},
     "output_type": "execute_result"
    }
   ],
   "source": [
    "ace.get_alpha_pnl(s, result[0]['alpha_id'])"
   ]
  }
 ],
 "metadata": {
  "availableInstances": [
   {
    "_defaultOrder": 0,
    "_isFastLaunch": true,
    "category": "General purpose",
    "gpuNum": 0,
    "hideHardwareSpecs": false,
    "memoryGiB": 4,
    "name": "ml.t3.medium",
    "vcpuNum": 2
   },
   {
    "_defaultOrder": 1,
    "_isFastLaunch": false,
    "category": "General purpose",
    "gpuNum": 0,
    "hideHardwareSpecs": false,
    "memoryGiB": 8,
    "name": "ml.t3.large",
    "vcpuNum": 2
   },
   {
    "_defaultOrder": 2,
    "_isFastLaunch": false,
    "category": "General purpose",
    "gpuNum": 0,
    "hideHardwareSpecs": false,
    "memoryGiB": 16,
    "name": "ml.t3.xlarge",
    "vcpuNum": 4
   },
   {
    "_defaultOrder": 3,
    "_isFastLaunch": false,
    "category": "General purpose",
    "gpuNum": 0,
    "hideHardwareSpecs": false,
    "memoryGiB": 32,
    "name": "ml.t3.2xlarge",
    "vcpuNum": 8
   },
   {
    "_defaultOrder": 4,
    "_isFastLaunch": true,
    "category": "General purpose",
    "gpuNum": 0,
    "hideHardwareSpecs": false,
    "memoryGiB": 8,
    "name": "ml.m5.large",
    "vcpuNum": 2
   },
   {
    "_defaultOrder": 5,
    "_isFastLaunch": false,
    "category": "General purpose",
    "gpuNum": 0,
    "hideHardwareSpecs": false,
    "memoryGiB": 16,
    "name": "ml.m5.xlarge",
    "vcpuNum": 4
   },
   {
    "_defaultOrder": 6,
    "_isFastLaunch": false,
    "category": "General purpose",
    "gpuNum": 0,
    "hideHardwareSpecs": false,
    "memoryGiB": 32,
    "name": "ml.m5.2xlarge",
    "vcpuNum": 8
   },
   {
    "_defaultOrder": 7,
    "_isFastLaunch": false,
    "category": "General purpose",
    "gpuNum": 0,
    "hideHardwareSpecs": false,
    "memoryGiB": 64,
    "name": "ml.m5.4xlarge",
    "vcpuNum": 16
   },
   {
    "_defaultOrder": 8,
    "_isFastLaunch": false,
    "category": "General purpose",
    "gpuNum": 0,
    "hideHardwareSpecs": false,
    "memoryGiB": 128,
    "name": "ml.m5.8xlarge",
    "vcpuNum": 32
   },
   {
    "_defaultOrder": 9,
    "_isFastLaunch": false,
    "category": "General purpose",
    "gpuNum": 0,
    "hideHardwareSpecs": false,
    "memoryGiB": 192,
    "name": "ml.m5.12xlarge",
    "vcpuNum": 48
   },
   {
    "_defaultOrder": 10,
    "_isFastLaunch": false,
    "category": "General purpose",
    "gpuNum": 0,
    "hideHardwareSpecs": false,
    "memoryGiB": 256,
    "name": "ml.m5.16xlarge",
    "vcpuNum": 64
   },
   {
    "_defaultOrder": 11,
    "_isFastLaunch": false,
    "category": "General purpose",
    "gpuNum": 0,
    "hideHardwareSpecs": false,
    "memoryGiB": 384,
    "name": "ml.m5.24xlarge",
    "vcpuNum": 96
   },
   {
    "_defaultOrder": 12,
    "_isFastLaunch": false,
    "category": "General purpose",
    "gpuNum": 0,
    "hideHardwareSpecs": false,
    "memoryGiB": 8,
    "name": "ml.m5d.large",
    "vcpuNum": 2
   },
   {
    "_defaultOrder": 13,
    "_isFastLaunch": false,
    "category": "General purpose",
    "gpuNum": 0,
    "hideHardwareSpecs": false,
    "memoryGiB": 16,
    "name": "ml.m5d.xlarge",
    "vcpuNum": 4
   },
   {
    "_defaultOrder": 14,
    "_isFastLaunch": false,
    "category": "General purpose",
    "gpuNum": 0,
    "hideHardwareSpecs": false,
    "memoryGiB": 32,
    "name": "ml.m5d.2xlarge",
    "vcpuNum": 8
   },
   {
    "_defaultOrder": 15,
    "_isFastLaunch": false,
    "category": "General purpose",
    "gpuNum": 0,
    "hideHardwareSpecs": false,
    "memoryGiB": 64,
    "name": "ml.m5d.4xlarge",
    "vcpuNum": 16
   },
   {
    "_defaultOrder": 16,
    "_isFastLaunch": false,
    "category": "General purpose",
    "gpuNum": 0,
    "hideHardwareSpecs": false,
    "memoryGiB": 128,
    "name": "ml.m5d.8xlarge",
    "vcpuNum": 32
   },
   {
    "_defaultOrder": 17,
    "_isFastLaunch": false,
    "category": "General purpose",
    "gpuNum": 0,
    "hideHardwareSpecs": false,
    "memoryGiB": 192,
    "name": "ml.m5d.12xlarge",
    "vcpuNum": 48
   },
   {
    "_defaultOrder": 18,
    "_isFastLaunch": false,
    "category": "General purpose",
    "gpuNum": 0,
    "hideHardwareSpecs": false,
    "memoryGiB": 256,
    "name": "ml.m5d.16xlarge",
    "vcpuNum": 64
   },
   {
    "_defaultOrder": 19,
    "_isFastLaunch": false,
    "category": "General purpose",
    "gpuNum": 0,
    "hideHardwareSpecs": false,
    "memoryGiB": 384,
    "name": "ml.m5d.24xlarge",
    "vcpuNum": 96
   },
   {
    "_defaultOrder": 20,
    "_isFastLaunch": false,
    "category": "General purpose",
    "gpuNum": 0,
    "hideHardwareSpecs": true,
    "memoryGiB": 0,
    "name": "ml.geospatial.interactive",
    "supportedImageNames": [
     "sagemaker-geospatial-v1-0"
    ],
    "vcpuNum": 0
   },
   {
    "_defaultOrder": 21,
    "_isFastLaunch": true,
    "category": "Compute optimized",
    "gpuNum": 0,
    "hideHardwareSpecs": false,
    "memoryGiB": 4,
    "name": "ml.c5.large",
    "vcpuNum": 2
   },
   {
    "_defaultOrder": 22,
    "_isFastLaunch": false,
    "category": "Compute optimized",
    "gpuNum": 0,
    "hideHardwareSpecs": false,
    "memoryGiB": 8,
    "name": "ml.c5.xlarge",
    "vcpuNum": 4
   },
   {
    "_defaultOrder": 23,
    "_isFastLaunch": false,
    "category": "Compute optimized",
    "gpuNum": 0,
    "hideHardwareSpecs": false,
    "memoryGiB": 16,
    "name": "ml.c5.2xlarge",
    "vcpuNum": 8
   },
   {
    "_defaultOrder": 24,
    "_isFastLaunch": false,
    "category": "Compute optimized",
    "gpuNum": 0,
    "hideHardwareSpecs": false,
    "memoryGiB": 32,
    "name": "ml.c5.4xlarge",
    "vcpuNum": 16
   },
   {
    "_defaultOrder": 25,
    "_isFastLaunch": false,
    "category": "Compute optimized",
    "gpuNum": 0,
    "hideHardwareSpecs": false,
    "memoryGiB": 72,
    "name": "ml.c5.9xlarge",
    "vcpuNum": 36
   },
   {
    "_defaultOrder": 26,
    "_isFastLaunch": false,
    "category": "Compute optimized",
    "gpuNum": 0,
    "hideHardwareSpecs": false,
    "memoryGiB": 96,
    "name": "ml.c5.12xlarge",
    "vcpuNum": 48
   },
   {
    "_defaultOrder": 27,
    "_isFastLaunch": false,
    "category": "Compute optimized",
    "gpuNum": 0,
    "hideHardwareSpecs": false,
    "memoryGiB": 144,
    "name": "ml.c5.18xlarge",
    "vcpuNum": 72
   },
   {
    "_defaultOrder": 28,
    "_isFastLaunch": false,
    "category": "Compute optimized",
    "gpuNum": 0,
    "hideHardwareSpecs": false,
    "memoryGiB": 192,
    "name": "ml.c5.24xlarge",
    "vcpuNum": 96
   },
   {
    "_defaultOrder": 29,
    "_isFastLaunch": true,
    "category": "Accelerated computing",
    "gpuNum": 1,
    "hideHardwareSpecs": false,
    "memoryGiB": 16,
    "name": "ml.g4dn.xlarge",
    "vcpuNum": 4
   },
   {
    "_defaultOrder": 30,
    "_isFastLaunch": false,
    "category": "Accelerated computing",
    "gpuNum": 1,
    "hideHardwareSpecs": false,
    "memoryGiB": 32,
    "name": "ml.g4dn.2xlarge",
    "vcpuNum": 8
   },
   {
    "_defaultOrder": 31,
    "_isFastLaunch": false,
    "category": "Accelerated computing",
    "gpuNum": 1,
    "hideHardwareSpecs": false,
    "memoryGiB": 64,
    "name": "ml.g4dn.4xlarge",
    "vcpuNum": 16
   },
   {
    "_defaultOrder": 32,
    "_isFastLaunch": false,
    "category": "Accelerated computing",
    "gpuNum": 1,
    "hideHardwareSpecs": false,
    "memoryGiB": 128,
    "name": "ml.g4dn.8xlarge",
    "vcpuNum": 32
   },
   {
    "_defaultOrder": 33,
    "_isFastLaunch": false,
    "category": "Accelerated computing",
    "gpuNum": 4,
    "hideHardwareSpecs": false,
    "memoryGiB": 192,
    "name": "ml.g4dn.12xlarge",
    "vcpuNum": 48
   },
   {
    "_defaultOrder": 34,
    "_isFastLaunch": false,
    "category": "Accelerated computing",
    "gpuNum": 1,
    "hideHardwareSpecs": false,
    "memoryGiB": 256,
    "name": "ml.g4dn.16xlarge",
    "vcpuNum": 64
   },
   {
    "_defaultOrder": 35,
    "_isFastLaunch": false,
    "category": "Accelerated computing",
    "gpuNum": 1,
    "hideHardwareSpecs": false,
    "memoryGiB": 61,
    "name": "ml.p3.2xlarge",
    "vcpuNum": 8
   },
   {
    "_defaultOrder": 36,
    "_isFastLaunch": false,
    "category": "Accelerated computing",
    "gpuNum": 4,
    "hideHardwareSpecs": false,
    "memoryGiB": 244,
    "name": "ml.p3.8xlarge",
    "vcpuNum": 32
   },
   {
    "_defaultOrder": 37,
    "_isFastLaunch": false,
    "category": "Accelerated computing",
    "gpuNum": 8,
    "hideHardwareSpecs": false,
    "memoryGiB": 488,
    "name": "ml.p3.16xlarge",
    "vcpuNum": 64
   },
   {
    "_defaultOrder": 38,
    "_isFastLaunch": false,
    "category": "Accelerated computing",
    "gpuNum": 8,
    "hideHardwareSpecs": false,
    "memoryGiB": 768,
    "name": "ml.p3dn.24xlarge",
    "vcpuNum": 96
   },
   {
    "_defaultOrder": 39,
    "_isFastLaunch": false,
    "category": "Memory Optimized",
    "gpuNum": 0,
    "hideHardwareSpecs": false,
    "memoryGiB": 16,
    "name": "ml.r5.large",
    "vcpuNum": 2
   },
   {
    "_defaultOrder": 40,
    "_isFastLaunch": false,
    "category": "Memory Optimized",
    "gpuNum": 0,
    "hideHardwareSpecs": false,
    "memoryGiB": 32,
    "name": "ml.r5.xlarge",
    "vcpuNum": 4
   },
   {
    "_defaultOrder": 41,
    "_isFastLaunch": false,
    "category": "Memory Optimized",
    "gpuNum": 0,
    "hideHardwareSpecs": false,
    "memoryGiB": 64,
    "name": "ml.r5.2xlarge",
    "vcpuNum": 8
   },
   {
    "_defaultOrder": 42,
    "_isFastLaunch": false,
    "category": "Memory Optimized",
    "gpuNum": 0,
    "hideHardwareSpecs": false,
    "memoryGiB": 128,
    "name": "ml.r5.4xlarge",
    "vcpuNum": 16
   },
   {
    "_defaultOrder": 43,
    "_isFastLaunch": false,
    "category": "Memory Optimized",
    "gpuNum": 0,
    "hideHardwareSpecs": false,
    "memoryGiB": 256,
    "name": "ml.r5.8xlarge",
    "vcpuNum": 32
   },
   {
    "_defaultOrder": 44,
    "_isFastLaunch": false,
    "category": "Memory Optimized",
    "gpuNum": 0,
    "hideHardwareSpecs": false,
    "memoryGiB": 384,
    "name": "ml.r5.12xlarge",
    "vcpuNum": 48
   },
   {
    "_defaultOrder": 45,
    "_isFastLaunch": false,
    "category": "Memory Optimized",
    "gpuNum": 0,
    "hideHardwareSpecs": false,
    "memoryGiB": 512,
    "name": "ml.r5.16xlarge",
    "vcpuNum": 64
   },
   {
    "_defaultOrder": 46,
    "_isFastLaunch": false,
    "category": "Memory Optimized",
    "gpuNum": 0,
    "hideHardwareSpecs": false,
    "memoryGiB": 768,
    "name": "ml.r5.24xlarge",
    "vcpuNum": 96
   },
   {
    "_defaultOrder": 47,
    "_isFastLaunch": false,
    "category": "Accelerated computing",
    "gpuNum": 1,
    "hideHardwareSpecs": false,
    "memoryGiB": 16,
    "name": "ml.g5.xlarge",
    "vcpuNum": 4
   },
   {
    "_defaultOrder": 48,
    "_isFastLaunch": false,
    "category": "Accelerated computing",
    "gpuNum": 1,
    "hideHardwareSpecs": false,
    "memoryGiB": 32,
    "name": "ml.g5.2xlarge",
    "vcpuNum": 8
   },
   {
    "_defaultOrder": 49,
    "_isFastLaunch": false,
    "category": "Accelerated computing",
    "gpuNum": 1,
    "hideHardwareSpecs": false,
    "memoryGiB": 64,
    "name": "ml.g5.4xlarge",
    "vcpuNum": 16
   },
   {
    "_defaultOrder": 50,
    "_isFastLaunch": false,
    "category": "Accelerated computing",
    "gpuNum": 1,
    "hideHardwareSpecs": false,
    "memoryGiB": 128,
    "name": "ml.g5.8xlarge",
    "vcpuNum": 32
   },
   {
    "_defaultOrder": 51,
    "_isFastLaunch": false,
    "category": "Accelerated computing",
    "gpuNum": 1,
    "hideHardwareSpecs": false,
    "memoryGiB": 256,
    "name": "ml.g5.16xlarge",
    "vcpuNum": 64
   },
   {
    "_defaultOrder": 52,
    "_isFastLaunch": false,
    "category": "Accelerated computing",
    "gpuNum": 4,
    "hideHardwareSpecs": false,
    "memoryGiB": 192,
    "name": "ml.g5.12xlarge",
    "vcpuNum": 48
   },
   {
    "_defaultOrder": 53,
    "_isFastLaunch": false,
    "category": "Accelerated computing",
    "gpuNum": 4,
    "hideHardwareSpecs": false,
    "memoryGiB": 384,
    "name": "ml.g5.24xlarge",
    "vcpuNum": 96
   },
   {
    "_defaultOrder": 54,
    "_isFastLaunch": false,
    "category": "Accelerated computing",
    "gpuNum": 8,
    "hideHardwareSpecs": false,
    "memoryGiB": 768,
    "name": "ml.g5.48xlarge",
    "vcpuNum": 192
   },
   {
    "_defaultOrder": 55,
    "_isFastLaunch": false,
    "category": "Accelerated computing",
    "gpuNum": 8,
    "hideHardwareSpecs": false,
    "memoryGiB": 1152,
    "name": "ml.p4d.24xlarge",
    "vcpuNum": 96
   },
   {
    "_defaultOrder": 56,
    "_isFastLaunch": false,
    "category": "Accelerated computing",
    "gpuNum": 8,
    "hideHardwareSpecs": false,
    "memoryGiB": 1152,
    "name": "ml.p4de.24xlarge",
    "vcpuNum": 96
   }
  ],
  "instance_type": "ml.t3.medium",
  "kernelspec": {
   "display_name": "Python 3 (ipykernel)",
   "language": "python",
   "name": "python3"
  },
  "language_info": {
   "codemirror_mode": {
    "name": "ipython",
    "version": 3
   },
   "file_extension": ".py",
   "mimetype": "text/x-python",
   "name": "python",
   "nbconvert_exporter": "python",
   "pygments_lexer": "ipython3",
   "version": "3.11.4"
  }
 },
 "nbformat": 4,
 "nbformat_minor": 4
}
