{
 "cells": [
  {
   "cell_type": "markdown",
   "metadata": {},
   "source": [
    "### Import library"
   ]
  },
  {
   "cell_type": "code",
   "execution_count": 1,
   "metadata": {},
   "outputs": [
    {
     "data": {
      "text/plain": [
       "'C:\\\\Users\\\\csia7\\\\OneDrive\\\\문서\\\\GitHub\\\\WQBrain_2024_API'"
      ]
     },
     "execution_count": 1,
     "metadata": {},
     "output_type": "execute_result"
    }
   ],
   "source": [
    "import os\n",
    "os.chdir('../..')\n",
    "os.getcwd()"
   ]
  },
  {
   "cell_type": "code",
   "execution_count": 2,
   "metadata": {
    "tags": []
   },
   "outputs": [],
   "source": [
    "import ace_lib as ace\n",
    "import helpful_functions as hf\n",
    "import pandas as pd\n",
    "import requests\n",
    "import plotly.express as px\n",
    "import pygwalker as pyg\n",
    "import glob\n",
    "import re"
   ]
  },
  {
   "cell_type": "markdown",
   "metadata": {},
   "source": [
    "### Start session\n",
    "Enter credentials once - they will be saved to local folder and loaded each time"
   ]
  },
  {
   "cell_type": "code",
   "execution_count": 3,
   "metadata": {},
   "outputs": [
    {
     "name": "stdout",
     "output_type": "stream",
     "text": [
      "Complete biometrics authentication and press any key to continue: \n",
      "https://api.worldquantbrain.com/authentication/persona?inquiry=inq_ZxN21qk8RWKYf5Hb8kPmoWsFnvW6\n",
      "\n",
      " \n"
     ]
    }
   ],
   "source": [
    "s = ace.start_session()"
   ]
  },
  {
   "cell_type": "code",
   "execution_count": 4,
   "metadata": {},
   "outputs": [
    {
     "data": {
      "text/plain": [
       "14397.833413"
      ]
     },
     "execution_count": 4,
     "metadata": {},
     "output_type": "execute_result"
    }
   ],
   "source": [
    "ace.check_session_timeout(s)"
   ]
  },
  {
   "cell_type": "markdown",
   "metadata": {},
   "source": [
    "## Alpha Mixing Templates"
   ]
  },
  {
   "cell_type": "markdown",
   "metadata": {},
   "source": [
    "## Read all passed alphas"
   ]
  },
  {
   "cell_type": "code",
   "execution_count": 5,
   "metadata": {},
   "outputs": [
    {
     "data": {
      "text/plain": [
       "['A_signalform.csv',\n",
       " 'B_signalform.csv',\n",
       " 'C_signalform.csv',\n",
       " 'D_signalform.csv',\n",
       " 'pre_signalform.csv',\n",
       " 'Sep03GLB_signalform.csv']"
      ]
     },
     "execution_count": 5,
     "metadata": {},
     "output_type": "execute_result"
    }
   ],
   "source": [
    "os.chdir('Results/signal')\n",
    "file_direc = glob.glob('*')\n",
    "file_direc"
   ]
  },
  {
   "cell_type": "code",
   "execution_count": 6,
   "metadata": {
    "scrolled": true
   },
   "outputs": [],
   "source": [
    "expressions = {}\n",
    "for file in file_direc:\n",
    "    expressions[file.split('_')[0]] = pd.read_csv(file)['expression']\n",
    "#expressions"
   ]
  },
  {
   "cell_type": "code",
   "execution_count": 7,
   "metadata": {},
   "outputs": [],
   "source": [
    "os.chdir('../..')"
   ]
  },
  {
   "cell_type": "code",
   "execution_count": 8,
   "metadata": {},
   "outputs": [
    {
     "data": {
      "text/plain": [
       "dict_keys(['A', 'B', 'C', 'D', 'pre', 'Sep03GLB'])"
      ]
     },
     "execution_count": 8,
     "metadata": {},
     "output_type": "execute_result"
    }
   ],
   "source": [
    "expressions.keys()"
   ]
  },
  {
   "cell_type": "code",
   "execution_count": 9,
   "metadata": {},
   "outputs": [
    {
     "data": {
      "text/plain": [
       "0    group_Sep03GLB_0 = (country+1)*group_max(pv13_...\n",
       "1    group_Sep03GLB_1 = (country+1)*group_max(pv13_...\n",
       "2    group_Sep03GLB_2 = (country+1)*group_max(pv13_...\n",
       "3    group_Sep03GLB_3 = (country+1)*group_max(pv13_...\n",
       "4    group_Sep03GLB_4 = (country+1)*group_max(pv13_...\n",
       "Name: expression, dtype: object"
      ]
     },
     "execution_count": 9,
     "metadata": {},
     "output_type": "execute_result"
    }
   ],
   "source": [
    "expressions['Sep03GLB']"
   ]
  },
  {
   "cell_type": "markdown",
   "metadata": {},
   "source": [
    "## Template A & pre mixing\n",
    "use top 32 results"
   ]
  },
  {
   "cell_type": "code",
   "execution_count": 10,
   "metadata": {},
   "outputs": [],
   "source": [
    "#region= \"GLB\", universe = \"MINVOL1M\", neutralization = 'MARKET', truncation = 0.01"
   ]
  },
  {
   "cell_type": "code",
   "execution_count": 10,
   "metadata": {},
   "outputs": [],
   "source": [
    "Sep03GLB = expressions['Sep03GLB']\n",
    "pre = expressions['pre']\n",
    "#Sep03GLB = expressions['Sep03GLB']"
   ]
  },
  {
   "cell_type": "code",
   "execution_count": 11,
   "metadata": {},
   "outputs": [
    {
     "data": {
      "text/plain": [
       "(5, 1)"
      ]
     },
     "execution_count": 11,
     "metadata": {},
     "output_type": "execute_result"
    }
   ],
   "source": [
    "len(Sep03GLB), len(pre)"
   ]
  },
  {
   "cell_type": "code",
   "execution_count": 12,
   "metadata": {},
   "outputs": [
    {
     "data": {
      "text/plain": [
       "[{'type': 'REGULAR',\n",
       "  'settings': {'instrumentType': 'EQUITY',\n",
       "   'region': 'GLB',\n",
       "   'universe': 'MINVOL1M',\n",
       "   'delay': 1,\n",
       "   'decay': 3,\n",
       "   'neutralization': 'COUNTRY',\n",
       "   'truncation': 0.01,\n",
       "   'pasteurization': 'ON',\n",
       "   'testPeriod': 'P0Y0M0D',\n",
       "   'unitHandling': 'VERIFY',\n",
       "   'nanHandling': 'OFF',\n",
       "   'language': 'FASTEXPR',\n",
       "   'visualization': False},\n",
       "  'regular': 'group_Sep03GLB_0 = (country+1)*group_max(pv13_52_minvol_1m_all_delay_1_sector, market) + pv13_52_minvol_1m_all_delay_1_sector;signal_Sep03GLB_0 = group_neutralize(ts_scale(group_backfill(fnd23_intfvalld1_ecns, industry, 252, std=1), 252), densify(group_Sep03GLB_0));sig_pre_0 = group_zscore(ts_zscore(ts_backfill(anl69_epss_best_eeps_cur_yr, 21), 21), industry);factor_pre_0 = group_zscore(ts_ir(returns, 252), industry);value_pre_0 = floor(rank(fnd28_value_05480/close)*4.99);signal_pre_0 = group_neutralize(sig_pre_0, value_pre_0 *factor_pre_0);add(scale_down(signal_Sep03GLB_0), scale_down(signal_pre_0), filter = false)'},\n",
       " {'type': 'REGULAR',\n",
       "  'settings': {'instrumentType': 'EQUITY',\n",
       "   'region': 'GLB',\n",
       "   'universe': 'MINVOL1M',\n",
       "   'delay': 1,\n",
       "   'decay': 3,\n",
       "   'neutralization': 'MARKET',\n",
       "   'truncation': 0.01,\n",
       "   'pasteurization': 'ON',\n",
       "   'testPeriod': 'P0Y0M0D',\n",
       "   'unitHandling': 'VERIFY',\n",
       "   'nanHandling': 'OFF',\n",
       "   'language': 'FASTEXPR',\n",
       "   'visualization': False},\n",
       "  'regular': 'group_Sep03GLB_0 = (country+1)*group_max(pv13_52_minvol_1m_all_delay_1_sector, market) + pv13_52_minvol_1m_all_delay_1_sector;signal_Sep03GLB_0 = group_neutralize(ts_scale(group_backfill(fnd23_intfvalld1_ecns, industry, 252, std=1), 252), densify(group_Sep03GLB_0));sig_pre_0 = group_zscore(ts_zscore(ts_backfill(anl69_epss_best_eeps_cur_yr, 21), 21), industry);factor_pre_0 = group_zscore(ts_ir(returns, 252), industry);value_pre_0 = floor(rank(fnd28_value_05480/close)*4.99);signal_pre_0 = group_neutralize(sig_pre_0, value_pre_0 *factor_pre_0);add(scale_down(signal_Sep03GLB_0), scale_down(signal_pre_0), filter = false)'},\n",
       " {'type': 'REGULAR',\n",
       "  'settings': {'instrumentType': 'EQUITY',\n",
       "   'region': 'GLB',\n",
       "   'universe': 'MINVOL1M',\n",
       "   'delay': 1,\n",
       "   'decay': 3,\n",
       "   'neutralization': 'COUNTRY',\n",
       "   'truncation': 0.01,\n",
       "   'pasteurization': 'ON',\n",
       "   'testPeriod': 'P0Y0M0D',\n",
       "   'unitHandling': 'VERIFY',\n",
       "   'nanHandling': 'OFF',\n",
       "   'language': 'FASTEXPR',\n",
       "   'visualization': False},\n",
       "  'regular': 'group_Sep03GLB_1 = (country+1)*group_max(pv13_52_minvol_1m_all_delay_1_sector, market) + pv13_52_minvol_1m_all_delay_1_sector;signal_Sep03GLB_1 = group_neutralize(ts_scale(group_backfill(fnd23_intfvalld1_ecns, industry, 252, std=1), 252), densify(group_Sep03GLB_1));sig_pre_0 = group_zscore(ts_zscore(ts_backfill(anl69_epss_best_eeps_cur_yr, 21), 21), industry);factor_pre_0 = group_zscore(ts_ir(returns, 252), industry);value_pre_0 = floor(rank(fnd28_value_05480/close)*4.99);signal_pre_0 = group_neutralize(sig_pre_0, value_pre_0 *factor_pre_0);add(scale_down(signal_Sep03GLB_1), scale_down(signal_pre_0), filter = false)'},\n",
       " {'type': 'REGULAR',\n",
       "  'settings': {'instrumentType': 'EQUITY',\n",
       "   'region': 'GLB',\n",
       "   'universe': 'MINVOL1M',\n",
       "   'delay': 1,\n",
       "   'decay': 3,\n",
       "   'neutralization': 'MARKET',\n",
       "   'truncation': 0.01,\n",
       "   'pasteurization': 'ON',\n",
       "   'testPeriod': 'P0Y0M0D',\n",
       "   'unitHandling': 'VERIFY',\n",
       "   'nanHandling': 'OFF',\n",
       "   'language': 'FASTEXPR',\n",
       "   'visualization': False},\n",
       "  'regular': 'group_Sep03GLB_1 = (country+1)*group_max(pv13_52_minvol_1m_all_delay_1_sector, market) + pv13_52_minvol_1m_all_delay_1_sector;signal_Sep03GLB_1 = group_neutralize(ts_scale(group_backfill(fnd23_intfvalld1_ecns, industry, 252, std=1), 252), densify(group_Sep03GLB_1));sig_pre_0 = group_zscore(ts_zscore(ts_backfill(anl69_epss_best_eeps_cur_yr, 21), 21), industry);factor_pre_0 = group_zscore(ts_ir(returns, 252), industry);value_pre_0 = floor(rank(fnd28_value_05480/close)*4.99);signal_pre_0 = group_neutralize(sig_pre_0, value_pre_0 *factor_pre_0);add(scale_down(signal_Sep03GLB_1), scale_down(signal_pre_0), filter = false)'},\n",
       " {'type': 'REGULAR',\n",
       "  'settings': {'instrumentType': 'EQUITY',\n",
       "   'region': 'GLB',\n",
       "   'universe': 'MINVOL1M',\n",
       "   'delay': 1,\n",
       "   'decay': 3,\n",
       "   'neutralization': 'COUNTRY',\n",
       "   'truncation': 0.01,\n",
       "   'pasteurization': 'ON',\n",
       "   'testPeriod': 'P0Y0M0D',\n",
       "   'unitHandling': 'VERIFY',\n",
       "   'nanHandling': 'OFF',\n",
       "   'language': 'FASTEXPR',\n",
       "   'visualization': False},\n",
       "  'regular': 'group_Sep03GLB_2 = (country+1)*group_max(pv13_52_minvol_1m_all_delay_1_sector, market) + pv13_52_minvol_1m_all_delay_1_sector;signal_Sep03GLB_2 = group_neutralize(ts_scale(group_backfill(fnd23_intfvalld1_ecns, industry, 252, std=1), 252), densify(group_Sep03GLB_2));sig_pre_0 = group_zscore(ts_zscore(ts_backfill(anl69_epss_best_eeps_cur_yr, 21), 21), industry);factor_pre_0 = group_zscore(ts_ir(returns, 252), industry);value_pre_0 = floor(rank(fnd28_value_05480/close)*4.99);signal_pre_0 = group_neutralize(sig_pre_0, value_pre_0 *factor_pre_0);add(scale_down(signal_Sep03GLB_2), scale_down(signal_pre_0), filter = false)'},\n",
       " {'type': 'REGULAR',\n",
       "  'settings': {'instrumentType': 'EQUITY',\n",
       "   'region': 'GLB',\n",
       "   'universe': 'MINVOL1M',\n",
       "   'delay': 1,\n",
       "   'decay': 3,\n",
       "   'neutralization': 'MARKET',\n",
       "   'truncation': 0.01,\n",
       "   'pasteurization': 'ON',\n",
       "   'testPeriod': 'P0Y0M0D',\n",
       "   'unitHandling': 'VERIFY',\n",
       "   'nanHandling': 'OFF',\n",
       "   'language': 'FASTEXPR',\n",
       "   'visualization': False},\n",
       "  'regular': 'group_Sep03GLB_2 = (country+1)*group_max(pv13_52_minvol_1m_all_delay_1_sector, market) + pv13_52_minvol_1m_all_delay_1_sector;signal_Sep03GLB_2 = group_neutralize(ts_scale(group_backfill(fnd23_intfvalld1_ecns, industry, 252, std=1), 252), densify(group_Sep03GLB_2));sig_pre_0 = group_zscore(ts_zscore(ts_backfill(anl69_epss_best_eeps_cur_yr, 21), 21), industry);factor_pre_0 = group_zscore(ts_ir(returns, 252), industry);value_pre_0 = floor(rank(fnd28_value_05480/close)*4.99);signal_pre_0 = group_neutralize(sig_pre_0, value_pre_0 *factor_pre_0);add(scale_down(signal_Sep03GLB_2), scale_down(signal_pre_0), filter = false)'},\n",
       " {'type': 'REGULAR',\n",
       "  'settings': {'instrumentType': 'EQUITY',\n",
       "   'region': 'GLB',\n",
       "   'universe': 'MINVOL1M',\n",
       "   'delay': 1,\n",
       "   'decay': 3,\n",
       "   'neutralization': 'COUNTRY',\n",
       "   'truncation': 0.01,\n",
       "   'pasteurization': 'ON',\n",
       "   'testPeriod': 'P0Y0M0D',\n",
       "   'unitHandling': 'VERIFY',\n",
       "   'nanHandling': 'OFF',\n",
       "   'language': 'FASTEXPR',\n",
       "   'visualization': False},\n",
       "  'regular': 'group_Sep03GLB_3 = (country+1)*group_max(pv13_52_minvol_1m_all_delay_1_sector, market) + pv13_52_minvol_1m_all_delay_1_sector;signal_Sep03GLB_3 = group_neutralize(ts_scale(group_backfill(fnd23_intfvalld1_ecns, industry, 252, std=1), 252), densify(group_Sep03GLB_3));sig_pre_0 = group_zscore(ts_zscore(ts_backfill(anl69_epss_best_eeps_cur_yr, 21), 21), industry);factor_pre_0 = group_zscore(ts_ir(returns, 252), industry);value_pre_0 = floor(rank(fnd28_value_05480/close)*4.99);signal_pre_0 = group_neutralize(sig_pre_0, value_pre_0 *factor_pre_0);add(scale_down(signal_Sep03GLB_3), scale_down(signal_pre_0), filter = false)'},\n",
       " {'type': 'REGULAR',\n",
       "  'settings': {'instrumentType': 'EQUITY',\n",
       "   'region': 'GLB',\n",
       "   'universe': 'MINVOL1M',\n",
       "   'delay': 1,\n",
       "   'decay': 3,\n",
       "   'neutralization': 'MARKET',\n",
       "   'truncation': 0.01,\n",
       "   'pasteurization': 'ON',\n",
       "   'testPeriod': 'P0Y0M0D',\n",
       "   'unitHandling': 'VERIFY',\n",
       "   'nanHandling': 'OFF',\n",
       "   'language': 'FASTEXPR',\n",
       "   'visualization': False},\n",
       "  'regular': 'group_Sep03GLB_3 = (country+1)*group_max(pv13_52_minvol_1m_all_delay_1_sector, market) + pv13_52_minvol_1m_all_delay_1_sector;signal_Sep03GLB_3 = group_neutralize(ts_scale(group_backfill(fnd23_intfvalld1_ecns, industry, 252, std=1), 252), densify(group_Sep03GLB_3));sig_pre_0 = group_zscore(ts_zscore(ts_backfill(anl69_epss_best_eeps_cur_yr, 21), 21), industry);factor_pre_0 = group_zscore(ts_ir(returns, 252), industry);value_pre_0 = floor(rank(fnd28_value_05480/close)*4.99);signal_pre_0 = group_neutralize(sig_pre_0, value_pre_0 *factor_pre_0);add(scale_down(signal_Sep03GLB_3), scale_down(signal_pre_0), filter = false)'},\n",
       " {'type': 'REGULAR',\n",
       "  'settings': {'instrumentType': 'EQUITY',\n",
       "   'region': 'GLB',\n",
       "   'universe': 'MINVOL1M',\n",
       "   'delay': 1,\n",
       "   'decay': 3,\n",
       "   'neutralization': 'COUNTRY',\n",
       "   'truncation': 0.01,\n",
       "   'pasteurization': 'ON',\n",
       "   'testPeriod': 'P0Y0M0D',\n",
       "   'unitHandling': 'VERIFY',\n",
       "   'nanHandling': 'OFF',\n",
       "   'language': 'FASTEXPR',\n",
       "   'visualization': False},\n",
       "  'regular': 'group_Sep03GLB_4 = (country+1)*group_max(pv13_52_minvol_1m_all_delay_1_sector, market) + pv13_52_minvol_1m_all_delay_1_sector;signal_Sep03GLB_4 = group_neutralize(ts_scale(group_backfill(fnd23_intfvalld1_ecns, industry, 252, std=1), 252), densify(group_Sep03GLB_4));sig_pre_0 = group_zscore(ts_zscore(ts_backfill(anl69_epss_best_eeps_cur_yr, 21), 21), industry);factor_pre_0 = group_zscore(ts_ir(returns, 252), industry);value_pre_0 = floor(rank(fnd28_value_05480/close)*4.99);signal_pre_0 = group_neutralize(sig_pre_0, value_pre_0 *factor_pre_0);add(scale_down(signal_Sep03GLB_4), scale_down(signal_pre_0), filter = false)'},\n",
       " {'type': 'REGULAR',\n",
       "  'settings': {'instrumentType': 'EQUITY',\n",
       "   'region': 'GLB',\n",
       "   'universe': 'MINVOL1M',\n",
       "   'delay': 1,\n",
       "   'decay': 3,\n",
       "   'neutralization': 'MARKET',\n",
       "   'truncation': 0.01,\n",
       "   'pasteurization': 'ON',\n",
       "   'testPeriod': 'P0Y0M0D',\n",
       "   'unitHandling': 'VERIFY',\n",
       "   'nanHandling': 'OFF',\n",
       "   'language': 'FASTEXPR',\n",
       "   'visualization': False},\n",
       "  'regular': 'group_Sep03GLB_4 = (country+1)*group_max(pv13_52_minvol_1m_all_delay_1_sector, market) + pv13_52_minvol_1m_all_delay_1_sector;signal_Sep03GLB_4 = group_neutralize(ts_scale(group_backfill(fnd23_intfvalld1_ecns, industry, 252, std=1), 252), densify(group_Sep03GLB_4));sig_pre_0 = group_zscore(ts_zscore(ts_backfill(anl69_epss_best_eeps_cur_yr, 21), 21), industry);factor_pre_0 = group_zscore(ts_ir(returns, 252), industry);value_pre_0 = floor(rank(fnd28_value_05480/close)*4.99);signal_pre_0 = group_neutralize(sig_pre_0, value_pre_0 *factor_pre_0);add(scale_down(signal_Sep03GLB_4), scale_down(signal_pre_0), filter = false)'}]"
      ]
     },
     "execution_count": 12,
     "metadata": {},
     "output_type": "execute_result"
    }
   ],
   "source": [
    "alpha_list_GLBpre = []\n",
    "\n",
    "for i in range(5):\n",
    "    alpha_list_GLBpre += [ace.generate_alpha(f'{Sep03GLB[i]};{pre[0]};add(scale_down(signal_Sep03GLB_{i}), scale_down(signal_pre_{0}), filter = false)', region= \"GLB\", universe = \"MINVOL1M\", neutralization = x, truncation = 0.01, decay = 3) for x in ['COUNTRY', 'MARKET']]\n",
    "\n",
    "alpha_list_GLBpre"
   ]
  },
  {
   "cell_type": "code",
   "execution_count": 14,
   "metadata": {},
   "outputs": [
    {
     "name": "stderr",
     "output_type": "stream",
     "text": [
      "100%|███████████████████████████████████████████████████████████████████████████████████| 4/4 [19:42<00:00, 295.69s/it]\n"
     ]
    }
   ],
   "source": [
    "result = ace.simulate_alpha_list_multi(s, alpha_list_GLBpre)"
   ]
  },
  {
   "cell_type": "code",
   "execution_count": 15,
   "metadata": {
    "scrolled": true
   },
   "outputs": [
    {
     "data": {
      "text/html": [
       "<div>\n",
       "<style scoped>\n",
       "    .dataframe tbody tr th:only-of-type {\n",
       "        vertical-align: middle;\n",
       "    }\n",
       "\n",
       "    .dataframe tbody tr th {\n",
       "        vertical-align: top;\n",
       "    }\n",
       "\n",
       "    .dataframe thead th {\n",
       "        text-align: right;\n",
       "    }\n",
       "</style>\n",
       "<table border=\"1\" class=\"dataframe\">\n",
       "  <thead>\n",
       "    <tr style=\"text-align: right;\">\n",
       "      <th></th>\n",
       "      <th>pnl</th>\n",
       "      <th>book_size</th>\n",
       "      <th>long_count</th>\n",
       "      <th>short_count</th>\n",
       "      <th>turnover</th>\n",
       "      <th>returns</th>\n",
       "      <th>drawdown</th>\n",
       "      <th>margin</th>\n",
       "      <th>fitness</th>\n",
       "      <th>sharpe</th>\n",
       "      <th>start_date</th>\n",
       "      <th>alpha_id</th>\n",
       "      <th>expression</th>\n",
       "      <th>concentrated_weight</th>\n",
       "      <th>high_turnover</th>\n",
       "      <th>is_ladder_sharpe</th>\n",
       "      <th>low_fitness</th>\n",
       "      <th>low_sharpe</th>\n",
       "      <th>low_sub_universe_sharpe</th>\n",
       "      <th>low_turnover</th>\n",
       "    </tr>\n",
       "  </thead>\n",
       "  <tbody>\n",
       "    <tr>\n",
       "      <th>0</th>\n",
       "      <td>6764327</td>\n",
       "      <td>20000000</td>\n",
       "      <td>1328</td>\n",
       "      <td>1238</td>\n",
       "      <td>0.1952</td>\n",
       "      <td>0.0653</td>\n",
       "      <td>0.0277</td>\n",
       "      <td>0.000669</td>\n",
       "      <td>1.52</td>\n",
       "      <td>2.62</td>\n",
       "      <td>2012-01-22</td>\n",
       "      <td>Y0LvNQo</td>\n",
       "      <td>group_Sep03GLB_3 = (country+1)*group_max(pv13_...</td>\n",
       "      <td>PASS</td>\n",
       "      <td>PASS</td>\n",
       "      <td>PASS</td>\n",
       "      <td>PASS</td>\n",
       "      <td>PASS</td>\n",
       "      <td>PASS</td>\n",
       "      <td>PASS</td>\n",
       "    </tr>\n",
       "    <tr>\n",
       "      <th>1</th>\n",
       "      <td>8091319</td>\n",
       "      <td>20000000</td>\n",
       "      <td>1328</td>\n",
       "      <td>1239</td>\n",
       "      <td>0.1822</td>\n",
       "      <td>0.0781</td>\n",
       "      <td>0.0613</td>\n",
       "      <td>0.000858</td>\n",
       "      <td>1.02</td>\n",
       "      <td>1.56</td>\n",
       "      <td>2012-01-22</td>\n",
       "      <td>anj1NOv</td>\n",
       "      <td>group_Sep03GLB_3 = (country+1)*group_max(pv13_...</td>\n",
       "      <td>PASS</td>\n",
       "      <td>PASS</td>\n",
       "      <td>FAIL</td>\n",
       "      <td>PASS</td>\n",
       "      <td>FAIL</td>\n",
       "      <td>PASS</td>\n",
       "      <td>PASS</td>\n",
       "    </tr>\n",
       "  </tbody>\n",
       "</table>\n",
       "</div>"
      ],
      "text/plain": [
       "       pnl  book_size  long_count  short_count  turnover  returns  drawdown  \\\n",
       "0  6764327   20000000        1328         1238    0.1952   0.0653    0.0277   \n",
       "1  8091319   20000000        1328         1239    0.1822   0.0781    0.0613   \n",
       "\n",
       "     margin  fitness  sharpe  start_date alpha_id  \\\n",
       "0  0.000669     1.52    2.62  2012-01-22  Y0LvNQo   \n",
       "1  0.000858     1.02    1.56  2012-01-22  anj1NOv   \n",
       "\n",
       "                                          expression concentrated_weight  \\\n",
       "0  group_Sep03GLB_3 = (country+1)*group_max(pv13_...                PASS   \n",
       "1  group_Sep03GLB_3 = (country+1)*group_max(pv13_...                PASS   \n",
       "\n",
       "  high_turnover is_ladder_sharpe low_fitness low_sharpe  \\\n",
       "0          PASS             PASS        PASS       PASS   \n",
       "1          PASS             FAIL        PASS       FAIL   \n",
       "\n",
       "  low_sub_universe_sharpe low_turnover  \n",
       "0                    PASS         PASS  \n",
       "1                    PASS         PASS  "
      ]
     },
     "execution_count": 15,
     "metadata": {},
     "output_type": "execute_result"
    }
   ],
   "source": [
    "#prettify_result function can be used from the helpful_functions library to take a look at IS stats of all the simulated alphas\n",
    "\n",
    "result_st1 = hf.prettify_result(result, detailed_tests_view=False)\n",
    "result_st1"
   ]
  },
  {
   "cell_type": "code",
   "execution_count": 16,
   "metadata": {},
   "outputs": [],
   "source": [
    "path = 'Results/mixing'\n",
    "result_st1.to_csv(path + '/GLBB&pre_mixing_add.csv')"
   ]
  },
  {
   "cell_type": "code",
   "execution_count": 17,
   "metadata": {
    "scrolled": true
   },
   "outputs": [
    {
     "data": {
      "text/html": [
       "<div>\n",
       "<style scoped>\n",
       "    .dataframe tbody tr th:only-of-type {\n",
       "        vertical-align: middle;\n",
       "    }\n",
       "\n",
       "    .dataframe tbody tr th {\n",
       "        vertical-align: top;\n",
       "    }\n",
       "\n",
       "    .dataframe thead th {\n",
       "        text-align: right;\n",
       "    }\n",
       "</style>\n",
       "<table border=\"1\" class=\"dataframe\">\n",
       "  <thead>\n",
       "    <tr style=\"text-align: right;\">\n",
       "      <th></th>\n",
       "      <th>alpha_id</th>\n",
       "      <th>endDate</th>\n",
       "      <th>limit</th>\n",
       "      <th>message</th>\n",
       "      <th>name</th>\n",
       "      <th>result</th>\n",
       "      <th>startDate</th>\n",
       "      <th>themes</th>\n",
       "      <th>value</th>\n",
       "      <th>year</th>\n",
       "    </tr>\n",
       "  </thead>\n",
       "  <tbody>\n",
       "    <tr>\n",
       "      <th>0</th>\n",
       "      <td>Y0LvNQo</td>\n",
       "      <td>NaN</td>\n",
       "      <td>1.58</td>\n",
       "      <td>NaN</td>\n",
       "      <td>LOW_SHARPE</td>\n",
       "      <td>PASS</td>\n",
       "      <td>NaN</td>\n",
       "      <td>NaN</td>\n",
       "      <td>2.6200</td>\n",
       "      <td>NaN</td>\n",
       "    </tr>\n",
       "    <tr>\n",
       "      <th>1</th>\n",
       "      <td>Y0LvNQo</td>\n",
       "      <td>NaN</td>\n",
       "      <td>1.00</td>\n",
       "      <td>NaN</td>\n",
       "      <td>LOW_FITNESS</td>\n",
       "      <td>PASS</td>\n",
       "      <td>NaN</td>\n",
       "      <td>NaN</td>\n",
       "      <td>1.5200</td>\n",
       "      <td>NaN</td>\n",
       "    </tr>\n",
       "    <tr>\n",
       "      <th>2</th>\n",
       "      <td>Y0LvNQo</td>\n",
       "      <td>NaN</td>\n",
       "      <td>0.01</td>\n",
       "      <td>NaN</td>\n",
       "      <td>LOW_TURNOVER</td>\n",
       "      <td>PASS</td>\n",
       "      <td>NaN</td>\n",
       "      <td>NaN</td>\n",
       "      <td>0.1952</td>\n",
       "      <td>NaN</td>\n",
       "    </tr>\n",
       "    <tr>\n",
       "      <th>3</th>\n",
       "      <td>Y0LvNQo</td>\n",
       "      <td>NaN</td>\n",
       "      <td>0.70</td>\n",
       "      <td>NaN</td>\n",
       "      <td>HIGH_TURNOVER</td>\n",
       "      <td>PASS</td>\n",
       "      <td>NaN</td>\n",
       "      <td>NaN</td>\n",
       "      <td>0.1952</td>\n",
       "      <td>NaN</td>\n",
       "    </tr>\n",
       "    <tr>\n",
       "      <th>4</th>\n",
       "      <td>Y0LvNQo</td>\n",
       "      <td>NaN</td>\n",
       "      <td>NaN</td>\n",
       "      <td>NaN</td>\n",
       "      <td>CONCENTRATED_WEIGHT</td>\n",
       "      <td>PASS</td>\n",
       "      <td>NaN</td>\n",
       "      <td>NaN</td>\n",
       "      <td>NaN</td>\n",
       "      <td>NaN</td>\n",
       "    </tr>\n",
       "  </tbody>\n",
       "</table>\n",
       "</div>"
      ],
      "text/plain": [
       "  alpha_id endDate  limit message                 name result startDate  \\\n",
       "0  Y0LvNQo     NaN   1.58     NaN           LOW_SHARPE   PASS       NaN   \n",
       "1  Y0LvNQo     NaN   1.00     NaN          LOW_FITNESS   PASS       NaN   \n",
       "2  Y0LvNQo     NaN   0.01     NaN         LOW_TURNOVER   PASS       NaN   \n",
       "3  Y0LvNQo     NaN   0.70     NaN        HIGH_TURNOVER   PASS       NaN   \n",
       "4  Y0LvNQo     NaN    NaN     NaN  CONCENTRATED_WEIGHT   PASS       NaN   \n",
       "\n",
       "  themes   value  year  \n",
       "0    NaN  2.6200   NaN  \n",
       "1    NaN  1.5200   NaN  \n",
       "2    NaN  0.1952   NaN  \n",
       "3    NaN  0.1952   NaN  \n",
       "4    NaN     NaN   NaN  "
      ]
     },
     "execution_count": 17,
     "metadata": {},
     "output_type": "execute_result"
    }
   ],
   "source": [
    "#to take a look at the combined result of all new alphas\n",
    "\n",
    "is_tests_df = hf.concat_is_tests(result)\n",
    "is_tests_df.head()"
   ]
  },
  {
   "cell_type": "code",
   "execution_count": 18,
   "metadata": {},
   "outputs": [
    {
     "name": "stdout",
     "output_type": "stream",
     "text": [
      "Failed alphas:['anj1NOv']\n",
      "Passed alphas:['Y0LvNQo']\n"
     ]
    }
   ],
   "source": [
    "#making a list of failed alphas\n",
    "failed_alphas = is_tests_df.query('result==\"FAIL\"')['alpha_id'].unique()\n",
    "\n",
    "#making a list of passed alphas\n",
    "passed_alphas = list(set(is_tests_df['alpha_id']).difference(failed_alphas))\n",
    "\n",
    "print(f'Failed alphas:{failed_alphas}\\nPassed alphas:{passed_alphas}')"
   ]
  },
  {
   "cell_type": "code",
   "execution_count": 19,
   "metadata": {},
   "outputs": [],
   "source": [
    "#calling submit_alpha on all alphas that have passed the submission tests\n",
    "for alpha_id in passed_alphas:\n",
    "    hf.set_alpha_properties(s, alpha_id, tags = ['Sep11_mixing'])"
   ]
  },
  {
   "cell_type": "code",
   "execution_count": 20,
   "metadata": {},
   "outputs": [
    {
     "data": {
      "text/plain": [
       "True"
      ]
     },
     "execution_count": 20,
     "metadata": {},
     "output_type": "execute_result"
    }
   ],
   "source": [
    "submit_result = ace.submit_alpha(s, passed_alphas[0])\n",
    "submit_result"
   ]
  },
  {
   "cell_type": "markdown",
   "metadata": {},
   "source": [
    "### Library Fuctions.\n",
    "\n",
    "following are some other functions that you can use for your own analysis\n",
    "\n",
    "**get_alpha_pnl(s, alpha_id)** - to get the pnl for an alpha\n",
    "\n",
    "**get_alpha_yearly_stats(s, alpha_id)** - to get yearly statistics for an alpha\n",
    "\n",
    "**get_self_corr(s, alpha_id)** - to get self correlation results for an alpha\n",
    "\n",
    "**get_prod_corr(s, alpha_id)** - to get prod correlation results for an alpha\n",
    "\n",
    "**get_check_submission(s, alpha_id)** - to get check submission result for an alpha\n",
    "\n",
    "**check_self_corr_test(s, alpha_id)** - to check if alpha passes self correlation test (self_corr<0.7)\n",
    "\n",
    "**check_prod_corr_test(s, alpha_id)** - to check if alpha passes prod correlation test (prod_corr<0.7)\n",
    "\n",
    "**perfomance_comparison(s, alpha_id)** - to get the result of performance comparison for an alpha merged performance"
   ]
  },
  {
   "cell_type": "code",
   "execution_count": 37,
   "metadata": {},
   "outputs": [
    {
     "data": {
      "text/html": [
       "<div>\n",
       "<style scoped>\n",
       "    .dataframe tbody tr th:only-of-type {\n",
       "        vertical-align: middle;\n",
       "    }\n",
       "\n",
       "    .dataframe tbody tr th {\n",
       "        vertical-align: top;\n",
       "    }\n",
       "\n",
       "    .dataframe thead th {\n",
       "        text-align: right;\n",
       "    }\n",
       "</style>\n",
       "<table border=\"1\" class=\"dataframe\">\n",
       "  <thead>\n",
       "    <tr style=\"text-align: right;\">\n",
       "      <th></th>\n",
       "      <th>Pnl</th>\n",
       "      <th>alpha_id</th>\n",
       "    </tr>\n",
       "    <tr>\n",
       "      <th>Date</th>\n",
       "      <th></th>\n",
       "      <th></th>\n",
       "    </tr>\n",
       "  </thead>\n",
       "  <tbody>\n",
       "    <tr>\n",
       "      <th>2012-01-23</th>\n",
       "      <td>0.0</td>\n",
       "      <td>dx9ALqJ</td>\n",
       "    </tr>\n",
       "    <tr>\n",
       "      <th>2012-01-24</th>\n",
       "      <td>52190.0</td>\n",
       "      <td>dx9ALqJ</td>\n",
       "    </tr>\n",
       "    <tr>\n",
       "      <th>2012-01-25</th>\n",
       "      <td>32038.0</td>\n",
       "      <td>dx9ALqJ</td>\n",
       "    </tr>\n",
       "    <tr>\n",
       "      <th>2012-01-26</th>\n",
       "      <td>37403.0</td>\n",
       "      <td>dx9ALqJ</td>\n",
       "    </tr>\n",
       "    <tr>\n",
       "      <th>2012-01-27</th>\n",
       "      <td>53631.0</td>\n",
       "      <td>dx9ALqJ</td>\n",
       "    </tr>\n",
       "    <tr>\n",
       "      <th>...</th>\n",
       "      <td>...</td>\n",
       "      <td>...</td>\n",
       "    </tr>\n",
       "    <tr>\n",
       "      <th>2022-01-17</th>\n",
       "      <td>12935472.0</td>\n",
       "      <td>dx9ALqJ</td>\n",
       "    </tr>\n",
       "    <tr>\n",
       "      <th>2022-01-18</th>\n",
       "      <td>12935661.0</td>\n",
       "      <td>dx9ALqJ</td>\n",
       "    </tr>\n",
       "    <tr>\n",
       "      <th>2022-01-19</th>\n",
       "      <td>12967474.0</td>\n",
       "      <td>dx9ALqJ</td>\n",
       "    </tr>\n",
       "    <tr>\n",
       "      <th>2022-01-20</th>\n",
       "      <td>12966156.0</td>\n",
       "      <td>dx9ALqJ</td>\n",
       "    </tr>\n",
       "    <tr>\n",
       "      <th>2022-01-21</th>\n",
       "      <td>12958392.0</td>\n",
       "      <td>dx9ALqJ</td>\n",
       "    </tr>\n",
       "  </tbody>\n",
       "</table>\n",
       "<p>2588 rows × 2 columns</p>\n",
       "</div>"
      ],
      "text/plain": [
       "                   Pnl alpha_id\n",
       "Date                           \n",
       "2012-01-23         0.0  dx9ALqJ\n",
       "2012-01-24     52190.0  dx9ALqJ\n",
       "2012-01-25     32038.0  dx9ALqJ\n",
       "2012-01-26     37403.0  dx9ALqJ\n",
       "2012-01-27     53631.0  dx9ALqJ\n",
       "...                ...      ...\n",
       "2022-01-17  12935472.0  dx9ALqJ\n",
       "2022-01-18  12935661.0  dx9ALqJ\n",
       "2022-01-19  12967474.0  dx9ALqJ\n",
       "2022-01-20  12966156.0  dx9ALqJ\n",
       "2022-01-21  12958392.0  dx9ALqJ\n",
       "\n",
       "[2588 rows x 2 columns]"
      ]
     },
     "execution_count": 37,
     "metadata": {},
     "output_type": "execute_result"
    }
   ],
   "source": [
    "ace.get_alpha_pnl(s, result[0]['alpha_id'])"
   ]
  }
 ],
 "metadata": {
  "availableInstances": [
   {
    "_defaultOrder": 0,
    "_isFastLaunch": true,
    "category": "General purpose",
    "gpuNum": 0,
    "hideHardwareSpecs": false,
    "memoryGiB": 4,
    "name": "ml.t3.medium",
    "vcpuNum": 2
   },
   {
    "_defaultOrder": 1,
    "_isFastLaunch": false,
    "category": "General purpose",
    "gpuNum": 0,
    "hideHardwareSpecs": false,
    "memoryGiB": 8,
    "name": "ml.t3.large",
    "vcpuNum": 2
   },
   {
    "_defaultOrder": 2,
    "_isFastLaunch": false,
    "category": "General purpose",
    "gpuNum": 0,
    "hideHardwareSpecs": false,
    "memoryGiB": 16,
    "name": "ml.t3.xlarge",
    "vcpuNum": 4
   },
   {
    "_defaultOrder": 3,
    "_isFastLaunch": false,
    "category": "General purpose",
    "gpuNum": 0,
    "hideHardwareSpecs": false,
    "memoryGiB": 32,
    "name": "ml.t3.2xlarge",
    "vcpuNum": 8
   },
   {
    "_defaultOrder": 4,
    "_isFastLaunch": true,
    "category": "General purpose",
    "gpuNum": 0,
    "hideHardwareSpecs": false,
    "memoryGiB": 8,
    "name": "ml.m5.large",
    "vcpuNum": 2
   },
   {
    "_defaultOrder": 5,
    "_isFastLaunch": false,
    "category": "General purpose",
    "gpuNum": 0,
    "hideHardwareSpecs": false,
    "memoryGiB": 16,
    "name": "ml.m5.xlarge",
    "vcpuNum": 4
   },
   {
    "_defaultOrder": 6,
    "_isFastLaunch": false,
    "category": "General purpose",
    "gpuNum": 0,
    "hideHardwareSpecs": false,
    "memoryGiB": 32,
    "name": "ml.m5.2xlarge",
    "vcpuNum": 8
   },
   {
    "_defaultOrder": 7,
    "_isFastLaunch": false,
    "category": "General purpose",
    "gpuNum": 0,
    "hideHardwareSpecs": false,
    "memoryGiB": 64,
    "name": "ml.m5.4xlarge",
    "vcpuNum": 16
   },
   {
    "_defaultOrder": 8,
    "_isFastLaunch": false,
    "category": "General purpose",
    "gpuNum": 0,
    "hideHardwareSpecs": false,
    "memoryGiB": 128,
    "name": "ml.m5.8xlarge",
    "vcpuNum": 32
   },
   {
    "_defaultOrder": 9,
    "_isFastLaunch": false,
    "category": "General purpose",
    "gpuNum": 0,
    "hideHardwareSpecs": false,
    "memoryGiB": 192,
    "name": "ml.m5.12xlarge",
    "vcpuNum": 48
   },
   {
    "_defaultOrder": 10,
    "_isFastLaunch": false,
    "category": "General purpose",
    "gpuNum": 0,
    "hideHardwareSpecs": false,
    "memoryGiB": 256,
    "name": "ml.m5.16xlarge",
    "vcpuNum": 64
   },
   {
    "_defaultOrder": 11,
    "_isFastLaunch": false,
    "category": "General purpose",
    "gpuNum": 0,
    "hideHardwareSpecs": false,
    "memoryGiB": 384,
    "name": "ml.m5.24xlarge",
    "vcpuNum": 96
   },
   {
    "_defaultOrder": 12,
    "_isFastLaunch": false,
    "category": "General purpose",
    "gpuNum": 0,
    "hideHardwareSpecs": false,
    "memoryGiB": 8,
    "name": "ml.m5d.large",
    "vcpuNum": 2
   },
   {
    "_defaultOrder": 13,
    "_isFastLaunch": false,
    "category": "General purpose",
    "gpuNum": 0,
    "hideHardwareSpecs": false,
    "memoryGiB": 16,
    "name": "ml.m5d.xlarge",
    "vcpuNum": 4
   },
   {
    "_defaultOrder": 14,
    "_isFastLaunch": false,
    "category": "General purpose",
    "gpuNum": 0,
    "hideHardwareSpecs": false,
    "memoryGiB": 32,
    "name": "ml.m5d.2xlarge",
    "vcpuNum": 8
   },
   {
    "_defaultOrder": 15,
    "_isFastLaunch": false,
    "category": "General purpose",
    "gpuNum": 0,
    "hideHardwareSpecs": false,
    "memoryGiB": 64,
    "name": "ml.m5d.4xlarge",
    "vcpuNum": 16
   },
   {
    "_defaultOrder": 16,
    "_isFastLaunch": false,
    "category": "General purpose",
    "gpuNum": 0,
    "hideHardwareSpecs": false,
    "memoryGiB": 128,
    "name": "ml.m5d.8xlarge",
    "vcpuNum": 32
   },
   {
    "_defaultOrder": 17,
    "_isFastLaunch": false,
    "category": "General purpose",
    "gpuNum": 0,
    "hideHardwareSpecs": false,
    "memoryGiB": 192,
    "name": "ml.m5d.12xlarge",
    "vcpuNum": 48
   },
   {
    "_defaultOrder": 18,
    "_isFastLaunch": false,
    "category": "General purpose",
    "gpuNum": 0,
    "hideHardwareSpecs": false,
    "memoryGiB": 256,
    "name": "ml.m5d.16xlarge",
    "vcpuNum": 64
   },
   {
    "_defaultOrder": 19,
    "_isFastLaunch": false,
    "category": "General purpose",
    "gpuNum": 0,
    "hideHardwareSpecs": false,
    "memoryGiB": 384,
    "name": "ml.m5d.24xlarge",
    "vcpuNum": 96
   },
   {
    "_defaultOrder": 20,
    "_isFastLaunch": false,
    "category": "General purpose",
    "gpuNum": 0,
    "hideHardwareSpecs": true,
    "memoryGiB": 0,
    "name": "ml.geospatial.interactive",
    "supportedImageNames": [
     "sagemaker-geospatial-v1-0"
    ],
    "vcpuNum": 0
   },
   {
    "_defaultOrder": 21,
    "_isFastLaunch": true,
    "category": "Compute optimized",
    "gpuNum": 0,
    "hideHardwareSpecs": false,
    "memoryGiB": 4,
    "name": "ml.c5.large",
    "vcpuNum": 2
   },
   {
    "_defaultOrder": 22,
    "_isFastLaunch": false,
    "category": "Compute optimized",
    "gpuNum": 0,
    "hideHardwareSpecs": false,
    "memoryGiB": 8,
    "name": "ml.c5.xlarge",
    "vcpuNum": 4
   },
   {
    "_defaultOrder": 23,
    "_isFastLaunch": false,
    "category": "Compute optimized",
    "gpuNum": 0,
    "hideHardwareSpecs": false,
    "memoryGiB": 16,
    "name": "ml.c5.2xlarge",
    "vcpuNum": 8
   },
   {
    "_defaultOrder": 24,
    "_isFastLaunch": false,
    "category": "Compute optimized",
    "gpuNum": 0,
    "hideHardwareSpecs": false,
    "memoryGiB": 32,
    "name": "ml.c5.4xlarge",
    "vcpuNum": 16
   },
   {
    "_defaultOrder": 25,
    "_isFastLaunch": false,
    "category": "Compute optimized",
    "gpuNum": 0,
    "hideHardwareSpecs": false,
    "memoryGiB": 72,
    "name": "ml.c5.9xlarge",
    "vcpuNum": 36
   },
   {
    "_defaultOrder": 26,
    "_isFastLaunch": false,
    "category": "Compute optimized",
    "gpuNum": 0,
    "hideHardwareSpecs": false,
    "memoryGiB": 96,
    "name": "ml.c5.12xlarge",
    "vcpuNum": 48
   },
   {
    "_defaultOrder": 27,
    "_isFastLaunch": false,
    "category": "Compute optimized",
    "gpuNum": 0,
    "hideHardwareSpecs": false,
    "memoryGiB": 144,
    "name": "ml.c5.18xlarge",
    "vcpuNum": 72
   },
   {
    "_defaultOrder": 28,
    "_isFastLaunch": false,
    "category": "Compute optimized",
    "gpuNum": 0,
    "hideHardwareSpecs": false,
    "memoryGiB": 192,
    "name": "ml.c5.24xlarge",
    "vcpuNum": 96
   },
   {
    "_defaultOrder": 29,
    "_isFastLaunch": true,
    "category": "Accelerated computing",
    "gpuNum": 1,
    "hideHardwareSpecs": false,
    "memoryGiB": 16,
    "name": "ml.g4dn.xlarge",
    "vcpuNum": 4
   },
   {
    "_defaultOrder": 30,
    "_isFastLaunch": false,
    "category": "Accelerated computing",
    "gpuNum": 1,
    "hideHardwareSpecs": false,
    "memoryGiB": 32,
    "name": "ml.g4dn.2xlarge",
    "vcpuNum": 8
   },
   {
    "_defaultOrder": 31,
    "_isFastLaunch": false,
    "category": "Accelerated computing",
    "gpuNum": 1,
    "hideHardwareSpecs": false,
    "memoryGiB": 64,
    "name": "ml.g4dn.4xlarge",
    "vcpuNum": 16
   },
   {
    "_defaultOrder": 32,
    "_isFastLaunch": false,
    "category": "Accelerated computing",
    "gpuNum": 1,
    "hideHardwareSpecs": false,
    "memoryGiB": 128,
    "name": "ml.g4dn.8xlarge",
    "vcpuNum": 32
   },
   {
    "_defaultOrder": 33,
    "_isFastLaunch": false,
    "category": "Accelerated computing",
    "gpuNum": 4,
    "hideHardwareSpecs": false,
    "memoryGiB": 192,
    "name": "ml.g4dn.12xlarge",
    "vcpuNum": 48
   },
   {
    "_defaultOrder": 34,
    "_isFastLaunch": false,
    "category": "Accelerated computing",
    "gpuNum": 1,
    "hideHardwareSpecs": false,
    "memoryGiB": 256,
    "name": "ml.g4dn.16xlarge",
    "vcpuNum": 64
   },
   {
    "_defaultOrder": 35,
    "_isFastLaunch": false,
    "category": "Accelerated computing",
    "gpuNum": 1,
    "hideHardwareSpecs": false,
    "memoryGiB": 61,
    "name": "ml.p3.2xlarge",
    "vcpuNum": 8
   },
   {
    "_defaultOrder": 36,
    "_isFastLaunch": false,
    "category": "Accelerated computing",
    "gpuNum": 4,
    "hideHardwareSpecs": false,
    "memoryGiB": 244,
    "name": "ml.p3.8xlarge",
    "vcpuNum": 32
   },
   {
    "_defaultOrder": 37,
    "_isFastLaunch": false,
    "category": "Accelerated computing",
    "gpuNum": 8,
    "hideHardwareSpecs": false,
    "memoryGiB": 488,
    "name": "ml.p3.16xlarge",
    "vcpuNum": 64
   },
   {
    "_defaultOrder": 38,
    "_isFastLaunch": false,
    "category": "Accelerated computing",
    "gpuNum": 8,
    "hideHardwareSpecs": false,
    "memoryGiB": 768,
    "name": "ml.p3dn.24xlarge",
    "vcpuNum": 96
   },
   {
    "_defaultOrder": 39,
    "_isFastLaunch": false,
    "category": "Memory Optimized",
    "gpuNum": 0,
    "hideHardwareSpecs": false,
    "memoryGiB": 16,
    "name": "ml.r5.large",
    "vcpuNum": 2
   },
   {
    "_defaultOrder": 40,
    "_isFastLaunch": false,
    "category": "Memory Optimized",
    "gpuNum": 0,
    "hideHardwareSpecs": false,
    "memoryGiB": 32,
    "name": "ml.r5.xlarge",
    "vcpuNum": 4
   },
   {
    "_defaultOrder": 41,
    "_isFastLaunch": false,
    "category": "Memory Optimized",
    "gpuNum": 0,
    "hideHardwareSpecs": false,
    "memoryGiB": 64,
    "name": "ml.r5.2xlarge",
    "vcpuNum": 8
   },
   {
    "_defaultOrder": 42,
    "_isFastLaunch": false,
    "category": "Memory Optimized",
    "gpuNum": 0,
    "hideHardwareSpecs": false,
    "memoryGiB": 128,
    "name": "ml.r5.4xlarge",
    "vcpuNum": 16
   },
   {
    "_defaultOrder": 43,
    "_isFastLaunch": false,
    "category": "Memory Optimized",
    "gpuNum": 0,
    "hideHardwareSpecs": false,
    "memoryGiB": 256,
    "name": "ml.r5.8xlarge",
    "vcpuNum": 32
   },
   {
    "_defaultOrder": 44,
    "_isFastLaunch": false,
    "category": "Memory Optimized",
    "gpuNum": 0,
    "hideHardwareSpecs": false,
    "memoryGiB": 384,
    "name": "ml.r5.12xlarge",
    "vcpuNum": 48
   },
   {
    "_defaultOrder": 45,
    "_isFastLaunch": false,
    "category": "Memory Optimized",
    "gpuNum": 0,
    "hideHardwareSpecs": false,
    "memoryGiB": 512,
    "name": "ml.r5.16xlarge",
    "vcpuNum": 64
   },
   {
    "_defaultOrder": 46,
    "_isFastLaunch": false,
    "category": "Memory Optimized",
    "gpuNum": 0,
    "hideHardwareSpecs": false,
    "memoryGiB": 768,
    "name": "ml.r5.24xlarge",
    "vcpuNum": 96
   },
   {
    "_defaultOrder": 47,
    "_isFastLaunch": false,
    "category": "Accelerated computing",
    "gpuNum": 1,
    "hideHardwareSpecs": false,
    "memoryGiB": 16,
    "name": "ml.g5.xlarge",
    "vcpuNum": 4
   },
   {
    "_defaultOrder": 48,
    "_isFastLaunch": false,
    "category": "Accelerated computing",
    "gpuNum": 1,
    "hideHardwareSpecs": false,
    "memoryGiB": 32,
    "name": "ml.g5.2xlarge",
    "vcpuNum": 8
   },
   {
    "_defaultOrder": 49,
    "_isFastLaunch": false,
    "category": "Accelerated computing",
    "gpuNum": 1,
    "hideHardwareSpecs": false,
    "memoryGiB": 64,
    "name": "ml.g5.4xlarge",
    "vcpuNum": 16
   },
   {
    "_defaultOrder": 50,
    "_isFastLaunch": false,
    "category": "Accelerated computing",
    "gpuNum": 1,
    "hideHardwareSpecs": false,
    "memoryGiB": 128,
    "name": "ml.g5.8xlarge",
    "vcpuNum": 32
   },
   {
    "_defaultOrder": 51,
    "_isFastLaunch": false,
    "category": "Accelerated computing",
    "gpuNum": 1,
    "hideHardwareSpecs": false,
    "memoryGiB": 256,
    "name": "ml.g5.16xlarge",
    "vcpuNum": 64
   },
   {
    "_defaultOrder": 52,
    "_isFastLaunch": false,
    "category": "Accelerated computing",
    "gpuNum": 4,
    "hideHardwareSpecs": false,
    "memoryGiB": 192,
    "name": "ml.g5.12xlarge",
    "vcpuNum": 48
   },
   {
    "_defaultOrder": 53,
    "_isFastLaunch": false,
    "category": "Accelerated computing",
    "gpuNum": 4,
    "hideHardwareSpecs": false,
    "memoryGiB": 384,
    "name": "ml.g5.24xlarge",
    "vcpuNum": 96
   },
   {
    "_defaultOrder": 54,
    "_isFastLaunch": false,
    "category": "Accelerated computing",
    "gpuNum": 8,
    "hideHardwareSpecs": false,
    "memoryGiB": 768,
    "name": "ml.g5.48xlarge",
    "vcpuNum": 192
   },
   {
    "_defaultOrder": 55,
    "_isFastLaunch": false,
    "category": "Accelerated computing",
    "gpuNum": 8,
    "hideHardwareSpecs": false,
    "memoryGiB": 1152,
    "name": "ml.p4d.24xlarge",
    "vcpuNum": 96
   },
   {
    "_defaultOrder": 56,
    "_isFastLaunch": false,
    "category": "Accelerated computing",
    "gpuNum": 8,
    "hideHardwareSpecs": false,
    "memoryGiB": 1152,
    "name": "ml.p4de.24xlarge",
    "vcpuNum": 96
   }
  ],
  "instance_type": "ml.t3.medium",
  "kernelspec": {
   "display_name": "Python 3 (ipykernel)",
   "language": "python",
   "name": "python3"
  },
  "language_info": {
   "codemirror_mode": {
    "name": "ipython",
    "version": 3
   },
   "file_extension": ".py",
   "mimetype": "text/x-python",
   "name": "python",
   "nbconvert_exporter": "python",
   "pygments_lexer": "ipython3",
   "version": "3.11.4"
  }
 },
 "nbformat": 4,
 "nbformat_minor": 4
}
