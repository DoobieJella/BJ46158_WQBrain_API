{
 "cells": [
  {
   "cell_type": "markdown",
   "metadata": {},
   "source": [
    "### Import library"
   ]
  },
  {
   "cell_type": "code",
   "execution_count": 30,
   "metadata": {
    "tags": []
   },
   "outputs": [],
   "source": [
    "import ace_lib as ace\n",
    "import helpful_functions as hf\n",
    "import pandas as pd\n",
    "import requests\n",
    "import plotly.express as px\n",
    "import pygwalker as pyg\n",
    "import glob\n",
    "import re"
   ]
  },
  {
   "cell_type": "markdown",
   "metadata": {},
   "source": [
    "### Start session\n",
    "Enter credentials once - they will be saved to local folder and loaded each time"
   ]
  },
  {
   "cell_type": "code",
   "execution_count": 9,
   "metadata": {},
   "outputs": [
    {
     "name": "stdout",
     "output_type": "stream",
     "text": [
      "Complete biometrics authentication and press any key to continue: \n",
      "https://api.worldquantbrain.com/authentication/persona?inquiry=inq_wJtwPQQGiBkcysVKY2LoYfeGDH8L\n",
      "\n",
      " \n"
     ]
    }
   ],
   "source": [
    "s = ace.start_session()"
   ]
  },
  {
   "cell_type": "markdown",
   "metadata": {},
   "source": [
    "## Scoring"
   ]
  },
  {
   "cell_type": "code",
   "execution_count": null,
   "metadata": {},
   "outputs": [],
   "source": [
    "def score(raw_data):\n",
    "    score_data = raw_data[['test.turnover', 'test.returns', 'test.drawdown']]\n",
    "    score = pd.DataFrame()\n",
    "    score = 1.3673 + 0.1757*score_data['test.turnover'] + 0.6150*score_data['test.returns'] - 1.0816*score_data['test.drawdown']\n",
    "    return score"
   ]
  },
  {
   "cell_type": "markdown",
   "metadata": {},
   "source": [
    "## Alpha Mixing Templates"
   ]
  },
  {
   "cell_type": "code",
   "execution_count": 18,
   "metadata": {},
   "outputs": [
    {
     "data": {
      "text/plain": [
       "'\\nsignal1 = scale_down(<cs_operator>(ts_backfill(<data1>,126)));\\n\\nsignal2 = scale_down(<cs_operator>(ts_backfill(<data2>,126)));\\n\\nsignal1 * (1 + signal2)\\n'"
      ]
     },
     "execution_count": 18,
     "metadata": {},
     "output_type": "execute_result"
    }
   ],
   "source": [
    "'''\n",
    "signal1 = scale_down(<cs_operator>(ts_backfill(<data1>,126)));\n",
    "\n",
    "signal2 = scale_down(<cs_operator>(ts_backfill(<data2>,126)));\n",
    "\n",
    "signal1 * (1 + signal2)\n",
    "'''"
   ]
  },
  {
   "cell_type": "code",
   "execution_count": 19,
   "metadata": {},
   "outputs": [
    {
     "data": {
      "text/plain": [
       "'\\nsignal1 = oth176_lmt_close_eq_score ;\\nsignal2 = oth176_malta_eq_score ;\\nk = ts_corr(signal1, signal2, 30) ;\\nk*regression_neut(signal1, signal2)\\n\\n[아이디어]\\n경향성이 비슷한 알파 활용하여 corr로 weight를 부여\\n'"
      ]
     },
     "execution_count": 19,
     "metadata": {},
     "output_type": "execute_result"
    }
   ],
   "source": [
    "'''\n",
    "signal1 = oth176_lmt_close_eq_score ;\n",
    "signal2 = oth176_malta_eq_score ;\n",
    "k = ts_corr(signal1, signal2, 30) ;\n",
    "k*regression_neut(signal1, signal2)\n",
    "\n",
    "[아이디어]\n",
    "경향성이 비슷한 알파 활용하여 corr로 weight를 부여\n",
    "'''"
   ]
  },
  {
   "cell_type": "markdown",
   "metadata": {},
   "source": [
    "## Read all passed alphas"
   ]
  },
  {
   "cell_type": "code",
   "execution_count": 77,
   "metadata": {},
   "outputs": [
    {
     "data": {
      "text/plain": [
       "['files/signal/corr\\\\pt_daedalus.csv',\n",
       " 'files/signal/corr\\\\pt_template_A_clustering_result_corr.csv',\n",
       " 'files/signal/corr\\\\pt_template_C_clustering_result_corr.csv',\n",
       " 'files/signal/corr\\\\pt_template_D_clustering_result_corr.csv']"
      ]
     },
     "execution_count": 77,
     "metadata": {},
     "output_type": "execute_result"
    }
   ],
   "source": [
    "file_direc = glob.glob('files/signal/corr/*')\n",
    "file_direc"
   ]
  },
  {
   "cell_type": "code",
   "execution_count": 84,
   "metadata": {},
   "outputs": [
    {
     "data": {
      "text/plain": [
       "0     trade_when(oth460_1l_acda<=0.5, regression_neu...\n",
       "1     trade_when(oth460_1l_ccns<=0.5, regression_neu...\n",
       "2     trade_when(oth460_1l_ccns<=0.5, vector_neut(ts...\n",
       "3     trade_when(oth460_1l_acda<=0.5, vector_neut(ts...\n",
       "4     trade_when(oth460_1l_m3r_mtn_spb_se<=0.5, regr...\n",
       "                            ...                        \n",
       "75    trade_when(oth460_1l_ccns<=0.5, regression_neu...\n",
       "76    trade_when(oth460_1l_acda<=0.5, vector_neut(ts...\n",
       "77    trade_when(oth460_1l_acda<=0.5, regression_neu...\n",
       "78    trade_when(oth460_1l_acda<=0.5, vector_neut(ts...\n",
       "79    trade_when(oth460_1l_acda<=0.5, regression_neu...\n",
       "Name: converted_expression, Length: 80, dtype: object"
      ]
     },
     "execution_count": 84,
     "metadata": {},
     "output_type": "execute_result"
    }
   ],
   "source": [
    "pd.read_csv(file_direc[1])['converted_expression']"
   ]
  },
  {
   "cell_type": "code",
   "execution_count": 87,
   "metadata": {},
   "outputs": [],
   "source": [
    "expressions = {}\n",
    "expressions['daedalus'] = pd.read_csv(file_direc[0])['expression']\n",
    "expressions['A'] = pd.read_csv(file_direc[1])['converted_expression']\n",
    "expressions['C'] = pd.read_csv(file_direc[2])['converted_expression']\n",
    "expressions['D'] = pd.read_csv(file_direc[3])['converted_expression']"
   ]
  },
  {
   "cell_type": "markdown",
   "metadata": {},
   "source": [
    "## Template A mixing"
   ]
  },
  {
   "cell_type": "code",
   "execution_count": 94,
   "metadata": {},
   "outputs": [
    {
     "data": {
      "text/plain": [
       "'trade_when(oth460_1l_acda<=0.5, regression_neut(ts_zscore(ts_backfill(anl69_cps_best_eeps_nxt_yr, 21),21), group_zscore(ts_ir(returns, 252), industry)), oth460_1l_acda>0.5)'"
      ]
     },
     "execution_count": 94,
     "metadata": {},
     "output_type": "execute_result"
    }
   ],
   "source": [
    "a = expressions['A']\n",
    "a[0]"
   ]
  },
  {
   "cell_type": "code",
   "execution_count": null,
   "metadata": {},
   "outputs": [],
   "source": [
    "'''\n",
    "signal1 = scale_down(<cs_operator>(ts_backfill(<data1>,126)));\n",
    "\n",
    "signal2 = scale_down(<cs_operator>(ts_backfill(<data2>,126)));\n",
    "\n",
    "signal1 * (1 + signal2)\n",
    "'''"
   ]
  },
  {
   "cell_type": "markdown",
   "metadata": {},
   "source": [
    "### add"
   ]
  },
  {
   "cell_type": "code",
   "execution_count": 96,
   "metadata": {},
   "outputs": [
    {
     "data": {
      "text/plain": [
       "[{'type': 'REGULAR',\n",
       "  'settings': {'instrumentType': 'EQUITY',\n",
       "   'region': 'GLB',\n",
       "   'universe': 'MINVOL1M',\n",
       "   'delay': 1,\n",
       "   'decay': 0,\n",
       "   'neutralization': 'MARKET',\n",
       "   'truncation': 0.01,\n",
       "   'pasteurization': 'ON',\n",
       "   'testPeriod': 'P0Y0M0D',\n",
       "   'unitHandling': 'VERIFY',\n",
       "   'nanHandling': 'OFF',\n",
       "   'language': 'FASTEXPR',\n",
       "   'visualization': False},\n",
       "  'regular': 'add(trade_when(oth460_1l_acda<=0.5, regression_neut(ts_zscore(ts_backfill(anl69_cps_best_eeps_nxt_yr, 21),21), group_zscore(ts_ir(returns, 252), industry)), oth460_1l_acda>0.5), trade_when(oth460_1l_ccns<=0.5, regression_neut(ts_zscore(ts_backfill(anl69_cpss_best_eeps_nxt_yr, 21),21), group_zscore(ts_ir(returns, 252), industry)), oth460_1l_ccns>0.5), filter = false)'},\n",
       " {'type': 'REGULAR',\n",
       "  'settings': {'instrumentType': 'EQUITY',\n",
       "   'region': 'GLB',\n",
       "   'universe': 'MINVOL1M',\n",
       "   'delay': 1,\n",
       "   'decay': 0,\n",
       "   'neutralization': 'MARKET',\n",
       "   'truncation': 0.01,\n",
       "   'pasteurization': 'ON',\n",
       "   'testPeriod': 'P0Y0M0D',\n",
       "   'unitHandling': 'VERIFY',\n",
       "   'nanHandling': 'OFF',\n",
       "   'language': 'FASTEXPR',\n",
       "   'visualization': False},\n",
       "  'regular': 'add(trade_when(oth460_1l_ccns<=0.5, regression_neut(ts_zscore(ts_backfill(anl69_cpss_best_eeps_nxt_yr, 21),21), group_zscore(ts_ir(returns, 252), industry)), oth460_1l_ccns>0.5), trade_when(oth460_1l_ccns<=0.5, vector_neut(ts_zscore(ts_backfill(anl69_cpss_best_eeps_nxt_yr, 21),21), group_zscore(ts_ir(returns, 252), industry)), oth460_1l_ccns>0.5), filter = false)'},\n",
       " {'type': 'REGULAR',\n",
       "  'settings': {'instrumentType': 'EQUITY',\n",
       "   'region': 'GLB',\n",
       "   'universe': 'MINVOL1M',\n",
       "   'delay': 1,\n",
       "   'decay': 0,\n",
       "   'neutralization': 'MARKET',\n",
       "   'truncation': 0.01,\n",
       "   'pasteurization': 'ON',\n",
       "   'testPeriod': 'P0Y0M0D',\n",
       "   'unitHandling': 'VERIFY',\n",
       "   'nanHandling': 'OFF',\n",
       "   'language': 'FASTEXPR',\n",
       "   'visualization': False},\n",
       "  'regular': 'add(trade_when(oth460_1l_ccns<=0.5, vector_neut(ts_zscore(ts_backfill(anl69_cpss_best_eeps_nxt_yr, 21),21), group_zscore(ts_ir(returns, 252), industry)), oth460_1l_ccns>0.5), trade_when(oth460_1l_acda<=0.5, vector_neut(ts_zscore(ts_backfill(anl69_cps_best_eeps_nxt_yr, 21),21), group_zscore(ts_ir(returns, 252), industry)), oth460_1l_acda>0.5), filter = false)'},\n",
       " {'type': 'REGULAR',\n",
       "  'settings': {'instrumentType': 'EQUITY',\n",
       "   'region': 'GLB',\n",
       "   'universe': 'MINVOL1M',\n",
       "   'delay': 1,\n",
       "   'decay': 0,\n",
       "   'neutralization': 'MARKET',\n",
       "   'truncation': 0.01,\n",
       "   'pasteurization': 'ON',\n",
       "   'testPeriod': 'P0Y0M0D',\n",
       "   'unitHandling': 'VERIFY',\n",
       "   'nanHandling': 'OFF',\n",
       "   'language': 'FASTEXPR',\n",
       "   'visualization': False},\n",
       "  'regular': 'add(trade_when(oth460_1l_acda<=0.5, vector_neut(ts_zscore(ts_backfill(anl69_cps_best_eeps_nxt_yr, 21),21), group_zscore(ts_ir(returns, 252), industry)), oth460_1l_acda>0.5), trade_when(oth460_1l_m3r_mtn_spb_se<=0.5, regression_neut(ts_zscore(ts_backfill(anl69_cpss_best_eeps_nxt_yr, 21),21), group_zscore(ts_ir(returns, 252), industry)), oth460_1l_m3r_mtn_spb_se>0.5), filter = false)'},\n",
       " {'type': 'REGULAR',\n",
       "  'settings': {'instrumentType': 'EQUITY',\n",
       "   'region': 'GLB',\n",
       "   'universe': 'MINVOL1M',\n",
       "   'delay': 1,\n",
       "   'decay': 0,\n",
       "   'neutralization': 'MARKET',\n",
       "   'truncation': 0.01,\n",
       "   'pasteurization': 'ON',\n",
       "   'testPeriod': 'P0Y0M0D',\n",
       "   'unitHandling': 'VERIFY',\n",
       "   'nanHandling': 'OFF',\n",
       "   'language': 'FASTEXPR',\n",
       "   'visualization': False},\n",
       "  'regular': 'add(trade_when(oth460_1l_m3r_mtn_spb_se<=0.5, regression_neut(ts_zscore(ts_backfill(anl69_cpss_best_eeps_nxt_yr, 21),21), group_zscore(ts_ir(returns, 252), industry)), oth460_1l_m3r_mtn_spb_se>0.5), trade_when(oth460_1l_fbds<=0.5, regression_neut(ts_zscore(ts_backfill(anl69_cpss_best_eeps_nxt_yr, 21),21), group_zscore(ts_ir(returns, 252), industry)), oth460_1l_fbds>0.5), filter = false)'},\n",
       " {'type': 'REGULAR',\n",
       "  'settings': {'instrumentType': 'EQUITY',\n",
       "   'region': 'GLB',\n",
       "   'universe': 'MINVOL1M',\n",
       "   'delay': 1,\n",
       "   'decay': 0,\n",
       "   'neutralization': 'MARKET',\n",
       "   'truncation': 0.01,\n",
       "   'pasteurization': 'ON',\n",
       "   'testPeriod': 'P0Y0M0D',\n",
       "   'unitHandling': 'VERIFY',\n",
       "   'nanHandling': 'OFF',\n",
       "   'language': 'FASTEXPR',\n",
       "   'visualization': False},\n",
       "  'regular': 'add(trade_when(oth460_1l_fbds<=0.5, regression_neut(ts_zscore(ts_backfill(anl69_cpss_best_eeps_nxt_yr, 21),21), group_zscore(ts_ir(returns, 252), industry)), oth460_1l_fbds>0.5), trade_when(oth460_1l_m3r_mtn_spb_se<=0.5, vector_neut(ts_zscore(ts_backfill(anl69_cpss_best_eeps_nxt_yr, 21),21), group_zscore(ts_ir(returns, 252), industry)), oth460_1l_m3r_mtn_spb_se>0.5), filter = false)'},\n",
       " {'type': 'REGULAR',\n",
       "  'settings': {'instrumentType': 'EQUITY',\n",
       "   'region': 'GLB',\n",
       "   'universe': 'MINVOL1M',\n",
       "   'delay': 1,\n",
       "   'decay': 0,\n",
       "   'neutralization': 'MARKET',\n",
       "   'truncation': 0.01,\n",
       "   'pasteurization': 'ON',\n",
       "   'testPeriod': 'P0Y0M0D',\n",
       "   'unitHandling': 'VERIFY',\n",
       "   'nanHandling': 'OFF',\n",
       "   'language': 'FASTEXPR',\n",
       "   'visualization': False},\n",
       "  'regular': 'add(trade_when(oth460_1l_m3r_mtn_spb_se<=0.5, vector_neut(ts_zscore(ts_backfill(anl69_cpss_best_eeps_nxt_yr, 21),21), group_zscore(ts_ir(returns, 252), industry)), oth460_1l_m3r_mtn_spb_se>0.5), trade_when(oth460_1l_fbbs<=0.5, regression_neut(ts_zscore(ts_backfill(anl69_cpss_best_eeps_nxt_yr, 21),21), group_zscore(ts_ir(returns, 252), industry)), oth460_1l_fbbs>0.5), filter = false)'},\n",
       " {'type': 'REGULAR',\n",
       "  'settings': {'instrumentType': 'EQUITY',\n",
       "   'region': 'GLB',\n",
       "   'universe': 'MINVOL1M',\n",
       "   'delay': 1,\n",
       "   'decay': 0,\n",
       "   'neutralization': 'MARKET',\n",
       "   'truncation': 0.01,\n",
       "   'pasteurization': 'ON',\n",
       "   'testPeriod': 'P0Y0M0D',\n",
       "   'unitHandling': 'VERIFY',\n",
       "   'nanHandling': 'OFF',\n",
       "   'language': 'FASTEXPR',\n",
       "   'visualization': False},\n",
       "  'regular': 'add(trade_when(oth460_1l_fbbs<=0.5, regression_neut(ts_zscore(ts_backfill(anl69_cpss_best_eeps_nxt_yr, 21),21), group_zscore(ts_ir(returns, 252), industry)), oth460_1l_fbbs>0.5), trade_when(oth460_es_ebit_fy1_d1m_l1<=0.5, regression_neut(ts_zscore(ts_backfill(anl69_cpss_best_eeps_nxt_yr, 21),21), group_zscore(ts_ir(returns, 252), industry)), oth460_es_ebit_fy1_d1m_l1>0.5), filter = false)'},\n",
       " {'type': 'REGULAR',\n",
       "  'settings': {'instrumentType': 'EQUITY',\n",
       "   'region': 'GLB',\n",
       "   'universe': 'MINVOL1M',\n",
       "   'delay': 1,\n",
       "   'decay': 0,\n",
       "   'neutralization': 'MARKET',\n",
       "   'truncation': 0.01,\n",
       "   'pasteurization': 'ON',\n",
       "   'testPeriod': 'P0Y0M0D',\n",
       "   'unitHandling': 'VERIFY',\n",
       "   'nanHandling': 'OFF',\n",
       "   'language': 'FASTEXPR',\n",
       "   'visualization': False},\n",
       "  'regular': 'add(trade_when(oth460_es_ebit_fy1_d1m_l1<=0.5, regression_neut(ts_zscore(ts_backfill(anl69_cpss_best_eeps_nxt_yr, 21),21), group_zscore(ts_ir(returns, 252), industry)), oth460_es_ebit_fy1_d1m_l1>0.5), trade_when(oth460_1l_m3r_mtn_spb_se<=0.5, regression_neut(ts_zscore(ts_backfill(anl69_cps_best_eeps_cur_yr, 21),21), group_zscore(ts_ir(returns, 252), industry)), oth460_1l_m3r_mtn_spb_se>0.5), filter = false)'},\n",
       " {'type': 'REGULAR',\n",
       "  'settings': {'instrumentType': 'EQUITY',\n",
       "   'region': 'GLB',\n",
       "   'universe': 'MINVOL1M',\n",
       "   'delay': 1,\n",
       "   'decay': 0,\n",
       "   'neutralization': 'MARKET',\n",
       "   'truncation': 0.01,\n",
       "   'pasteurization': 'ON',\n",
       "   'testPeriod': 'P0Y0M0D',\n",
       "   'unitHandling': 'VERIFY',\n",
       "   'nanHandling': 'OFF',\n",
       "   'language': 'FASTEXPR',\n",
       "   'visualization': False},\n",
       "  'regular': 'add(trade_when(oth460_1l_m3r_mtn_spb_se<=0.5, regression_neut(ts_zscore(ts_backfill(anl69_cps_best_eeps_cur_yr, 21),21), group_zscore(ts_ir(returns, 252), industry)), oth460_1l_m3r_mtn_spb_se>0.5), trade_when(oth460_1l_fbds<=0.5, vector_neut(ts_zscore(ts_backfill(anl69_cpss_best_eeps_nxt_yr, 21),21), group_zscore(ts_ir(returns, 252), industry)), oth460_1l_fbds>0.5), filter = false)'}]"
      ]
     },
     "execution_count": 96,
     "metadata": {},
     "output_type": "execute_result"
    }
   ],
   "source": [
    "alpha_list = []\n",
    "\n",
    "for i in range(10):\n",
    "    alpha_list.append(ace.generate_alpha(f'add({a[i]}, {a[i+1]}, filter = false)', region= \"GLB\", universe = \"MINVOL1M\", neutralization = 'MARKET', truncation = 0.01))\n",
    "\n",
    "alpha_list"
   ]
  },
  {
   "cell_type": "code",
   "execution_count": null,
   "metadata": {},
   "outputs": [],
   "source": [
    "result = ace.simulate_alpha_list_multi(s, alpha_list)"
   ]
  },
  {
   "cell_type": "code",
   "execution_count": null,
   "metadata": {},
   "outputs": [],
   "source": [
    "result"
   ]
  },
  {
   "cell_type": "code",
   "execution_count": null,
   "metadata": {},
   "outputs": [],
   "source": [
    "#prettify_result function can be used from the helpful_functions library to take a look at IS stats of all the simulated alphas\n",
    "\n",
    "result_st1 = hf.prettify_result(result, detailed_tests_view=False)\n",
    "result_st1"
   ]
  },
  {
   "cell_type": "code",
   "execution_count": null,
   "metadata": {},
   "outputs": [],
   "source": [
    "result_st1.to_csv('A_mixing_add.csv')"
   ]
  },
  {
   "cell_type": "markdown",
   "metadata": {},
   "source": [
    "### mult"
   ]
  },
  {
   "cell_type": "code",
   "execution_count": 99,
   "metadata": {},
   "outputs": [
    {
     "data": {
      "text/plain": [
       "'\\nsignal1 = scale_down(<cs_operator>(ts_backfill(<data1>,126)));\\n\\nsignal2 = scale_down(<cs_operator>(ts_backfill(<data2>,126)));\\n\\nsignal1 * (1 + signal2)\\n'"
      ]
     },
     "execution_count": 99,
     "metadata": {},
     "output_type": "execute_result"
    }
   ],
   "source": [
    "'''\n",
    "signal1 = scale_down(<cs_operator>(ts_backfill(<data1>,126)));\n",
    "\n",
    "signal2 = scale_down(<cs_operator>(ts_backfill(<data2>,126)));\n",
    "\n",
    "signal1 * (1 + signal2)\n",
    "'''"
   ]
  },
  {
   "cell_type": "code",
   "execution_count": 102,
   "metadata": {},
   "outputs": [
    {
     "data": {
      "text/plain": [
       "[{'type': 'REGULAR',\n",
       "  'settings': {'instrumentType': 'EQUITY',\n",
       "   'region': 'GLB',\n",
       "   'universe': 'MINVOL1M',\n",
       "   'delay': 1,\n",
       "   'decay': 0,\n",
       "   'neutralization': 'MARKET',\n",
       "   'truncation': 0.01,\n",
       "   'pasteurization': 'ON',\n",
       "   'testPeriod': 'P0Y0M0D',\n",
       "   'unitHandling': 'VERIFY',\n",
       "   'nanHandling': 'OFF',\n",
       "   'language': 'FASTEXPR',\n",
       "   'visualization': False},\n",
       "  'regular': 'trade_when(oth460_1l_acda<=0.5, regression_neut(ts_zscore(ts_backfill(anl69_cps_best_eeps_nxt_yr, 21),21), group_zscore(ts_ir(returns, 252), industry)), oth460_1l_acda>0.5)*(1+ trade_when(oth460_1l_ccns<=0.5, regression_neut(ts_zscore(ts_backfill(anl69_cpss_best_eeps_nxt_yr, 21),21), group_zscore(ts_ir(returns, 252), industry)), oth460_1l_ccns>0.5))'},\n",
       " {'type': 'REGULAR',\n",
       "  'settings': {'instrumentType': 'EQUITY',\n",
       "   'region': 'GLB',\n",
       "   'universe': 'MINVOL1M',\n",
       "   'delay': 1,\n",
       "   'decay': 0,\n",
       "   'neutralization': 'MARKET',\n",
       "   'truncation': 0.01,\n",
       "   'pasteurization': 'ON',\n",
       "   'testPeriod': 'P0Y0M0D',\n",
       "   'unitHandling': 'VERIFY',\n",
       "   'nanHandling': 'OFF',\n",
       "   'language': 'FASTEXPR',\n",
       "   'visualization': False},\n",
       "  'regular': 'trade_when(oth460_1l_ccns<=0.5, vector_neut(ts_zscore(ts_backfill(anl69_cpss_best_eeps_nxt_yr, 21),21), group_zscore(ts_ir(returns, 252), industry)), oth460_1l_ccns>0.5)*(1+ trade_when(oth460_1l_acda<=0.5, vector_neut(ts_zscore(ts_backfill(anl69_cps_best_eeps_nxt_yr, 21),21), group_zscore(ts_ir(returns, 252), industry)), oth460_1l_acda>0.5))'},\n",
       " {'type': 'REGULAR',\n",
       "  'settings': {'instrumentType': 'EQUITY',\n",
       "   'region': 'GLB',\n",
       "   'universe': 'MINVOL1M',\n",
       "   'delay': 1,\n",
       "   'decay': 0,\n",
       "   'neutralization': 'MARKET',\n",
       "   'truncation': 0.01,\n",
       "   'pasteurization': 'ON',\n",
       "   'testPeriod': 'P0Y0M0D',\n",
       "   'unitHandling': 'VERIFY',\n",
       "   'nanHandling': 'OFF',\n",
       "   'language': 'FASTEXPR',\n",
       "   'visualization': False},\n",
       "  'regular': 'trade_when(oth460_1l_m3r_mtn_spb_se<=0.5, regression_neut(ts_zscore(ts_backfill(anl69_cpss_best_eeps_nxt_yr, 21),21), group_zscore(ts_ir(returns, 252), industry)), oth460_1l_m3r_mtn_spb_se>0.5)*(1+ trade_when(oth460_1l_fbds<=0.5, regression_neut(ts_zscore(ts_backfill(anl69_cpss_best_eeps_nxt_yr, 21),21), group_zscore(ts_ir(returns, 252), industry)), oth460_1l_fbds>0.5))'},\n",
       " {'type': 'REGULAR',\n",
       "  'settings': {'instrumentType': 'EQUITY',\n",
       "   'region': 'GLB',\n",
       "   'universe': 'MINVOL1M',\n",
       "   'delay': 1,\n",
       "   'decay': 0,\n",
       "   'neutralization': 'MARKET',\n",
       "   'truncation': 0.01,\n",
       "   'pasteurization': 'ON',\n",
       "   'testPeriod': 'P0Y0M0D',\n",
       "   'unitHandling': 'VERIFY',\n",
       "   'nanHandling': 'OFF',\n",
       "   'language': 'FASTEXPR',\n",
       "   'visualization': False},\n",
       "  'regular': 'trade_when(oth460_1l_m3r_mtn_spb_se<=0.5, vector_neut(ts_zscore(ts_backfill(anl69_cpss_best_eeps_nxt_yr, 21),21), group_zscore(ts_ir(returns, 252), industry)), oth460_1l_m3r_mtn_spb_se>0.5)*(1+ trade_when(oth460_1l_fbbs<=0.5, regression_neut(ts_zscore(ts_backfill(anl69_cpss_best_eeps_nxt_yr, 21),21), group_zscore(ts_ir(returns, 252), industry)), oth460_1l_fbbs>0.5))'},\n",
       " {'type': 'REGULAR',\n",
       "  'settings': {'instrumentType': 'EQUITY',\n",
       "   'region': 'GLB',\n",
       "   'universe': 'MINVOL1M',\n",
       "   'delay': 1,\n",
       "   'decay': 0,\n",
       "   'neutralization': 'MARKET',\n",
       "   'truncation': 0.01,\n",
       "   'pasteurization': 'ON',\n",
       "   'testPeriod': 'P0Y0M0D',\n",
       "   'unitHandling': 'VERIFY',\n",
       "   'nanHandling': 'OFF',\n",
       "   'language': 'FASTEXPR',\n",
       "   'visualization': False},\n",
       "  'regular': 'trade_when(oth460_es_ebit_fy1_d1m_l1<=0.5, regression_neut(ts_zscore(ts_backfill(anl69_cpss_best_eeps_nxt_yr, 21),21), group_zscore(ts_ir(returns, 252), industry)), oth460_es_ebit_fy1_d1m_l1>0.5)*(1+ trade_when(oth460_1l_m3r_mtn_spb_se<=0.5, regression_neut(ts_zscore(ts_backfill(anl69_cps_best_eeps_cur_yr, 21),21), group_zscore(ts_ir(returns, 252), industry)), oth460_1l_m3r_mtn_spb_se>0.5))'},\n",
       " {'type': 'REGULAR',\n",
       "  'settings': {'instrumentType': 'EQUITY',\n",
       "   'region': 'GLB',\n",
       "   'universe': 'MINVOL1M',\n",
       "   'delay': 1,\n",
       "   'decay': 0,\n",
       "   'neutralization': 'MARKET',\n",
       "   'truncation': 0.01,\n",
       "   'pasteurization': 'ON',\n",
       "   'testPeriod': 'P0Y0M0D',\n",
       "   'unitHandling': 'VERIFY',\n",
       "   'nanHandling': 'OFF',\n",
       "   'language': 'FASTEXPR',\n",
       "   'visualization': False},\n",
       "  'regular': 'trade_when(oth460_1l_fbds<=0.5, vector_neut(ts_zscore(ts_backfill(anl69_cpss_best_eeps_nxt_yr, 21),21), group_zscore(ts_ir(returns, 252), industry)), oth460_1l_fbds>0.5)*(1+ trade_when(oth460_es_roe_fy1_d1m_l1<=0.5, regression_neut(ts_zscore(ts_backfill(anl69_cpss_best_eeps_nxt_yr, 21),21), group_zscore(ts_ir(returns, 252), industry)), oth460_es_roe_fy1_d1m_l1>0.5))'},\n",
       " {'type': 'REGULAR',\n",
       "  'settings': {'instrumentType': 'EQUITY',\n",
       "   'region': 'GLB',\n",
       "   'universe': 'MINVOL1M',\n",
       "   'delay': 1,\n",
       "   'decay': 0,\n",
       "   'neutralization': 'MARKET',\n",
       "   'truncation': 0.01,\n",
       "   'pasteurization': 'ON',\n",
       "   'testPeriod': 'P0Y0M0D',\n",
       "   'unitHandling': 'VERIFY',\n",
       "   'nanHandling': 'OFF',\n",
       "   'language': 'FASTEXPR',\n",
       "   'visualization': False},\n",
       "  'regular': 'trade_when(oth460_1l_m3r_mtn_spb_se<=0.5, vector_neut(ts_zscore(ts_backfill(anl69_cps_best_eeps_cur_yr, 21),21), group_zscore(ts_ir(returns, 252), industry)), oth460_1l_m3r_mtn_spb_se>0.5)*(1+ trade_when(oth460_1l_fbbs<=0.5, vector_neut(ts_zscore(ts_backfill(anl69_cpss_best_eeps_nxt_yr, 21),21), group_zscore(ts_ir(returns, 252), industry)), oth460_1l_fbbs>0.5))'},\n",
       " {'type': 'REGULAR',\n",
       "  'settings': {'instrumentType': 'EQUITY',\n",
       "   'region': 'GLB',\n",
       "   'universe': 'MINVOL1M',\n",
       "   'delay': 1,\n",
       "   'decay': 0,\n",
       "   'neutralization': 'MARKET',\n",
       "   'truncation': 0.01,\n",
       "   'pasteurization': 'ON',\n",
       "   'testPeriod': 'P0Y0M0D',\n",
       "   'unitHandling': 'VERIFY',\n",
       "   'nanHandling': 'OFF',\n",
       "   'language': 'FASTEXPR',\n",
       "   'visualization': False},\n",
       "  'regular': 'trade_when(oth460_1l_acda<=0.5, regression_neut(ts_zscore(ts_backfill(anl69_cps_best_eeps_cur_yr, 21),21), group_zscore(ts_ir(returns, 252), industry)), oth460_1l_acda>0.5)*(1+ trade_when(oth460_1l_ccns<=0.5, regression_neut(ts_zscore(ts_backfill(anl69_cps_best_eeps_cur_yr, 21),21), group_zscore(ts_ir(returns, 252), industry)), oth460_1l_ccns>0.5))'},\n",
       " {'type': 'REGULAR',\n",
       "  'settings': {'instrumentType': 'EQUITY',\n",
       "   'region': 'GLB',\n",
       "   'universe': 'MINVOL1M',\n",
       "   'delay': 1,\n",
       "   'decay': 0,\n",
       "   'neutralization': 'MARKET',\n",
       "   'truncation': 0.01,\n",
       "   'pasteurization': 'ON',\n",
       "   'testPeriod': 'P0Y0M0D',\n",
       "   'unitHandling': 'VERIFY',\n",
       "   'nanHandling': 'OFF',\n",
       "   'language': 'FASTEXPR',\n",
       "   'visualization': False},\n",
       "  'regular': 'trade_when(oth460_es_ebit_fy1_d1m_l1<=0.5, vector_neut(ts_zscore(ts_backfill(anl69_cpss_best_eeps_nxt_yr, 21),21), group_zscore(ts_ir(returns, 252), industry)), oth460_es_ebit_fy1_d1m_l1>0.5)*(1+ trade_when(oth460_1l_acda<=0.5, vector_neut(ts_zscore(ts_backfill(anl69_cps_best_eeps_cur_yr, 21),21), group_zscore(ts_ir(returns, 252), industry)), oth460_1l_acda>0.5))'},\n",
       " {'type': 'REGULAR',\n",
       "  'settings': {'instrumentType': 'EQUITY',\n",
       "   'region': 'GLB',\n",
       "   'universe': 'MINVOL1M',\n",
       "   'delay': 1,\n",
       "   'decay': 0,\n",
       "   'neutralization': 'MARKET',\n",
       "   'truncation': 0.01,\n",
       "   'pasteurization': 'ON',\n",
       "   'testPeriod': 'P0Y0M0D',\n",
       "   'unitHandling': 'VERIFY',\n",
       "   'nanHandling': 'OFF',\n",
       "   'language': 'FASTEXPR',\n",
       "   'visualization': False},\n",
       "  'regular': 'trade_when(oth460_es_roe_fy1_d1m_l1<=0.5, vector_neut(ts_zscore(ts_backfill(anl69_cpss_best_eeps_nxt_yr, 21),21), group_zscore(ts_ir(returns, 252), industry)), oth460_es_roe_fy1_d1m_l1>0.5)*(1+ trade_when(oth460_1l_ccns<=0.5, vector_neut(ts_zscore(ts_backfill(anl69_cps_best_eeps_cur_yr, 21),21), group_zscore(ts_ir(returns, 252), industry)), oth460_1l_ccns>0.5))'}]"
      ]
     },
     "execution_count": 102,
     "metadata": {},
     "output_type": "execute_result"
    }
   ],
   "source": [
    "alpha_list = []\n",
    "\n",
    "for i in range(10):\n",
    "    alpha_list.append(ace.generate_alpha(f'{a[2*i]}*(1+ {a[2*i+1]})', region= \"GLB\", universe = \"MINVOL1M\", neutralization = 'MARKET', truncation = 0.01))\n",
    "\n",
    "alpha_list"
   ]
  },
  {
   "cell_type": "code",
   "execution_count": null,
   "metadata": {},
   "outputs": [
    {
     "name": "stderr",
     "output_type": "stream",
     "text": [
      " 50%|█████████████████████████████████████████▌                                         | 2/4 [18:00<15:47, 473.78s/it]"
     ]
    }
   ],
   "source": [
    "result = ace.simulate_alpha_list_multi(s, alpha_list)"
   ]
  },
  {
   "cell_type": "markdown",
   "metadata": {},
   "source": [
    "### corr"
   ]
  },
  {
   "cell_type": "code",
   "execution_count": 58,
   "metadata": {},
   "outputs": [
    {
     "data": {
      "text/plain": [
       "[{'type': 'REGULAR',\n",
       "  'settings': {'instrumentType': 'EQUITY',\n",
       "   'region': 'GLB',\n",
       "   'universe': 'MINVOL1M',\n",
       "   'delay': 1,\n",
       "   'decay': 0,\n",
       "   'neutralization': 'MARKET',\n",
       "   'truncation': 0.01,\n",
       "   'pasteurization': 'ON',\n",
       "   'testPeriod': 'P0Y0M0D',\n",
       "   'unitHandling': 'VERIFY',\n",
       "   'nanHandling': 'OFF',\n",
       "   'language': 'FASTEXPR',\n",
       "   'visualization': False},\n",
       "  'regular': 'k = ts_corr(trade_when(oth460_1l_acda<=0.5, regression_neut(ts_zscore(ts_backfill(anl69_cps_best_eeps_nxt_yr, 21),21), group_zscore(ts_ir(returns, 252), industry)), oth460_1l_acda>0.5), trade_when(oth460_1l_ccns<=0.5, regression_neut(ts_zscore(ts_backfill(anl69_cpss_best_eeps_nxt_yr, 21),21), group_zscore(ts_ir(returns, 252), industry)), oth460_1l_ccns>0.5), 30);k*regression_neut(trade_when(oth460_1l_acda<=0.5, regression_neut(ts_zscore(ts_backfill(anl69_cps_best_eeps_nxt_yr, 21),21), group_zscore(ts_ir(returns, 252), industry)), oth460_1l_acda>0.5), trade_when(oth460_1l_ccns<=0.5, regression_neut(ts_zscore(ts_backfill(anl69_cpss_best_eeps_nxt_yr, 21),21), group_zscore(ts_ir(returns, 252), industry)), oth460_1l_ccns>0.5))'},\n",
       " {'type': 'REGULAR',\n",
       "  'settings': {'instrumentType': 'EQUITY',\n",
       "   'region': 'GLB',\n",
       "   'universe': 'MINVOL1M',\n",
       "   'delay': 1,\n",
       "   'decay': 0,\n",
       "   'neutralization': 'MARKET',\n",
       "   'truncation': 0.01,\n",
       "   'pasteurization': 'ON',\n",
       "   'testPeriod': 'P0Y0M0D',\n",
       "   'unitHandling': 'VERIFY',\n",
       "   'nanHandling': 'OFF',\n",
       "   'language': 'FASTEXPR',\n",
       "   'visualization': False},\n",
       "  'regular': 'k = ts_corr(trade_when(oth460_1l_ccns<=0.5, regression_neut(ts_zscore(ts_backfill(anl69_cpss_best_eeps_nxt_yr, 21),21), group_zscore(ts_ir(returns, 252), industry)), oth460_1l_ccns>0.5), trade_when(oth460_1l_ccns<=0.5, vector_neut(ts_zscore(ts_backfill(anl69_cpss_best_eeps_nxt_yr, 21),21), group_zscore(ts_ir(returns, 252), industry)), oth460_1l_ccns>0.5), 30);k*regression_neut(trade_when(oth460_1l_ccns<=0.5, regression_neut(ts_zscore(ts_backfill(anl69_cpss_best_eeps_nxt_yr, 21),21), group_zscore(ts_ir(returns, 252), industry)), oth460_1l_ccns>0.5), trade_when(oth460_1l_ccns<=0.5, vector_neut(ts_zscore(ts_backfill(anl69_cpss_best_eeps_nxt_yr, 21),21), group_zscore(ts_ir(returns, 252), industry)), oth460_1l_ccns>0.5))'},\n",
       " {'type': 'REGULAR',\n",
       "  'settings': {'instrumentType': 'EQUITY',\n",
       "   'region': 'GLB',\n",
       "   'universe': 'MINVOL1M',\n",
       "   'delay': 1,\n",
       "   'decay': 0,\n",
       "   'neutralization': 'MARKET',\n",
       "   'truncation': 0.01,\n",
       "   'pasteurization': 'ON',\n",
       "   'testPeriod': 'P0Y0M0D',\n",
       "   'unitHandling': 'VERIFY',\n",
       "   'nanHandling': 'OFF',\n",
       "   'language': 'FASTEXPR',\n",
       "   'visualization': False},\n",
       "  'regular': 'k = ts_corr(trade_when(oth460_1l_ccns<=0.5, vector_neut(ts_zscore(ts_backfill(anl69_cpss_best_eeps_nxt_yr, 21),21), group_zscore(ts_ir(returns, 252), industry)), oth460_1l_ccns>0.5), trade_when(oth460_1l_acda<=0.5, vector_neut(ts_zscore(ts_backfill(anl69_cps_best_eeps_nxt_yr, 21),21), group_zscore(ts_ir(returns, 252), industry)), oth460_1l_acda>0.5), 30);k*regression_neut(trade_when(oth460_1l_ccns<=0.5, vector_neut(ts_zscore(ts_backfill(anl69_cpss_best_eeps_nxt_yr, 21),21), group_zscore(ts_ir(returns, 252), industry)), oth460_1l_ccns>0.5), trade_when(oth460_1l_acda<=0.5, vector_neut(ts_zscore(ts_backfill(anl69_cps_best_eeps_nxt_yr, 21),21), group_zscore(ts_ir(returns, 252), industry)), oth460_1l_acda>0.5))'},\n",
       " {'type': 'REGULAR',\n",
       "  'settings': {'instrumentType': 'EQUITY',\n",
       "   'region': 'GLB',\n",
       "   'universe': 'MINVOL1M',\n",
       "   'delay': 1,\n",
       "   'decay': 0,\n",
       "   'neutralization': 'MARKET',\n",
       "   'truncation': 0.01,\n",
       "   'pasteurization': 'ON',\n",
       "   'testPeriod': 'P0Y0M0D',\n",
       "   'unitHandling': 'VERIFY',\n",
       "   'nanHandling': 'OFF',\n",
       "   'language': 'FASTEXPR',\n",
       "   'visualization': False},\n",
       "  'regular': 'k = ts_corr(trade_when(oth460_1l_acda<=0.5, vector_neut(ts_zscore(ts_backfill(anl69_cps_best_eeps_nxt_yr, 21),21), group_zscore(ts_ir(returns, 252), industry)), oth460_1l_acda>0.5), trade_when(oth460_1l_m3r_mtn_spb_se<=0.5, regression_neut(ts_zscore(ts_backfill(anl69_cpss_best_eeps_nxt_yr, 21),21), group_zscore(ts_ir(returns, 252), industry)), oth460_1l_m3r_mtn_spb_se>0.5), 30);k*regression_neut(trade_when(oth460_1l_acda<=0.5, vector_neut(ts_zscore(ts_backfill(anl69_cps_best_eeps_nxt_yr, 21),21), group_zscore(ts_ir(returns, 252), industry)), oth460_1l_acda>0.5), trade_when(oth460_1l_m3r_mtn_spb_se<=0.5, regression_neut(ts_zscore(ts_backfill(anl69_cpss_best_eeps_nxt_yr, 21),21), group_zscore(ts_ir(returns, 252), industry)), oth460_1l_m3r_mtn_spb_se>0.5))'},\n",
       " {'type': 'REGULAR',\n",
       "  'settings': {'instrumentType': 'EQUITY',\n",
       "   'region': 'GLB',\n",
       "   'universe': 'MINVOL1M',\n",
       "   'delay': 1,\n",
       "   'decay': 0,\n",
       "   'neutralization': 'MARKET',\n",
       "   'truncation': 0.01,\n",
       "   'pasteurization': 'ON',\n",
       "   'testPeriod': 'P0Y0M0D',\n",
       "   'unitHandling': 'VERIFY',\n",
       "   'nanHandling': 'OFF',\n",
       "   'language': 'FASTEXPR',\n",
       "   'visualization': False},\n",
       "  'regular': 'k = ts_corr(trade_when(oth460_1l_m3r_mtn_spb_se<=0.5, regression_neut(ts_zscore(ts_backfill(anl69_cpss_best_eeps_nxt_yr, 21),21), group_zscore(ts_ir(returns, 252), industry)), oth460_1l_m3r_mtn_spb_se>0.5), trade_when(oth460_1l_fbds<=0.5, regression_neut(ts_zscore(ts_backfill(anl69_cpss_best_eeps_nxt_yr, 21),21), group_zscore(ts_ir(returns, 252), industry)), oth460_1l_fbds>0.5), 30);k*regression_neut(trade_when(oth460_1l_m3r_mtn_spb_se<=0.5, regression_neut(ts_zscore(ts_backfill(anl69_cpss_best_eeps_nxt_yr, 21),21), group_zscore(ts_ir(returns, 252), industry)), oth460_1l_m3r_mtn_spb_se>0.5), trade_when(oth460_1l_fbds<=0.5, regression_neut(ts_zscore(ts_backfill(anl69_cpss_best_eeps_nxt_yr, 21),21), group_zscore(ts_ir(returns, 252), industry)), oth460_1l_fbds>0.5))'},\n",
       " {'type': 'REGULAR',\n",
       "  'settings': {'instrumentType': 'EQUITY',\n",
       "   'region': 'GLB',\n",
       "   'universe': 'MINVOL1M',\n",
       "   'delay': 1,\n",
       "   'decay': 0,\n",
       "   'neutralization': 'MARKET',\n",
       "   'truncation': 0.01,\n",
       "   'pasteurization': 'ON',\n",
       "   'testPeriod': 'P0Y0M0D',\n",
       "   'unitHandling': 'VERIFY',\n",
       "   'nanHandling': 'OFF',\n",
       "   'language': 'FASTEXPR',\n",
       "   'visualization': False},\n",
       "  'regular': 'k = ts_corr(trade_when(oth460_1l_fbds<=0.5, regression_neut(ts_zscore(ts_backfill(anl69_cpss_best_eeps_nxt_yr, 21),21), group_zscore(ts_ir(returns, 252), industry)), oth460_1l_fbds>0.5), trade_when(oth460_1l_m3r_mtn_spb_se<=0.5, vector_neut(ts_zscore(ts_backfill(anl69_cpss_best_eeps_nxt_yr, 21),21), group_zscore(ts_ir(returns, 252), industry)), oth460_1l_m3r_mtn_spb_se>0.5), 30);k*regression_neut(trade_when(oth460_1l_fbds<=0.5, regression_neut(ts_zscore(ts_backfill(anl69_cpss_best_eeps_nxt_yr, 21),21), group_zscore(ts_ir(returns, 252), industry)), oth460_1l_fbds>0.5), trade_when(oth460_1l_m3r_mtn_spb_se<=0.5, vector_neut(ts_zscore(ts_backfill(anl69_cpss_best_eeps_nxt_yr, 21),21), group_zscore(ts_ir(returns, 252), industry)), oth460_1l_m3r_mtn_spb_se>0.5))'},\n",
       " {'type': 'REGULAR',\n",
       "  'settings': {'instrumentType': 'EQUITY',\n",
       "   'region': 'GLB',\n",
       "   'universe': 'MINVOL1M',\n",
       "   'delay': 1,\n",
       "   'decay': 0,\n",
       "   'neutralization': 'MARKET',\n",
       "   'truncation': 0.01,\n",
       "   'pasteurization': 'ON',\n",
       "   'testPeriod': 'P0Y0M0D',\n",
       "   'unitHandling': 'VERIFY',\n",
       "   'nanHandling': 'OFF',\n",
       "   'language': 'FASTEXPR',\n",
       "   'visualization': False},\n",
       "  'regular': 'k = ts_corr(trade_when(oth460_1l_m3r_mtn_spb_se<=0.5, vector_neut(ts_zscore(ts_backfill(anl69_cpss_best_eeps_nxt_yr, 21),21), group_zscore(ts_ir(returns, 252), industry)), oth460_1l_m3r_mtn_spb_se>0.5), trade_when(oth460_1l_fbbs<=0.5, regression_neut(ts_zscore(ts_backfill(anl69_cpss_best_eeps_nxt_yr, 21),21), group_zscore(ts_ir(returns, 252), industry)), oth460_1l_fbbs>0.5), 30);k*regression_neut(trade_when(oth460_1l_m3r_mtn_spb_se<=0.5, vector_neut(ts_zscore(ts_backfill(anl69_cpss_best_eeps_nxt_yr, 21),21), group_zscore(ts_ir(returns, 252), industry)), oth460_1l_m3r_mtn_spb_se>0.5), trade_when(oth460_1l_fbbs<=0.5, regression_neut(ts_zscore(ts_backfill(anl69_cpss_best_eeps_nxt_yr, 21),21), group_zscore(ts_ir(returns, 252), industry)), oth460_1l_fbbs>0.5))'},\n",
       " {'type': 'REGULAR',\n",
       "  'settings': {'instrumentType': 'EQUITY',\n",
       "   'region': 'GLB',\n",
       "   'universe': 'MINVOL1M',\n",
       "   'delay': 1,\n",
       "   'decay': 0,\n",
       "   'neutralization': 'MARKET',\n",
       "   'truncation': 0.01,\n",
       "   'pasteurization': 'ON',\n",
       "   'testPeriod': 'P0Y0M0D',\n",
       "   'unitHandling': 'VERIFY',\n",
       "   'nanHandling': 'OFF',\n",
       "   'language': 'FASTEXPR',\n",
       "   'visualization': False},\n",
       "  'regular': 'k = ts_corr(trade_when(oth460_1l_fbbs<=0.5, regression_neut(ts_zscore(ts_backfill(anl69_cpss_best_eeps_nxt_yr, 21),21), group_zscore(ts_ir(returns, 252), industry)), oth460_1l_fbbs>0.5), trade_when(oth460_es_ebit_fy1_d1m_l1<=0.5, regression_neut(ts_zscore(ts_backfill(anl69_cpss_best_eeps_nxt_yr, 21),21), group_zscore(ts_ir(returns, 252), industry)), oth460_es_ebit_fy1_d1m_l1>0.5), 30);k*regression_neut(trade_when(oth460_1l_fbbs<=0.5, regression_neut(ts_zscore(ts_backfill(anl69_cpss_best_eeps_nxt_yr, 21),21), group_zscore(ts_ir(returns, 252), industry)), oth460_1l_fbbs>0.5), trade_when(oth460_es_ebit_fy1_d1m_l1<=0.5, regression_neut(ts_zscore(ts_backfill(anl69_cpss_best_eeps_nxt_yr, 21),21), group_zscore(ts_ir(returns, 252), industry)), oth460_es_ebit_fy1_d1m_l1>0.5))'},\n",
       " {'type': 'REGULAR',\n",
       "  'settings': {'instrumentType': 'EQUITY',\n",
       "   'region': 'GLB',\n",
       "   'universe': 'MINVOL1M',\n",
       "   'delay': 1,\n",
       "   'decay': 0,\n",
       "   'neutralization': 'MARKET',\n",
       "   'truncation': 0.01,\n",
       "   'pasteurization': 'ON',\n",
       "   'testPeriod': 'P0Y0M0D',\n",
       "   'unitHandling': 'VERIFY',\n",
       "   'nanHandling': 'OFF',\n",
       "   'language': 'FASTEXPR',\n",
       "   'visualization': False},\n",
       "  'regular': 'k = ts_corr(trade_when(oth460_es_ebit_fy1_d1m_l1<=0.5, regression_neut(ts_zscore(ts_backfill(anl69_cpss_best_eeps_nxt_yr, 21),21), group_zscore(ts_ir(returns, 252), industry)), oth460_es_ebit_fy1_d1m_l1>0.5), trade_when(oth460_1l_m3r_mtn_spb_se<=0.5, regression_neut(ts_zscore(ts_backfill(anl69_cps_best_eeps_cur_yr, 21),21), group_zscore(ts_ir(returns, 252), industry)), oth460_1l_m3r_mtn_spb_se>0.5), 30);k*regression_neut(trade_when(oth460_es_ebit_fy1_d1m_l1<=0.5, regression_neut(ts_zscore(ts_backfill(anl69_cpss_best_eeps_nxt_yr, 21),21), group_zscore(ts_ir(returns, 252), industry)), oth460_es_ebit_fy1_d1m_l1>0.5), trade_when(oth460_1l_m3r_mtn_spb_se<=0.5, regression_neut(ts_zscore(ts_backfill(anl69_cps_best_eeps_cur_yr, 21),21), group_zscore(ts_ir(returns, 252), industry)), oth460_1l_m3r_mtn_spb_se>0.5))'},\n",
       " {'type': 'REGULAR',\n",
       "  'settings': {'instrumentType': 'EQUITY',\n",
       "   'region': 'GLB',\n",
       "   'universe': 'MINVOL1M',\n",
       "   'delay': 1,\n",
       "   'decay': 0,\n",
       "   'neutralization': 'MARKET',\n",
       "   'truncation': 0.01,\n",
       "   'pasteurization': 'ON',\n",
       "   'testPeriod': 'P0Y0M0D',\n",
       "   'unitHandling': 'VERIFY',\n",
       "   'nanHandling': 'OFF',\n",
       "   'language': 'FASTEXPR',\n",
       "   'visualization': False},\n",
       "  'regular': 'k = ts_corr(trade_when(oth460_1l_m3r_mtn_spb_se<=0.5, regression_neut(ts_zscore(ts_backfill(anl69_cps_best_eeps_cur_yr, 21),21), group_zscore(ts_ir(returns, 252), industry)), oth460_1l_m3r_mtn_spb_se>0.5), trade_when(oth460_1l_fbds<=0.5, vector_neut(ts_zscore(ts_backfill(anl69_cpss_best_eeps_nxt_yr, 21),21), group_zscore(ts_ir(returns, 252), industry)), oth460_1l_fbds>0.5), 30);k*regression_neut(trade_when(oth460_1l_m3r_mtn_spb_se<=0.5, regression_neut(ts_zscore(ts_backfill(anl69_cps_best_eeps_cur_yr, 21),21), group_zscore(ts_ir(returns, 252), industry)), oth460_1l_m3r_mtn_spb_se>0.5), trade_when(oth460_1l_fbds<=0.5, vector_neut(ts_zscore(ts_backfill(anl69_cpss_best_eeps_nxt_yr, 21),21), group_zscore(ts_ir(returns, 252), industry)), oth460_1l_fbds>0.5))'}]"
      ]
     },
     "execution_count": 58,
     "metadata": {},
     "output_type": "execute_result"
    }
   ],
   "source": [
    "alpha_list = []\n",
    "\n",
    "for i in range(10):\n",
    "    alpha_list.append(ace.generate_alpha(f'k = ts_corr({a[i]}, {a[i+1]}, 30);k*regression_neut({a[i]}, {a[i+1]})', region= \"GLB\", universe = \"MINVOL1M\", neutralization = 'MARKET', truncation = 0.01))\n",
    "\n",
    "alpha_list\n",
    "\n"
   ]
  },
  {
   "cell_type": "code",
   "execution_count": 63,
   "metadata": {},
   "outputs": [
    {
     "name": "stderr",
     "output_type": "stream",
     "text": [
      " 25%|████████████████████▊                                                              | 1/4 [03:07<09:22, 187.53s/it]"
     ]
    },
    {
     "name": "stdout",
     "output_type": "stream",
     "text": [
      "An error occurred\n"
     ]
    },
    {
     "name": "stderr",
     "output_type": "stream",
     "text": [
      "\r",
      " 50%|█████████████████████████████████████████▌                                         | 2/4 [04:58<04:45, 142.54s/it]"
     ]
    },
    {
     "name": "stdout",
     "output_type": "stream",
     "text": [
      "An error occurred\n"
     ]
    },
    {
     "name": "stderr",
     "output_type": "stream",
     "text": [
      "\r",
      " 75%|███████████████████████████████████████████████████████████████                     | 3/4 [05:34<01:33, 93.81s/it]"
     ]
    },
    {
     "name": "stdout",
     "output_type": "stream",
     "text": [
      "An error occurred\n"
     ]
    },
    {
     "name": "stderr",
     "output_type": "stream",
     "text": [
      "100%|███████████████████████████████████████████████████████████████████████████████████| 4/4 [19:01<00:00, 285.34s/it]"
     ]
    },
    {
     "name": "stdout",
     "output_type": "stream",
     "text": [
      "An error occurred\n",
      "Your simulation has been running too long. If you are running simulations in batch, consider to reduce number of concurrent simulations.\n"
     ]
    },
    {
     "name": "stderr",
     "output_type": "stream",
     "text": [
      "\n"
     ]
    }
   ],
   "source": [
    "result = ace.simulate_alpha_list_multi(s, alpha_list)"
   ]
  },
  {
   "cell_type": "code",
   "execution_count": 65,
   "metadata": {},
   "outputs": [
    {
     "data": {
      "text/plain": [
       "[{'alpha_id': None,\n",
       "  'simulate_data': {'type': 'REGULAR',\n",
       "   'settings': {'instrumentType': 'EQUITY',\n",
       "    'region': 'GLB',\n",
       "    'universe': 'MINVOL1M',\n",
       "    'delay': 1,\n",
       "    'decay': 0,\n",
       "    'neutralization': 'MARKET',\n",
       "    'truncation': 0.01,\n",
       "    'pasteurization': 'ON',\n",
       "    'testPeriod': 'P0Y0M0D',\n",
       "    'unitHandling': 'VERIFY',\n",
       "    'nanHandling': 'OFF',\n",
       "    'language': 'FASTEXPR',\n",
       "    'visualization': False},\n",
       "   'regular': 'k = ts_corr(trade_when(oth460_1l_acda<=0.5, regression_neut(ts_zscore(ts_backfill(anl69_cps_best_eeps_nxt_yr, 21),21), group_zscore(ts_ir(returns, 252), industry)), oth460_1l_acda>0.5), trade_when(oth460_1l_ccns<=0.5, regression_neut(ts_zscore(ts_backfill(anl69_cpss_best_eeps_nxt_yr, 21),21), group_zscore(ts_ir(returns, 252), industry)), oth460_1l_ccns>0.5), 30);k*regression_neut(trade_when(oth460_1l_acda<=0.5, regression_neut(ts_zscore(ts_backfill(anl69_cps_best_eeps_nxt_yr, 21),21), group_zscore(ts_ir(returns, 252), industry)), oth460_1l_acda>0.5), trade_when(oth460_1l_ccns<=0.5, regression_neut(ts_zscore(ts_backfill(anl69_cpss_best_eeps_nxt_yr, 21),21), group_zscore(ts_ir(returns, 252), industry)), oth460_1l_ccns>0.5))'},\n",
       "  'is_stats': None,\n",
       "  'pnl': None,\n",
       "  'stats': None,\n",
       "  'is_tests': None,\n",
       "  'train': None,\n",
       "  'test': None},\n",
       " {'alpha_id': None,\n",
       "  'simulate_data': {'type': 'REGULAR',\n",
       "   'settings': {'instrumentType': 'EQUITY',\n",
       "    'region': 'GLB',\n",
       "    'universe': 'MINVOL1M',\n",
       "    'delay': 1,\n",
       "    'decay': 0,\n",
       "    'neutralization': 'MARKET',\n",
       "    'truncation': 0.01,\n",
       "    'pasteurization': 'ON',\n",
       "    'testPeriod': 'P0Y0M0D',\n",
       "    'unitHandling': 'VERIFY',\n",
       "    'nanHandling': 'OFF',\n",
       "    'language': 'FASTEXPR',\n",
       "    'visualization': False},\n",
       "   'regular': 'k = ts_corr(trade_when(oth460_1l_ccns<=0.5, regression_neut(ts_zscore(ts_backfill(anl69_cpss_best_eeps_nxt_yr, 21),21), group_zscore(ts_ir(returns, 252), industry)), oth460_1l_ccns>0.5), trade_when(oth460_1l_ccns<=0.5, vector_neut(ts_zscore(ts_backfill(anl69_cpss_best_eeps_nxt_yr, 21),21), group_zscore(ts_ir(returns, 252), industry)), oth460_1l_ccns>0.5), 30);k*regression_neut(trade_when(oth460_1l_ccns<=0.5, regression_neut(ts_zscore(ts_backfill(anl69_cpss_best_eeps_nxt_yr, 21),21), group_zscore(ts_ir(returns, 252), industry)), oth460_1l_ccns>0.5), trade_when(oth460_1l_ccns<=0.5, vector_neut(ts_zscore(ts_backfill(anl69_cpss_best_eeps_nxt_yr, 21),21), group_zscore(ts_ir(returns, 252), industry)), oth460_1l_ccns>0.5))'},\n",
       "  'is_stats': None,\n",
       "  'pnl': None,\n",
       "  'stats': None,\n",
       "  'is_tests': None,\n",
       "  'train': None,\n",
       "  'test': None},\n",
       " {'alpha_id': None,\n",
       "  'simulate_data': {'type': 'REGULAR',\n",
       "   'settings': {'instrumentType': 'EQUITY',\n",
       "    'region': 'GLB',\n",
       "    'universe': 'MINVOL1M',\n",
       "    'delay': 1,\n",
       "    'decay': 0,\n",
       "    'neutralization': 'MARKET',\n",
       "    'truncation': 0.01,\n",
       "    'pasteurization': 'ON',\n",
       "    'testPeriod': 'P0Y0M0D',\n",
       "    'unitHandling': 'VERIFY',\n",
       "    'nanHandling': 'OFF',\n",
       "    'language': 'FASTEXPR',\n",
       "    'visualization': False},\n",
       "   'regular': 'k = ts_corr(trade_when(oth460_1l_ccns<=0.5, vector_neut(ts_zscore(ts_backfill(anl69_cpss_best_eeps_nxt_yr, 21),21), group_zscore(ts_ir(returns, 252), industry)), oth460_1l_ccns>0.5), trade_when(oth460_1l_acda<=0.5, vector_neut(ts_zscore(ts_backfill(anl69_cps_best_eeps_nxt_yr, 21),21), group_zscore(ts_ir(returns, 252), industry)), oth460_1l_acda>0.5), 30);k*regression_neut(trade_when(oth460_1l_ccns<=0.5, vector_neut(ts_zscore(ts_backfill(anl69_cpss_best_eeps_nxt_yr, 21),21), group_zscore(ts_ir(returns, 252), industry)), oth460_1l_ccns>0.5), trade_when(oth460_1l_acda<=0.5, vector_neut(ts_zscore(ts_backfill(anl69_cps_best_eeps_nxt_yr, 21),21), group_zscore(ts_ir(returns, 252), industry)), oth460_1l_acda>0.5))'},\n",
       "  'is_stats': None,\n",
       "  'pnl': None,\n",
       "  'stats': None,\n",
       "  'is_tests': None,\n",
       "  'train': None,\n",
       "  'test': None},\n",
       " {'alpha_id': None,\n",
       "  'simulate_data': {'type': 'REGULAR',\n",
       "   'settings': {'instrumentType': 'EQUITY',\n",
       "    'region': 'GLB',\n",
       "    'universe': 'MINVOL1M',\n",
       "    'delay': 1,\n",
       "    'decay': 0,\n",
       "    'neutralization': 'MARKET',\n",
       "    'truncation': 0.01,\n",
       "    'pasteurization': 'ON',\n",
       "    'testPeriod': 'P0Y0M0D',\n",
       "    'unitHandling': 'VERIFY',\n",
       "    'nanHandling': 'OFF',\n",
       "    'language': 'FASTEXPR',\n",
       "    'visualization': False},\n",
       "   'regular': 'k = ts_corr(trade_when(oth460_1l_acda<=0.5, vector_neut(ts_zscore(ts_backfill(anl69_cps_best_eeps_nxt_yr, 21),21), group_zscore(ts_ir(returns, 252), industry)), oth460_1l_acda>0.5), trade_when(oth460_1l_m3r_mtn_spb_se<=0.5, regression_neut(ts_zscore(ts_backfill(anl69_cpss_best_eeps_nxt_yr, 21),21), group_zscore(ts_ir(returns, 252), industry)), oth460_1l_m3r_mtn_spb_se>0.5), 30);k*regression_neut(trade_when(oth460_1l_acda<=0.5, vector_neut(ts_zscore(ts_backfill(anl69_cps_best_eeps_nxt_yr, 21),21), group_zscore(ts_ir(returns, 252), industry)), oth460_1l_acda>0.5), trade_when(oth460_1l_m3r_mtn_spb_se<=0.5, regression_neut(ts_zscore(ts_backfill(anl69_cpss_best_eeps_nxt_yr, 21),21), group_zscore(ts_ir(returns, 252), industry)), oth460_1l_m3r_mtn_spb_se>0.5))'},\n",
       "  'is_stats': None,\n",
       "  'pnl': None,\n",
       "  'stats': None,\n",
       "  'is_tests': None,\n",
       "  'train': None,\n",
       "  'test': None},\n",
       " {'alpha_id': None,\n",
       "  'simulate_data': {'type': 'REGULAR',\n",
       "   'settings': {'instrumentType': 'EQUITY',\n",
       "    'region': 'GLB',\n",
       "    'universe': 'MINVOL1M',\n",
       "    'delay': 1,\n",
       "    'decay': 0,\n",
       "    'neutralization': 'MARKET',\n",
       "    'truncation': 0.01,\n",
       "    'pasteurization': 'ON',\n",
       "    'testPeriod': 'P0Y0M0D',\n",
       "    'unitHandling': 'VERIFY',\n",
       "    'nanHandling': 'OFF',\n",
       "    'language': 'FASTEXPR',\n",
       "    'visualization': False},\n",
       "   'regular': 'k = ts_corr(trade_when(oth460_1l_m3r_mtn_spb_se<=0.5, regression_neut(ts_zscore(ts_backfill(anl69_cpss_best_eeps_nxt_yr, 21),21), group_zscore(ts_ir(returns, 252), industry)), oth460_1l_m3r_mtn_spb_se>0.5), trade_when(oth460_1l_fbds<=0.5, regression_neut(ts_zscore(ts_backfill(anl69_cpss_best_eeps_nxt_yr, 21),21), group_zscore(ts_ir(returns, 252), industry)), oth460_1l_fbds>0.5), 30);k*regression_neut(trade_when(oth460_1l_m3r_mtn_spb_se<=0.5, regression_neut(ts_zscore(ts_backfill(anl69_cpss_best_eeps_nxt_yr, 21),21), group_zscore(ts_ir(returns, 252), industry)), oth460_1l_m3r_mtn_spb_se>0.5), trade_when(oth460_1l_fbds<=0.5, regression_neut(ts_zscore(ts_backfill(anl69_cpss_best_eeps_nxt_yr, 21),21), group_zscore(ts_ir(returns, 252), industry)), oth460_1l_fbds>0.5))'},\n",
       "  'is_stats': None,\n",
       "  'pnl': None,\n",
       "  'stats': None,\n",
       "  'is_tests': None,\n",
       "  'train': None,\n",
       "  'test': None},\n",
       " {'alpha_id': None,\n",
       "  'simulate_data': {'type': 'REGULAR',\n",
       "   'settings': {'instrumentType': 'EQUITY',\n",
       "    'region': 'GLB',\n",
       "    'universe': 'MINVOL1M',\n",
       "    'delay': 1,\n",
       "    'decay': 0,\n",
       "    'neutralization': 'MARKET',\n",
       "    'truncation': 0.01,\n",
       "    'pasteurization': 'ON',\n",
       "    'testPeriod': 'P0Y0M0D',\n",
       "    'unitHandling': 'VERIFY',\n",
       "    'nanHandling': 'OFF',\n",
       "    'language': 'FASTEXPR',\n",
       "    'visualization': False},\n",
       "   'regular': 'k = ts_corr(trade_when(oth460_1l_fbds<=0.5, regression_neut(ts_zscore(ts_backfill(anl69_cpss_best_eeps_nxt_yr, 21),21), group_zscore(ts_ir(returns, 252), industry)), oth460_1l_fbds>0.5), trade_when(oth460_1l_m3r_mtn_spb_se<=0.5, vector_neut(ts_zscore(ts_backfill(anl69_cpss_best_eeps_nxt_yr, 21),21), group_zscore(ts_ir(returns, 252), industry)), oth460_1l_m3r_mtn_spb_se>0.5), 30);k*regression_neut(trade_when(oth460_1l_fbds<=0.5, regression_neut(ts_zscore(ts_backfill(anl69_cpss_best_eeps_nxt_yr, 21),21), group_zscore(ts_ir(returns, 252), industry)), oth460_1l_fbds>0.5), trade_when(oth460_1l_m3r_mtn_spb_se<=0.5, vector_neut(ts_zscore(ts_backfill(anl69_cpss_best_eeps_nxt_yr, 21),21), group_zscore(ts_ir(returns, 252), industry)), oth460_1l_m3r_mtn_spb_se>0.5))'},\n",
       "  'is_stats': None,\n",
       "  'pnl': None,\n",
       "  'stats': None,\n",
       "  'is_tests': None,\n",
       "  'train': None,\n",
       "  'test': None},\n",
       " {'alpha_id': None,\n",
       "  'simulate_data': {'type': 'REGULAR',\n",
       "   'settings': {'instrumentType': 'EQUITY',\n",
       "    'region': 'GLB',\n",
       "    'universe': 'MINVOL1M',\n",
       "    'delay': 1,\n",
       "    'decay': 0,\n",
       "    'neutralization': 'MARKET',\n",
       "    'truncation': 0.01,\n",
       "    'pasteurization': 'ON',\n",
       "    'testPeriod': 'P0Y0M0D',\n",
       "    'unitHandling': 'VERIFY',\n",
       "    'nanHandling': 'OFF',\n",
       "    'language': 'FASTEXPR',\n",
       "    'visualization': False},\n",
       "   'regular': 'k = ts_corr(trade_when(oth460_1l_m3r_mtn_spb_se<=0.5, vector_neut(ts_zscore(ts_backfill(anl69_cpss_best_eeps_nxt_yr, 21),21), group_zscore(ts_ir(returns, 252), industry)), oth460_1l_m3r_mtn_spb_se>0.5), trade_when(oth460_1l_fbbs<=0.5, regression_neut(ts_zscore(ts_backfill(anl69_cpss_best_eeps_nxt_yr, 21),21), group_zscore(ts_ir(returns, 252), industry)), oth460_1l_fbbs>0.5), 30);k*regression_neut(trade_when(oth460_1l_m3r_mtn_spb_se<=0.5, vector_neut(ts_zscore(ts_backfill(anl69_cpss_best_eeps_nxt_yr, 21),21), group_zscore(ts_ir(returns, 252), industry)), oth460_1l_m3r_mtn_spb_se>0.5), trade_when(oth460_1l_fbbs<=0.5, regression_neut(ts_zscore(ts_backfill(anl69_cpss_best_eeps_nxt_yr, 21),21), group_zscore(ts_ir(returns, 252), industry)), oth460_1l_fbbs>0.5))'},\n",
       "  'is_stats': None,\n",
       "  'pnl': None,\n",
       "  'stats': None,\n",
       "  'is_tests': None,\n",
       "  'train': None,\n",
       "  'test': None},\n",
       " {'alpha_id': None,\n",
       "  'simulate_data': {'type': 'REGULAR',\n",
       "   'settings': {'instrumentType': 'EQUITY',\n",
       "    'region': 'GLB',\n",
       "    'universe': 'MINVOL1M',\n",
       "    'delay': 1,\n",
       "    'decay': 0,\n",
       "    'neutralization': 'MARKET',\n",
       "    'truncation': 0.01,\n",
       "    'pasteurization': 'ON',\n",
       "    'testPeriod': 'P0Y0M0D',\n",
       "    'unitHandling': 'VERIFY',\n",
       "    'nanHandling': 'OFF',\n",
       "    'language': 'FASTEXPR',\n",
       "    'visualization': False},\n",
       "   'regular': 'k = ts_corr(trade_when(oth460_1l_fbbs<=0.5, regression_neut(ts_zscore(ts_backfill(anl69_cpss_best_eeps_nxt_yr, 21),21), group_zscore(ts_ir(returns, 252), industry)), oth460_1l_fbbs>0.5), trade_when(oth460_es_ebit_fy1_d1m_l1<=0.5, regression_neut(ts_zscore(ts_backfill(anl69_cpss_best_eeps_nxt_yr, 21),21), group_zscore(ts_ir(returns, 252), industry)), oth460_es_ebit_fy1_d1m_l1>0.5), 30);k*regression_neut(trade_when(oth460_1l_fbbs<=0.5, regression_neut(ts_zscore(ts_backfill(anl69_cpss_best_eeps_nxt_yr, 21),21), group_zscore(ts_ir(returns, 252), industry)), oth460_1l_fbbs>0.5), trade_when(oth460_es_ebit_fy1_d1m_l1<=0.5, regression_neut(ts_zscore(ts_backfill(anl69_cpss_best_eeps_nxt_yr, 21),21), group_zscore(ts_ir(returns, 252), industry)), oth460_es_ebit_fy1_d1m_l1>0.5))'},\n",
       "  'is_stats': None,\n",
       "  'pnl': None,\n",
       "  'stats': None,\n",
       "  'is_tests': None,\n",
       "  'train': None,\n",
       "  'test': None},\n",
       " {'alpha_id': None,\n",
       "  'simulate_data': {'type': 'REGULAR',\n",
       "   'settings': {'instrumentType': 'EQUITY',\n",
       "    'region': 'GLB',\n",
       "    'universe': 'MINVOL1M',\n",
       "    'delay': 1,\n",
       "    'decay': 0,\n",
       "    'neutralization': 'MARKET',\n",
       "    'truncation': 0.01,\n",
       "    'pasteurization': 'ON',\n",
       "    'testPeriod': 'P0Y0M0D',\n",
       "    'unitHandling': 'VERIFY',\n",
       "    'nanHandling': 'OFF',\n",
       "    'language': 'FASTEXPR',\n",
       "    'visualization': False},\n",
       "   'regular': 'k = ts_corr(trade_when(oth460_es_ebit_fy1_d1m_l1<=0.5, regression_neut(ts_zscore(ts_backfill(anl69_cpss_best_eeps_nxt_yr, 21),21), group_zscore(ts_ir(returns, 252), industry)), oth460_es_ebit_fy1_d1m_l1>0.5), trade_when(oth460_1l_m3r_mtn_spb_se<=0.5, regression_neut(ts_zscore(ts_backfill(anl69_cps_best_eeps_cur_yr, 21),21), group_zscore(ts_ir(returns, 252), industry)), oth460_1l_m3r_mtn_spb_se>0.5), 30);k*regression_neut(trade_when(oth460_es_ebit_fy1_d1m_l1<=0.5, regression_neut(ts_zscore(ts_backfill(anl69_cpss_best_eeps_nxt_yr, 21),21), group_zscore(ts_ir(returns, 252), industry)), oth460_es_ebit_fy1_d1m_l1>0.5), trade_when(oth460_1l_m3r_mtn_spb_se<=0.5, regression_neut(ts_zscore(ts_backfill(anl69_cps_best_eeps_cur_yr, 21),21), group_zscore(ts_ir(returns, 252), industry)), oth460_1l_m3r_mtn_spb_se>0.5))'},\n",
       "  'is_stats': None,\n",
       "  'pnl': None,\n",
       "  'stats': None,\n",
       "  'is_tests': None,\n",
       "  'train': None,\n",
       "  'test': None},\n",
       " {'alpha_id': None,\n",
       "  'simulate_data': {'type': 'REGULAR',\n",
       "   'settings': {'instrumentType': 'EQUITY',\n",
       "    'region': 'GLB',\n",
       "    'universe': 'MINVOL1M',\n",
       "    'delay': 1,\n",
       "    'decay': 0,\n",
       "    'neutralization': 'MARKET',\n",
       "    'truncation': 0.01,\n",
       "    'pasteurization': 'ON',\n",
       "    'testPeriod': 'P0Y0M0D',\n",
       "    'unitHandling': 'VERIFY',\n",
       "    'nanHandling': 'OFF',\n",
       "    'language': 'FASTEXPR',\n",
       "    'visualization': False},\n",
       "   'regular': 'k = ts_corr(trade_when(oth460_1l_m3r_mtn_spb_se<=0.5, regression_neut(ts_zscore(ts_backfill(anl69_cps_best_eeps_cur_yr, 21),21), group_zscore(ts_ir(returns, 252), industry)), oth460_1l_m3r_mtn_spb_se>0.5), trade_when(oth460_1l_fbds<=0.5, vector_neut(ts_zscore(ts_backfill(anl69_cpss_best_eeps_nxt_yr, 21),21), group_zscore(ts_ir(returns, 252), industry)), oth460_1l_fbds>0.5), 30);k*regression_neut(trade_when(oth460_1l_m3r_mtn_spb_se<=0.5, regression_neut(ts_zscore(ts_backfill(anl69_cps_best_eeps_cur_yr, 21),21), group_zscore(ts_ir(returns, 252), industry)), oth460_1l_m3r_mtn_spb_se>0.5), trade_when(oth460_1l_fbds<=0.5, vector_neut(ts_zscore(ts_backfill(anl69_cpss_best_eeps_nxt_yr, 21),21), group_zscore(ts_ir(returns, 252), industry)), oth460_1l_fbds>0.5))'},\n",
       "  'is_stats': None,\n",
       "  'pnl': None,\n",
       "  'stats': None,\n",
       "  'is_tests': None,\n",
       "  'train': None,\n",
       "  'test': None}]"
      ]
     },
     "execution_count": 65,
     "metadata": {},
     "output_type": "execute_result"
    }
   ],
   "source": [
    "result"
   ]
  },
  {
   "cell_type": "code",
   "execution_count": 64,
   "metadata": {
    "scrolled": true
   },
   "outputs": [
    {
     "ename": "ValueError",
     "evalue": "No objects to concatenate",
     "output_type": "error",
     "traceback": [
      "\u001b[1;31m---------------------------------------------------------------------------\u001b[0m",
      "\u001b[1;31mValueError\u001b[0m                                Traceback (most recent call last)",
      "Cell \u001b[1;32mIn[64], line 3\u001b[0m\n\u001b[0;32m      1\u001b[0m \u001b[38;5;66;03m#prettify_result function can be used from the helpful_functions library to take a look at IS stats of all the simulated alphas\u001b[39;00m\n\u001b[1;32m----> 3\u001b[0m result_st1 \u001b[38;5;241m=\u001b[39m hf\u001b[38;5;241m.\u001b[39mprettify_result(result, detailed_tests_view\u001b[38;5;241m=\u001b[39m\u001b[38;5;28;01mFalse\u001b[39;00m)\n\u001b[0;32m      4\u001b[0m result_st1\n",
      "File \u001b[1;32m~\\OneDrive\\문서\\GitHub\\WQBrain_2024_API\\helpful_functions.py:31\u001b[0m, in \u001b[0;36mprettify_result\u001b[1;34m(result, detailed_tests_view, clickable_alpha_id)\u001b[0m\n\u001b[0;32m     22\u001b[0m \u001b[38;5;250m\u001b[39m\u001b[38;5;124;03m\"\"\"\u001b[39;00m\n\u001b[0;32m     23\u001b[0m \u001b[38;5;124;03mCombine needed results in one dataframe to analyze your alphas\u001b[39;00m\n\u001b[0;32m     24\u001b[0m \u001b[38;5;124;03mSort by fitness absolute value\u001b[39;00m\n\u001b[0;32m     25\u001b[0m \u001b[38;5;124;03m\"\"\"\u001b[39;00m\n\u001b[0;32m     26\u001b[0m list_of_is_stats \u001b[38;5;241m=\u001b[39m [\n\u001b[0;32m     27\u001b[0m     result[x][\u001b[38;5;124m\"\u001b[39m\u001b[38;5;124mis_stats\u001b[39m\u001b[38;5;124m\"\u001b[39m]\n\u001b[0;32m     28\u001b[0m     \u001b[38;5;28;01mfor\u001b[39;00m x \u001b[38;5;129;01min\u001b[39;00m \u001b[38;5;28mrange\u001b[39m(\u001b[38;5;28mlen\u001b[39m(result))\n\u001b[0;32m     29\u001b[0m     \u001b[38;5;28;01mif\u001b[39;00m result[x][\u001b[38;5;124m\"\u001b[39m\u001b[38;5;124mis_stats\u001b[39m\u001b[38;5;124m\"\u001b[39m] \u001b[38;5;129;01mis\u001b[39;00m \u001b[38;5;129;01mnot\u001b[39;00m \u001b[38;5;28;01mNone\u001b[39;00m\n\u001b[0;32m     30\u001b[0m ]\n\u001b[1;32m---> 31\u001b[0m is_stats_df \u001b[38;5;241m=\u001b[39m pd\u001b[38;5;241m.\u001b[39mconcat(list_of_is_stats)\u001b[38;5;241m.\u001b[39mreset_index(drop\u001b[38;5;241m=\u001b[39m\u001b[38;5;28;01mTrue\u001b[39;00m)\n\u001b[0;32m     32\u001b[0m is_stats_df \u001b[38;5;241m=\u001b[39m is_stats_df\u001b[38;5;241m.\u001b[39msort_values(\u001b[38;5;124m\"\u001b[39m\u001b[38;5;124mfitness\u001b[39m\u001b[38;5;124m\"\u001b[39m, ascending\u001b[38;5;241m=\u001b[39m\u001b[38;5;28;01mFalse\u001b[39;00m)\n\u001b[0;32m     34\u001b[0m expressions \u001b[38;5;241m=\u001b[39m {\n\u001b[0;32m     35\u001b[0m     result[x][\u001b[38;5;124m\"\u001b[39m\u001b[38;5;124malpha_id\u001b[39m\u001b[38;5;124m\"\u001b[39m]: {\u001b[38;5;124m\"\u001b[39m\u001b[38;5;124mselection\u001b[39m\u001b[38;5;124m\"\u001b[39m: result[x][\u001b[38;5;124m\"\u001b[39m\u001b[38;5;124msimulate_data\u001b[39m\u001b[38;5;124m\"\u001b[39m][\u001b[38;5;124m\"\u001b[39m\u001b[38;5;124mselection\u001b[39m\u001b[38;5;124m\"\u001b[39m],\n\u001b[0;32m     36\u001b[0m                             \u001b[38;5;124m\"\u001b[39m\u001b[38;5;124mcombo\u001b[39m\u001b[38;5;124m\"\u001b[39m: result[x][\u001b[38;5;124m\"\u001b[39m\u001b[38;5;124msimulate_data\u001b[39m\u001b[38;5;124m\"\u001b[39m][\u001b[38;5;124m\"\u001b[39m\u001b[38;5;124mcombo\u001b[39m\u001b[38;5;124m\"\u001b[39m]}\n\u001b[1;32m   (...)\u001b[0m\n\u001b[0;32m     40\u001b[0m     \u001b[38;5;28;01mif\u001b[39;00m result[x][\u001b[38;5;124m\"\u001b[39m\u001b[38;5;124mis_stats\u001b[39m\u001b[38;5;124m\"\u001b[39m] \u001b[38;5;129;01mis\u001b[39;00m \u001b[38;5;129;01mnot\u001b[39;00m \u001b[38;5;28;01mNone\u001b[39;00m\n\u001b[0;32m     41\u001b[0m     }\n",
      "File \u001b[1;32m~\\anaconda3\\Lib\\site-packages\\pandas\\util\\_decorators.py:331\u001b[0m, in \u001b[0;36mdeprecate_nonkeyword_arguments.<locals>.decorate.<locals>.wrapper\u001b[1;34m(*args, **kwargs)\u001b[0m\n\u001b[0;32m    325\u001b[0m \u001b[38;5;28;01mif\u001b[39;00m \u001b[38;5;28mlen\u001b[39m(args) \u001b[38;5;241m>\u001b[39m num_allow_args:\n\u001b[0;32m    326\u001b[0m     warnings\u001b[38;5;241m.\u001b[39mwarn(\n\u001b[0;32m    327\u001b[0m         msg\u001b[38;5;241m.\u001b[39mformat(arguments\u001b[38;5;241m=\u001b[39m_format_argument_list(allow_args)),\n\u001b[0;32m    328\u001b[0m         \u001b[38;5;167;01mFutureWarning\u001b[39;00m,\n\u001b[0;32m    329\u001b[0m         stacklevel\u001b[38;5;241m=\u001b[39mfind_stack_level(),\n\u001b[0;32m    330\u001b[0m     )\n\u001b[1;32m--> 331\u001b[0m \u001b[38;5;28;01mreturn\u001b[39;00m func(\u001b[38;5;241m*\u001b[39margs, \u001b[38;5;241m*\u001b[39m\u001b[38;5;241m*\u001b[39mkwargs)\n",
      "File \u001b[1;32m~\\anaconda3\\Lib\\site-packages\\pandas\\core\\reshape\\concat.py:368\u001b[0m, in \u001b[0;36mconcat\u001b[1;34m(objs, axis, join, ignore_index, keys, levels, names, verify_integrity, sort, copy)\u001b[0m\n\u001b[0;32m    146\u001b[0m \u001b[38;5;129m@deprecate_nonkeyword_arguments\u001b[39m(version\u001b[38;5;241m=\u001b[39m\u001b[38;5;28;01mNone\u001b[39;00m, allowed_args\u001b[38;5;241m=\u001b[39m[\u001b[38;5;124m\"\u001b[39m\u001b[38;5;124mobjs\u001b[39m\u001b[38;5;124m\"\u001b[39m])\n\u001b[0;32m    147\u001b[0m \u001b[38;5;28;01mdef\u001b[39;00m \u001b[38;5;21mconcat\u001b[39m(\n\u001b[0;32m    148\u001b[0m     objs: Iterable[NDFrame] \u001b[38;5;241m|\u001b[39m Mapping[HashableT, NDFrame],\n\u001b[1;32m   (...)\u001b[0m\n\u001b[0;32m    157\u001b[0m     copy: \u001b[38;5;28mbool\u001b[39m \u001b[38;5;241m=\u001b[39m \u001b[38;5;28;01mTrue\u001b[39;00m,\n\u001b[0;32m    158\u001b[0m ) \u001b[38;5;241m-\u001b[39m\u001b[38;5;241m>\u001b[39m DataFrame \u001b[38;5;241m|\u001b[39m Series:\n\u001b[0;32m    159\u001b[0m \u001b[38;5;250m    \u001b[39m\u001b[38;5;124;03m\"\"\"\u001b[39;00m\n\u001b[0;32m    160\u001b[0m \u001b[38;5;124;03m    Concatenate pandas objects along a particular axis.\u001b[39;00m\n\u001b[0;32m    161\u001b[0m \n\u001b[1;32m   (...)\u001b[0m\n\u001b[0;32m    366\u001b[0m \u001b[38;5;124;03m    1   3   4\u001b[39;00m\n\u001b[0;32m    367\u001b[0m \u001b[38;5;124;03m    \"\"\"\u001b[39;00m\n\u001b[1;32m--> 368\u001b[0m     op \u001b[38;5;241m=\u001b[39m _Concatenator(\n\u001b[0;32m    369\u001b[0m         objs,\n\u001b[0;32m    370\u001b[0m         axis\u001b[38;5;241m=\u001b[39maxis,\n\u001b[0;32m    371\u001b[0m         ignore_index\u001b[38;5;241m=\u001b[39mignore_index,\n\u001b[0;32m    372\u001b[0m         join\u001b[38;5;241m=\u001b[39mjoin,\n\u001b[0;32m    373\u001b[0m         keys\u001b[38;5;241m=\u001b[39mkeys,\n\u001b[0;32m    374\u001b[0m         levels\u001b[38;5;241m=\u001b[39mlevels,\n\u001b[0;32m    375\u001b[0m         names\u001b[38;5;241m=\u001b[39mnames,\n\u001b[0;32m    376\u001b[0m         verify_integrity\u001b[38;5;241m=\u001b[39mverify_integrity,\n\u001b[0;32m    377\u001b[0m         copy\u001b[38;5;241m=\u001b[39mcopy,\n\u001b[0;32m    378\u001b[0m         sort\u001b[38;5;241m=\u001b[39msort,\n\u001b[0;32m    379\u001b[0m     )\n\u001b[0;32m    381\u001b[0m     \u001b[38;5;28;01mreturn\u001b[39;00m op\u001b[38;5;241m.\u001b[39mget_result()\n",
      "File \u001b[1;32m~\\anaconda3\\Lib\\site-packages\\pandas\\core\\reshape\\concat.py:425\u001b[0m, in \u001b[0;36m_Concatenator.__init__\u001b[1;34m(self, objs, axis, join, keys, levels, names, ignore_index, verify_integrity, copy, sort)\u001b[0m\n\u001b[0;32m    422\u001b[0m     objs \u001b[38;5;241m=\u001b[39m \u001b[38;5;28mlist\u001b[39m(objs)\n\u001b[0;32m    424\u001b[0m \u001b[38;5;28;01mif\u001b[39;00m \u001b[38;5;28mlen\u001b[39m(objs) \u001b[38;5;241m==\u001b[39m \u001b[38;5;241m0\u001b[39m:\n\u001b[1;32m--> 425\u001b[0m     \u001b[38;5;28;01mraise\u001b[39;00m \u001b[38;5;167;01mValueError\u001b[39;00m(\u001b[38;5;124m\"\u001b[39m\u001b[38;5;124mNo objects to concatenate\u001b[39m\u001b[38;5;124m\"\u001b[39m)\n\u001b[0;32m    427\u001b[0m \u001b[38;5;28;01mif\u001b[39;00m keys \u001b[38;5;129;01mis\u001b[39;00m \u001b[38;5;28;01mNone\u001b[39;00m:\n\u001b[0;32m    428\u001b[0m     objs \u001b[38;5;241m=\u001b[39m \u001b[38;5;28mlist\u001b[39m(com\u001b[38;5;241m.\u001b[39mnot_none(\u001b[38;5;241m*\u001b[39mobjs))\n",
      "\u001b[1;31mValueError\u001b[0m: No objects to concatenate"
     ]
    }
   ],
   "source": [
    "#prettify_result function can be used from the helpful_functions library to take a look at IS stats of all the simulated alphas\n",
    "\n",
    "result_st1 = hf.prettify_result(result, detailed_tests_view=False)\n",
    "result_st1"
   ]
  },
  {
   "cell_type": "code",
   "execution_count": 62,
   "metadata": {},
   "outputs": [],
   "source": [
    "result_st1.to_csv('A_mixing_add.csv')"
   ]
  },
  {
   "cell_type": "code",
   "execution_count": 51,
   "metadata": {},
   "outputs": [
    {
     "data": {
      "text/html": [
       "<div>\n",
       "<style scoped>\n",
       "    .dataframe tbody tr th:only-of-type {\n",
       "        vertical-align: middle;\n",
       "    }\n",
       "\n",
       "    .dataframe tbody tr th {\n",
       "        vertical-align: top;\n",
       "    }\n",
       "\n",
       "    .dataframe thead th {\n",
       "        text-align: right;\n",
       "    }\n",
       "</style>\n",
       "<table border=\"1\" class=\"dataframe\">\n",
       "  <thead>\n",
       "    <tr style=\"text-align: right;\">\n",
       "      <th></th>\n",
       "      <th>alpha_id</th>\n",
       "      <th>competitions</th>\n",
       "      <th>limit</th>\n",
       "      <th>name</th>\n",
       "      <th>result</th>\n",
       "      <th>value</th>\n",
       "    </tr>\n",
       "  </thead>\n",
       "  <tbody>\n",
       "    <tr>\n",
       "      <th>0</th>\n",
       "      <td>roV9mgo</td>\n",
       "      <td>NaN</td>\n",
       "      <td>1.25</td>\n",
       "      <td>LOW_SHARPE</td>\n",
       "      <td>PASS</td>\n",
       "      <td>2.6200</td>\n",
       "    </tr>\n",
       "    <tr>\n",
       "      <th>1</th>\n",
       "      <td>roV9mgo</td>\n",
       "      <td>NaN</td>\n",
       "      <td>1.00</td>\n",
       "      <td>LOW_FITNESS</td>\n",
       "      <td>PASS</td>\n",
       "      <td>1.5400</td>\n",
       "    </tr>\n",
       "    <tr>\n",
       "      <th>2</th>\n",
       "      <td>roV9mgo</td>\n",
       "      <td>NaN</td>\n",
       "      <td>0.01</td>\n",
       "      <td>LOW_TURNOVER</td>\n",
       "      <td>PASS</td>\n",
       "      <td>0.4315</td>\n",
       "    </tr>\n",
       "    <tr>\n",
       "      <th>3</th>\n",
       "      <td>roV9mgo</td>\n",
       "      <td>NaN</td>\n",
       "      <td>0.70</td>\n",
       "      <td>HIGH_TURNOVER</td>\n",
       "      <td>PASS</td>\n",
       "      <td>0.4315</td>\n",
       "    </tr>\n",
       "    <tr>\n",
       "      <th>4</th>\n",
       "      <td>roV9mgo</td>\n",
       "      <td>NaN</td>\n",
       "      <td>NaN</td>\n",
       "      <td>CONCENTRATED_WEIGHT</td>\n",
       "      <td>PASS</td>\n",
       "      <td>NaN</td>\n",
       "    </tr>\n",
       "  </tbody>\n",
       "</table>\n",
       "</div>"
      ],
      "text/plain": [
       "  alpha_id competitions  limit                 name result   value\n",
       "0  roV9mgo          NaN   1.25           LOW_SHARPE   PASS  2.6200\n",
       "1  roV9mgo          NaN   1.00          LOW_FITNESS   PASS  1.5400\n",
       "2  roV9mgo          NaN   0.01         LOW_TURNOVER   PASS  0.4315\n",
       "3  roV9mgo          NaN   0.70        HIGH_TURNOVER   PASS  0.4315\n",
       "4  roV9mgo          NaN    NaN  CONCENTRATED_WEIGHT   PASS     NaN"
      ]
     },
     "execution_count": 51,
     "metadata": {},
     "output_type": "execute_result"
    }
   ],
   "source": [
    "#to take a look at the combined result of all new alphas\n",
    "\n",
    "is_tests_df = hf.concat_is_tests(result)\n",
    "is_tests_df.head()"
   ]
  },
  {
   "cell_type": "code",
   "execution_count": 52,
   "metadata": {},
   "outputs": [
    {
     "name": "stdout",
     "output_type": "stream",
     "text": [
      "Failed alphas:[]\n",
      "Passed alphas:['Vp5Zog5', 'EwLNb7m', 'm81deY5', 'roV9mgo', 'z90gz11', 'MpZdXOr', 'ngQmo9M', 'k3OveNk', 'QagOmKg', 'lV9ERan']\n"
     ]
    }
   ],
   "source": [
    "#making a list of failed alphas\n",
    "failed_alphas = is_tests_df.query('result==\"FAIL\"')['alpha_id'].unique()\n",
    "\n",
    "#making a list of passed alphas\n",
    "passed_alphas = list(set(is_tests_df['alpha_id']).difference(failed_alphas))\n",
    "\n",
    "print(f'Failed alphas:{failed_alphas}\\nPassed alphas:{passed_alphas}')"
   ]
  },
  {
   "cell_type": "code",
   "execution_count": 60,
   "metadata": {},
   "outputs": [],
   "source": [
    "#calling submit_alpha on all alphas that have passed the submission tests\n",
    "for alpha_id in passed_alphas:\n",
    "    hf.set_alpha_properties(s, alpha_id, tags = ['summer_boot_camp_4조'])"
   ]
  },
  {
   "cell_type": "code",
   "execution_count": 59,
   "metadata": {},
   "outputs": [
    {
     "data": {
      "text/html": [
       "<div>\n",
       "<style scoped>\n",
       "    .dataframe tbody tr th:only-of-type {\n",
       "        vertical-align: middle;\n",
       "    }\n",
       "\n",
       "    .dataframe tbody tr th {\n",
       "        vertical-align: top;\n",
       "    }\n",
       "\n",
       "    .dataframe thead th {\n",
       "        text-align: right;\n",
       "    }\n",
       "</style>\n",
       "<table border=\"1\" class=\"dataframe\">\n",
       "  <thead>\n",
       "    <tr style=\"text-align: right;\">\n",
       "      <th></th>\n",
       "      <th>name</th>\n",
       "      <th>result</th>\n",
       "      <th>limit</th>\n",
       "      <th>value</th>\n",
       "      <th>competitions</th>\n",
       "      <th>alpha_id</th>\n",
       "    </tr>\n",
       "  </thead>\n",
       "  <tbody>\n",
       "    <tr>\n",
       "      <th>0</th>\n",
       "      <td>LOW_SHARPE</td>\n",
       "      <td>PASS</td>\n",
       "      <td>1.25</td>\n",
       "      <td>2.6200</td>\n",
       "      <td>NaN</td>\n",
       "      <td>roV9mgo</td>\n",
       "    </tr>\n",
       "    <tr>\n",
       "      <th>1</th>\n",
       "      <td>LOW_FITNESS</td>\n",
       "      <td>PASS</td>\n",
       "      <td>1.00</td>\n",
       "      <td>1.5400</td>\n",
       "      <td>NaN</td>\n",
       "      <td>roV9mgo</td>\n",
       "    </tr>\n",
       "    <tr>\n",
       "      <th>2</th>\n",
       "      <td>LOW_TURNOVER</td>\n",
       "      <td>PASS</td>\n",
       "      <td>0.01</td>\n",
       "      <td>0.4315</td>\n",
       "      <td>NaN</td>\n",
       "      <td>roV9mgo</td>\n",
       "    </tr>\n",
       "    <tr>\n",
       "      <th>3</th>\n",
       "      <td>HIGH_TURNOVER</td>\n",
       "      <td>PASS</td>\n",
       "      <td>0.70</td>\n",
       "      <td>0.4315</td>\n",
       "      <td>NaN</td>\n",
       "      <td>roV9mgo</td>\n",
       "    </tr>\n",
       "    <tr>\n",
       "      <th>4</th>\n",
       "      <td>CONCENTRATED_WEIGHT</td>\n",
       "      <td>PASS</td>\n",
       "      <td>NaN</td>\n",
       "      <td>NaN</td>\n",
       "      <td>NaN</td>\n",
       "      <td>roV9mgo</td>\n",
       "    </tr>\n",
       "    <tr>\n",
       "      <th>5</th>\n",
       "      <td>LOW_SUB_UNIVERSE_SHARPE</td>\n",
       "      <td>PASS</td>\n",
       "      <td>0.92</td>\n",
       "      <td>1.2600</td>\n",
       "      <td>NaN</td>\n",
       "      <td>roV9mgo</td>\n",
       "    </tr>\n",
       "    <tr>\n",
       "      <th>6</th>\n",
       "      <td>SELF_CORRELATION</td>\n",
       "      <td>FAIL</td>\n",
       "      <td>0.70</td>\n",
       "      <td>0.8117</td>\n",
       "      <td>NaN</td>\n",
       "      <td>roV9mgo</td>\n",
       "    </tr>\n",
       "    <tr>\n",
       "      <th>7</th>\n",
       "      <td>PROD_CORRELATION</td>\n",
       "      <td>PENDING</td>\n",
       "      <td>0.70</td>\n",
       "      <td>NaN</td>\n",
       "      <td>NaN</td>\n",
       "      <td>roV9mgo</td>\n",
       "    </tr>\n",
       "    <tr>\n",
       "      <th>8</th>\n",
       "      <td>REGULAR_SUBMISSION</td>\n",
       "      <td>PASS</td>\n",
       "      <td>4.00</td>\n",
       "      <td>0.0000</td>\n",
       "      <td>NaN</td>\n",
       "      <td>roV9mgo</td>\n",
       "    </tr>\n",
       "    <tr>\n",
       "      <th>9</th>\n",
       "      <td>MATCHES_COMPETITION</td>\n",
       "      <td>PASS</td>\n",
       "      <td>NaN</td>\n",
       "      <td>NaN</td>\n",
       "      <td>[{'id': 'challenge', 'name': 'Challenge'}]</td>\n",
       "      <td>roV9mgo</td>\n",
       "    </tr>\n",
       "  </tbody>\n",
       "</table>\n",
       "</div>"
      ],
      "text/plain": [
       "                      name   result  limit   value  \\\n",
       "0               LOW_SHARPE     PASS   1.25  2.6200   \n",
       "1              LOW_FITNESS     PASS   1.00  1.5400   \n",
       "2             LOW_TURNOVER     PASS   0.01  0.4315   \n",
       "3            HIGH_TURNOVER     PASS   0.70  0.4315   \n",
       "4      CONCENTRATED_WEIGHT     PASS    NaN     NaN   \n",
       "5  LOW_SUB_UNIVERSE_SHARPE     PASS   0.92  1.2600   \n",
       "6         SELF_CORRELATION     FAIL   0.70  0.8117   \n",
       "7         PROD_CORRELATION  PENDING   0.70     NaN   \n",
       "8       REGULAR_SUBMISSION     PASS   4.00  0.0000   \n",
       "9      MATCHES_COMPETITION     PASS    NaN     NaN   \n",
       "\n",
       "                                 competitions alpha_id  \n",
       "0                                         NaN  roV9mgo  \n",
       "1                                         NaN  roV9mgo  \n",
       "2                                         NaN  roV9mgo  \n",
       "3                                         NaN  roV9mgo  \n",
       "4                                         NaN  roV9mgo  \n",
       "5                                         NaN  roV9mgo  \n",
       "6                                         NaN  roV9mgo  \n",
       "7                                         NaN  roV9mgo  \n",
       "8                                         NaN  roV9mgo  \n",
       "9  [{'id': 'challenge', 'name': 'Challenge'}]  roV9mgo  "
      ]
     },
     "execution_count": 59,
     "metadata": {},
     "output_type": "execute_result"
    }
   ],
   "source": [
    "ace.get_check_submission(s, passed_alphas[3])"
   ]
  },
  {
   "cell_type": "code",
   "execution_count": null,
   "metadata": {},
   "outputs": [],
   "source": [
    "submit_result = {alpha_id: ace.submit_alpha(s, alpha_id) for alpha_id in passed_alphas}"
   ]
  },
  {
   "cell_type": "markdown",
   "metadata": {},
   "source": [
    "## Template C Mixing"
   ]
  },
  {
   "cell_type": "code",
   "execution_count": null,
   "metadata": {},
   "outputs": [],
   "source": []
  },
  {
   "cell_type": "code",
   "execution_count": 83,
   "metadata": {},
   "outputs": [],
   "source": [
    "for alpha_id in passed_alphas:\n",
    "    hf.set_alpha_properties(s, alpha_id, tags = ['summer_boot_camp_4조'])"
   ]
  },
  {
   "cell_type": "code",
   "execution_count": 87,
   "metadata": {},
   "outputs": [
    {
     "data": {
      "text/html": [
       "<div>\n",
       "<style scoped>\n",
       "    .dataframe tbody tr th:only-of-type {\n",
       "        vertical-align: middle;\n",
       "    }\n",
       "\n",
       "    .dataframe tbody tr th {\n",
       "        vertical-align: top;\n",
       "    }\n",
       "\n",
       "    .dataframe thead th {\n",
       "        text-align: right;\n",
       "    }\n",
       "</style>\n",
       "<table border=\"1\" class=\"dataframe\">\n",
       "  <thead>\n",
       "    <tr style=\"text-align: right;\">\n",
       "      <th></th>\n",
       "      <th>name</th>\n",
       "      <th>result</th>\n",
       "      <th>limit</th>\n",
       "      <th>value</th>\n",
       "      <th>competitions</th>\n",
       "      <th>alpha_id</th>\n",
       "    </tr>\n",
       "  </thead>\n",
       "  <tbody>\n",
       "    <tr>\n",
       "      <th>0</th>\n",
       "      <td>LOW_SHARPE</td>\n",
       "      <td>PASS</td>\n",
       "      <td>1.25</td>\n",
       "      <td>2.0200</td>\n",
       "      <td>NaN</td>\n",
       "      <td>oKP2Wrl</td>\n",
       "    </tr>\n",
       "    <tr>\n",
       "      <th>1</th>\n",
       "      <td>LOW_FITNESS</td>\n",
       "      <td>PASS</td>\n",
       "      <td>1.00</td>\n",
       "      <td>1.1200</td>\n",
       "      <td>NaN</td>\n",
       "      <td>oKP2Wrl</td>\n",
       "    </tr>\n",
       "    <tr>\n",
       "      <th>2</th>\n",
       "      <td>LOW_TURNOVER</td>\n",
       "      <td>PASS</td>\n",
       "      <td>0.01</td>\n",
       "      <td>0.3259</td>\n",
       "      <td>NaN</td>\n",
       "      <td>oKP2Wrl</td>\n",
       "    </tr>\n",
       "    <tr>\n",
       "      <th>3</th>\n",
       "      <td>HIGH_TURNOVER</td>\n",
       "      <td>PASS</td>\n",
       "      <td>0.70</td>\n",
       "      <td>0.3259</td>\n",
       "      <td>NaN</td>\n",
       "      <td>oKP2Wrl</td>\n",
       "    </tr>\n",
       "    <tr>\n",
       "      <th>4</th>\n",
       "      <td>CONCENTRATED_WEIGHT</td>\n",
       "      <td>PASS</td>\n",
       "      <td>NaN</td>\n",
       "      <td>NaN</td>\n",
       "      <td>NaN</td>\n",
       "      <td>oKP2Wrl</td>\n",
       "    </tr>\n",
       "    <tr>\n",
       "      <th>5</th>\n",
       "      <td>LOW_SUB_UNIVERSE_SHARPE</td>\n",
       "      <td>PASS</td>\n",
       "      <td>0.87</td>\n",
       "      <td>0.9200</td>\n",
       "      <td>NaN</td>\n",
       "      <td>oKP2Wrl</td>\n",
       "    </tr>\n",
       "    <tr>\n",
       "      <th>6</th>\n",
       "      <td>SELF_CORRELATION</td>\n",
       "      <td>PASS</td>\n",
       "      <td>0.70</td>\n",
       "      <td>0.4739</td>\n",
       "      <td>NaN</td>\n",
       "      <td>oKP2Wrl</td>\n",
       "    </tr>\n",
       "    <tr>\n",
       "      <th>7</th>\n",
       "      <td>PROD_CORRELATION</td>\n",
       "      <td>PASS</td>\n",
       "      <td>0.70</td>\n",
       "      <td>0.6252</td>\n",
       "      <td>NaN</td>\n",
       "      <td>oKP2Wrl</td>\n",
       "    </tr>\n",
       "    <tr>\n",
       "      <th>8</th>\n",
       "      <td>REGULAR_SUBMISSION</td>\n",
       "      <td>PASS</td>\n",
       "      <td>4.00</td>\n",
       "      <td>3.0000</td>\n",
       "      <td>NaN</td>\n",
       "      <td>oKP2Wrl</td>\n",
       "    </tr>\n",
       "    <tr>\n",
       "      <th>9</th>\n",
       "      <td>MATCHES_COMPETITION</td>\n",
       "      <td>PASS</td>\n",
       "      <td>NaN</td>\n",
       "      <td>NaN</td>\n",
       "      <td>[{'id': 'challenge', 'name': 'Challenge'}]</td>\n",
       "      <td>oKP2Wrl</td>\n",
       "    </tr>\n",
       "  </tbody>\n",
       "</table>\n",
       "</div>"
      ],
      "text/plain": [
       "                      name result  limit   value  \\\n",
       "0               LOW_SHARPE   PASS   1.25  2.0200   \n",
       "1              LOW_FITNESS   PASS   1.00  1.1200   \n",
       "2             LOW_TURNOVER   PASS   0.01  0.3259   \n",
       "3            HIGH_TURNOVER   PASS   0.70  0.3259   \n",
       "4      CONCENTRATED_WEIGHT   PASS    NaN     NaN   \n",
       "5  LOW_SUB_UNIVERSE_SHARPE   PASS   0.87  0.9200   \n",
       "6         SELF_CORRELATION   PASS   0.70  0.4739   \n",
       "7         PROD_CORRELATION   PASS   0.70  0.6252   \n",
       "8       REGULAR_SUBMISSION   PASS   4.00  3.0000   \n",
       "9      MATCHES_COMPETITION   PASS    NaN     NaN   \n",
       "\n",
       "                                 competitions alpha_id  \n",
       "0                                         NaN  oKP2Wrl  \n",
       "1                                         NaN  oKP2Wrl  \n",
       "2                                         NaN  oKP2Wrl  \n",
       "3                                         NaN  oKP2Wrl  \n",
       "4                                         NaN  oKP2Wrl  \n",
       "5                                         NaN  oKP2Wrl  \n",
       "6                                         NaN  oKP2Wrl  \n",
       "7                                         NaN  oKP2Wrl  \n",
       "8                                         NaN  oKP2Wrl  \n",
       "9  [{'id': 'challenge', 'name': 'Challenge'}]  oKP2Wrl  "
      ]
     },
     "execution_count": 87,
     "metadata": {},
     "output_type": "execute_result"
    }
   ],
   "source": [
    "ace.get_check_submission(s, passed_alphas[0])"
   ]
  },
  {
   "cell_type": "markdown",
   "metadata": {},
   "source": [
    "When you got a list of submittable alphas, you can call function submit_alpha()"
   ]
  },
  {
   "cell_type": "code",
   "execution_count": 89,
   "metadata": {},
   "outputs": [],
   "source": [
    "#calling submit_alpha on all alphas that have passed the submission tests\n",
    "for alpha_id in passed_alphas:\n",
    "    hf.set_alpha_properties(s, alpha_id, tags = ['summer_boot_camp_4조'])\n",
    "submit_result = {alpha_id: ace.submit_alpha(s, alpha_id) for alpha_id in passed_alphas}"
   ]
  },
  {
   "cell_type": "code",
   "execution_count": 90,
   "metadata": {},
   "outputs": [
    {
     "data": {
      "text/plain": [
       "{'oKP2Wrl': True}"
      ]
     },
     "execution_count": 90,
     "metadata": {},
     "output_type": "execute_result"
    }
   ],
   "source": [
    "#submit_result will have return values from the submit_result function\n",
    "\n",
    "submit_result"
   ]
  },
  {
   "cell_type": "markdown",
   "metadata": {},
   "source": [
    "### Library Fuctions.\n",
    "\n",
    "following are some other functions that you can use for your own analysis\n",
    "\n",
    "**get_alpha_pnl(s, alpha_id)** - to get the pnl for an alpha\n",
    "\n",
    "**get_alpha_yearly_stats(s, alpha_id)** - to get yearly statistics for an alpha\n",
    "\n",
    "**get_self_corr(s, alpha_id)** - to get self correlation results for an alpha\n",
    "\n",
    "**get_prod_corr(s, alpha_id)** - to get prod correlation results for an alpha\n",
    "\n",
    "**get_check_submission(s, alpha_id)** - to get check submission result for an alpha\n",
    "\n",
    "**check_self_corr_test(s, alpha_id)** - to check if alpha passes self correlation test (self_corr<0.7)\n",
    "\n",
    "**check_prod_corr_test(s, alpha_id)** - to check if alpha passes prod correlation test (prod_corr<0.7)\n",
    "\n",
    "**perfomance_comparison(s, alpha_id)** - to get the result of performance comparison for an alpha merged performance"
   ]
  },
  {
   "cell_type": "code",
   "execution_count": 37,
   "metadata": {},
   "outputs": [
    {
     "data": {
      "text/html": [
       "<div>\n",
       "<style scoped>\n",
       "    .dataframe tbody tr th:only-of-type {\n",
       "        vertical-align: middle;\n",
       "    }\n",
       "\n",
       "    .dataframe tbody tr th {\n",
       "        vertical-align: top;\n",
       "    }\n",
       "\n",
       "    .dataframe thead th {\n",
       "        text-align: right;\n",
       "    }\n",
       "</style>\n",
       "<table border=\"1\" class=\"dataframe\">\n",
       "  <thead>\n",
       "    <tr style=\"text-align: right;\">\n",
       "      <th></th>\n",
       "      <th>Pnl</th>\n",
       "      <th>alpha_id</th>\n",
       "    </tr>\n",
       "    <tr>\n",
       "      <th>Date</th>\n",
       "      <th></th>\n",
       "      <th></th>\n",
       "    </tr>\n",
       "  </thead>\n",
       "  <tbody>\n",
       "    <tr>\n",
       "      <th>2012-01-23</th>\n",
       "      <td>0.0</td>\n",
       "      <td>dx9ALqJ</td>\n",
       "    </tr>\n",
       "    <tr>\n",
       "      <th>2012-01-24</th>\n",
       "      <td>52190.0</td>\n",
       "      <td>dx9ALqJ</td>\n",
       "    </tr>\n",
       "    <tr>\n",
       "      <th>2012-01-25</th>\n",
       "      <td>32038.0</td>\n",
       "      <td>dx9ALqJ</td>\n",
       "    </tr>\n",
       "    <tr>\n",
       "      <th>2012-01-26</th>\n",
       "      <td>37403.0</td>\n",
       "      <td>dx9ALqJ</td>\n",
       "    </tr>\n",
       "    <tr>\n",
       "      <th>2012-01-27</th>\n",
       "      <td>53631.0</td>\n",
       "      <td>dx9ALqJ</td>\n",
       "    </tr>\n",
       "    <tr>\n",
       "      <th>...</th>\n",
       "      <td>...</td>\n",
       "      <td>...</td>\n",
       "    </tr>\n",
       "    <tr>\n",
       "      <th>2022-01-17</th>\n",
       "      <td>12935472.0</td>\n",
       "      <td>dx9ALqJ</td>\n",
       "    </tr>\n",
       "    <tr>\n",
       "      <th>2022-01-18</th>\n",
       "      <td>12935661.0</td>\n",
       "      <td>dx9ALqJ</td>\n",
       "    </tr>\n",
       "    <tr>\n",
       "      <th>2022-01-19</th>\n",
       "      <td>12967474.0</td>\n",
       "      <td>dx9ALqJ</td>\n",
       "    </tr>\n",
       "    <tr>\n",
       "      <th>2022-01-20</th>\n",
       "      <td>12966156.0</td>\n",
       "      <td>dx9ALqJ</td>\n",
       "    </tr>\n",
       "    <tr>\n",
       "      <th>2022-01-21</th>\n",
       "      <td>12958392.0</td>\n",
       "      <td>dx9ALqJ</td>\n",
       "    </tr>\n",
       "  </tbody>\n",
       "</table>\n",
       "<p>2588 rows × 2 columns</p>\n",
       "</div>"
      ],
      "text/plain": [
       "                   Pnl alpha_id\n",
       "Date                           \n",
       "2012-01-23         0.0  dx9ALqJ\n",
       "2012-01-24     52190.0  dx9ALqJ\n",
       "2012-01-25     32038.0  dx9ALqJ\n",
       "2012-01-26     37403.0  dx9ALqJ\n",
       "2012-01-27     53631.0  dx9ALqJ\n",
       "...                ...      ...\n",
       "2022-01-17  12935472.0  dx9ALqJ\n",
       "2022-01-18  12935661.0  dx9ALqJ\n",
       "2022-01-19  12967474.0  dx9ALqJ\n",
       "2022-01-20  12966156.0  dx9ALqJ\n",
       "2022-01-21  12958392.0  dx9ALqJ\n",
       "\n",
       "[2588 rows x 2 columns]"
      ]
     },
     "execution_count": 37,
     "metadata": {},
     "output_type": "execute_result"
    }
   ],
   "source": [
    "ace.get_alpha_pnl(s, result[0]['alpha_id'])"
   ]
  },
  {
   "cell_type": "code",
   "execution_count": null,
   "metadata": {},
   "outputs": [],
   "source": []
  }
 ],
 "metadata": {
  "availableInstances": [
   {
    "_defaultOrder": 0,
    "_isFastLaunch": true,
    "category": "General purpose",
    "gpuNum": 0,
    "hideHardwareSpecs": false,
    "memoryGiB": 4,
    "name": "ml.t3.medium",
    "vcpuNum": 2
   },
   {
    "_defaultOrder": 1,
    "_isFastLaunch": false,
    "category": "General purpose",
    "gpuNum": 0,
    "hideHardwareSpecs": false,
    "memoryGiB": 8,
    "name": "ml.t3.large",
    "vcpuNum": 2
   },
   {
    "_defaultOrder": 2,
    "_isFastLaunch": false,
    "category": "General purpose",
    "gpuNum": 0,
    "hideHardwareSpecs": false,
    "memoryGiB": 16,
    "name": "ml.t3.xlarge",
    "vcpuNum": 4
   },
   {
    "_defaultOrder": 3,
    "_isFastLaunch": false,
    "category": "General purpose",
    "gpuNum": 0,
    "hideHardwareSpecs": false,
    "memoryGiB": 32,
    "name": "ml.t3.2xlarge",
    "vcpuNum": 8
   },
   {
    "_defaultOrder": 4,
    "_isFastLaunch": true,
    "category": "General purpose",
    "gpuNum": 0,
    "hideHardwareSpecs": false,
    "memoryGiB": 8,
    "name": "ml.m5.large",
    "vcpuNum": 2
   },
   {
    "_defaultOrder": 5,
    "_isFastLaunch": false,
    "category": "General purpose",
    "gpuNum": 0,
    "hideHardwareSpecs": false,
    "memoryGiB": 16,
    "name": "ml.m5.xlarge",
    "vcpuNum": 4
   },
   {
    "_defaultOrder": 6,
    "_isFastLaunch": false,
    "category": "General purpose",
    "gpuNum": 0,
    "hideHardwareSpecs": false,
    "memoryGiB": 32,
    "name": "ml.m5.2xlarge",
    "vcpuNum": 8
   },
   {
    "_defaultOrder": 7,
    "_isFastLaunch": false,
    "category": "General purpose",
    "gpuNum": 0,
    "hideHardwareSpecs": false,
    "memoryGiB": 64,
    "name": "ml.m5.4xlarge",
    "vcpuNum": 16
   },
   {
    "_defaultOrder": 8,
    "_isFastLaunch": false,
    "category": "General purpose",
    "gpuNum": 0,
    "hideHardwareSpecs": false,
    "memoryGiB": 128,
    "name": "ml.m5.8xlarge",
    "vcpuNum": 32
   },
   {
    "_defaultOrder": 9,
    "_isFastLaunch": false,
    "category": "General purpose",
    "gpuNum": 0,
    "hideHardwareSpecs": false,
    "memoryGiB": 192,
    "name": "ml.m5.12xlarge",
    "vcpuNum": 48
   },
   {
    "_defaultOrder": 10,
    "_isFastLaunch": false,
    "category": "General purpose",
    "gpuNum": 0,
    "hideHardwareSpecs": false,
    "memoryGiB": 256,
    "name": "ml.m5.16xlarge",
    "vcpuNum": 64
   },
   {
    "_defaultOrder": 11,
    "_isFastLaunch": false,
    "category": "General purpose",
    "gpuNum": 0,
    "hideHardwareSpecs": false,
    "memoryGiB": 384,
    "name": "ml.m5.24xlarge",
    "vcpuNum": 96
   },
   {
    "_defaultOrder": 12,
    "_isFastLaunch": false,
    "category": "General purpose",
    "gpuNum": 0,
    "hideHardwareSpecs": false,
    "memoryGiB": 8,
    "name": "ml.m5d.large",
    "vcpuNum": 2
   },
   {
    "_defaultOrder": 13,
    "_isFastLaunch": false,
    "category": "General purpose",
    "gpuNum": 0,
    "hideHardwareSpecs": false,
    "memoryGiB": 16,
    "name": "ml.m5d.xlarge",
    "vcpuNum": 4
   },
   {
    "_defaultOrder": 14,
    "_isFastLaunch": false,
    "category": "General purpose",
    "gpuNum": 0,
    "hideHardwareSpecs": false,
    "memoryGiB": 32,
    "name": "ml.m5d.2xlarge",
    "vcpuNum": 8
   },
   {
    "_defaultOrder": 15,
    "_isFastLaunch": false,
    "category": "General purpose",
    "gpuNum": 0,
    "hideHardwareSpecs": false,
    "memoryGiB": 64,
    "name": "ml.m5d.4xlarge",
    "vcpuNum": 16
   },
   {
    "_defaultOrder": 16,
    "_isFastLaunch": false,
    "category": "General purpose",
    "gpuNum": 0,
    "hideHardwareSpecs": false,
    "memoryGiB": 128,
    "name": "ml.m5d.8xlarge",
    "vcpuNum": 32
   },
   {
    "_defaultOrder": 17,
    "_isFastLaunch": false,
    "category": "General purpose",
    "gpuNum": 0,
    "hideHardwareSpecs": false,
    "memoryGiB": 192,
    "name": "ml.m5d.12xlarge",
    "vcpuNum": 48
   },
   {
    "_defaultOrder": 18,
    "_isFastLaunch": false,
    "category": "General purpose",
    "gpuNum": 0,
    "hideHardwareSpecs": false,
    "memoryGiB": 256,
    "name": "ml.m5d.16xlarge",
    "vcpuNum": 64
   },
   {
    "_defaultOrder": 19,
    "_isFastLaunch": false,
    "category": "General purpose",
    "gpuNum": 0,
    "hideHardwareSpecs": false,
    "memoryGiB": 384,
    "name": "ml.m5d.24xlarge",
    "vcpuNum": 96
   },
   {
    "_defaultOrder": 20,
    "_isFastLaunch": false,
    "category": "General purpose",
    "gpuNum": 0,
    "hideHardwareSpecs": true,
    "memoryGiB": 0,
    "name": "ml.geospatial.interactive",
    "supportedImageNames": [
     "sagemaker-geospatial-v1-0"
    ],
    "vcpuNum": 0
   },
   {
    "_defaultOrder": 21,
    "_isFastLaunch": true,
    "category": "Compute optimized",
    "gpuNum": 0,
    "hideHardwareSpecs": false,
    "memoryGiB": 4,
    "name": "ml.c5.large",
    "vcpuNum": 2
   },
   {
    "_defaultOrder": 22,
    "_isFastLaunch": false,
    "category": "Compute optimized",
    "gpuNum": 0,
    "hideHardwareSpecs": false,
    "memoryGiB": 8,
    "name": "ml.c5.xlarge",
    "vcpuNum": 4
   },
   {
    "_defaultOrder": 23,
    "_isFastLaunch": false,
    "category": "Compute optimized",
    "gpuNum": 0,
    "hideHardwareSpecs": false,
    "memoryGiB": 16,
    "name": "ml.c5.2xlarge",
    "vcpuNum": 8
   },
   {
    "_defaultOrder": 24,
    "_isFastLaunch": false,
    "category": "Compute optimized",
    "gpuNum": 0,
    "hideHardwareSpecs": false,
    "memoryGiB": 32,
    "name": "ml.c5.4xlarge",
    "vcpuNum": 16
   },
   {
    "_defaultOrder": 25,
    "_isFastLaunch": false,
    "category": "Compute optimized",
    "gpuNum": 0,
    "hideHardwareSpecs": false,
    "memoryGiB": 72,
    "name": "ml.c5.9xlarge",
    "vcpuNum": 36
   },
   {
    "_defaultOrder": 26,
    "_isFastLaunch": false,
    "category": "Compute optimized",
    "gpuNum": 0,
    "hideHardwareSpecs": false,
    "memoryGiB": 96,
    "name": "ml.c5.12xlarge",
    "vcpuNum": 48
   },
   {
    "_defaultOrder": 27,
    "_isFastLaunch": false,
    "category": "Compute optimized",
    "gpuNum": 0,
    "hideHardwareSpecs": false,
    "memoryGiB": 144,
    "name": "ml.c5.18xlarge",
    "vcpuNum": 72
   },
   {
    "_defaultOrder": 28,
    "_isFastLaunch": false,
    "category": "Compute optimized",
    "gpuNum": 0,
    "hideHardwareSpecs": false,
    "memoryGiB": 192,
    "name": "ml.c5.24xlarge",
    "vcpuNum": 96
   },
   {
    "_defaultOrder": 29,
    "_isFastLaunch": true,
    "category": "Accelerated computing",
    "gpuNum": 1,
    "hideHardwareSpecs": false,
    "memoryGiB": 16,
    "name": "ml.g4dn.xlarge",
    "vcpuNum": 4
   },
   {
    "_defaultOrder": 30,
    "_isFastLaunch": false,
    "category": "Accelerated computing",
    "gpuNum": 1,
    "hideHardwareSpecs": false,
    "memoryGiB": 32,
    "name": "ml.g4dn.2xlarge",
    "vcpuNum": 8
   },
   {
    "_defaultOrder": 31,
    "_isFastLaunch": false,
    "category": "Accelerated computing",
    "gpuNum": 1,
    "hideHardwareSpecs": false,
    "memoryGiB": 64,
    "name": "ml.g4dn.4xlarge",
    "vcpuNum": 16
   },
   {
    "_defaultOrder": 32,
    "_isFastLaunch": false,
    "category": "Accelerated computing",
    "gpuNum": 1,
    "hideHardwareSpecs": false,
    "memoryGiB": 128,
    "name": "ml.g4dn.8xlarge",
    "vcpuNum": 32
   },
   {
    "_defaultOrder": 33,
    "_isFastLaunch": false,
    "category": "Accelerated computing",
    "gpuNum": 4,
    "hideHardwareSpecs": false,
    "memoryGiB": 192,
    "name": "ml.g4dn.12xlarge",
    "vcpuNum": 48
   },
   {
    "_defaultOrder": 34,
    "_isFastLaunch": false,
    "category": "Accelerated computing",
    "gpuNum": 1,
    "hideHardwareSpecs": false,
    "memoryGiB": 256,
    "name": "ml.g4dn.16xlarge",
    "vcpuNum": 64
   },
   {
    "_defaultOrder": 35,
    "_isFastLaunch": false,
    "category": "Accelerated computing",
    "gpuNum": 1,
    "hideHardwareSpecs": false,
    "memoryGiB": 61,
    "name": "ml.p3.2xlarge",
    "vcpuNum": 8
   },
   {
    "_defaultOrder": 36,
    "_isFastLaunch": false,
    "category": "Accelerated computing",
    "gpuNum": 4,
    "hideHardwareSpecs": false,
    "memoryGiB": 244,
    "name": "ml.p3.8xlarge",
    "vcpuNum": 32
   },
   {
    "_defaultOrder": 37,
    "_isFastLaunch": false,
    "category": "Accelerated computing",
    "gpuNum": 8,
    "hideHardwareSpecs": false,
    "memoryGiB": 488,
    "name": "ml.p3.16xlarge",
    "vcpuNum": 64
   },
   {
    "_defaultOrder": 38,
    "_isFastLaunch": false,
    "category": "Accelerated computing",
    "gpuNum": 8,
    "hideHardwareSpecs": false,
    "memoryGiB": 768,
    "name": "ml.p3dn.24xlarge",
    "vcpuNum": 96
   },
   {
    "_defaultOrder": 39,
    "_isFastLaunch": false,
    "category": "Memory Optimized",
    "gpuNum": 0,
    "hideHardwareSpecs": false,
    "memoryGiB": 16,
    "name": "ml.r5.large",
    "vcpuNum": 2
   },
   {
    "_defaultOrder": 40,
    "_isFastLaunch": false,
    "category": "Memory Optimized",
    "gpuNum": 0,
    "hideHardwareSpecs": false,
    "memoryGiB": 32,
    "name": "ml.r5.xlarge",
    "vcpuNum": 4
   },
   {
    "_defaultOrder": 41,
    "_isFastLaunch": false,
    "category": "Memory Optimized",
    "gpuNum": 0,
    "hideHardwareSpecs": false,
    "memoryGiB": 64,
    "name": "ml.r5.2xlarge",
    "vcpuNum": 8
   },
   {
    "_defaultOrder": 42,
    "_isFastLaunch": false,
    "category": "Memory Optimized",
    "gpuNum": 0,
    "hideHardwareSpecs": false,
    "memoryGiB": 128,
    "name": "ml.r5.4xlarge",
    "vcpuNum": 16
   },
   {
    "_defaultOrder": 43,
    "_isFastLaunch": false,
    "category": "Memory Optimized",
    "gpuNum": 0,
    "hideHardwareSpecs": false,
    "memoryGiB": 256,
    "name": "ml.r5.8xlarge",
    "vcpuNum": 32
   },
   {
    "_defaultOrder": 44,
    "_isFastLaunch": false,
    "category": "Memory Optimized",
    "gpuNum": 0,
    "hideHardwareSpecs": false,
    "memoryGiB": 384,
    "name": "ml.r5.12xlarge",
    "vcpuNum": 48
   },
   {
    "_defaultOrder": 45,
    "_isFastLaunch": false,
    "category": "Memory Optimized",
    "gpuNum": 0,
    "hideHardwareSpecs": false,
    "memoryGiB": 512,
    "name": "ml.r5.16xlarge",
    "vcpuNum": 64
   },
   {
    "_defaultOrder": 46,
    "_isFastLaunch": false,
    "category": "Memory Optimized",
    "gpuNum": 0,
    "hideHardwareSpecs": false,
    "memoryGiB": 768,
    "name": "ml.r5.24xlarge",
    "vcpuNum": 96
   },
   {
    "_defaultOrder": 47,
    "_isFastLaunch": false,
    "category": "Accelerated computing",
    "gpuNum": 1,
    "hideHardwareSpecs": false,
    "memoryGiB": 16,
    "name": "ml.g5.xlarge",
    "vcpuNum": 4
   },
   {
    "_defaultOrder": 48,
    "_isFastLaunch": false,
    "category": "Accelerated computing",
    "gpuNum": 1,
    "hideHardwareSpecs": false,
    "memoryGiB": 32,
    "name": "ml.g5.2xlarge",
    "vcpuNum": 8
   },
   {
    "_defaultOrder": 49,
    "_isFastLaunch": false,
    "category": "Accelerated computing",
    "gpuNum": 1,
    "hideHardwareSpecs": false,
    "memoryGiB": 64,
    "name": "ml.g5.4xlarge",
    "vcpuNum": 16
   },
   {
    "_defaultOrder": 50,
    "_isFastLaunch": false,
    "category": "Accelerated computing",
    "gpuNum": 1,
    "hideHardwareSpecs": false,
    "memoryGiB": 128,
    "name": "ml.g5.8xlarge",
    "vcpuNum": 32
   },
   {
    "_defaultOrder": 51,
    "_isFastLaunch": false,
    "category": "Accelerated computing",
    "gpuNum": 1,
    "hideHardwareSpecs": false,
    "memoryGiB": 256,
    "name": "ml.g5.16xlarge",
    "vcpuNum": 64
   },
   {
    "_defaultOrder": 52,
    "_isFastLaunch": false,
    "category": "Accelerated computing",
    "gpuNum": 4,
    "hideHardwareSpecs": false,
    "memoryGiB": 192,
    "name": "ml.g5.12xlarge",
    "vcpuNum": 48
   },
   {
    "_defaultOrder": 53,
    "_isFastLaunch": false,
    "category": "Accelerated computing",
    "gpuNum": 4,
    "hideHardwareSpecs": false,
    "memoryGiB": 384,
    "name": "ml.g5.24xlarge",
    "vcpuNum": 96
   },
   {
    "_defaultOrder": 54,
    "_isFastLaunch": false,
    "category": "Accelerated computing",
    "gpuNum": 8,
    "hideHardwareSpecs": false,
    "memoryGiB": 768,
    "name": "ml.g5.48xlarge",
    "vcpuNum": 192
   },
   {
    "_defaultOrder": 55,
    "_isFastLaunch": false,
    "category": "Accelerated computing",
    "gpuNum": 8,
    "hideHardwareSpecs": false,
    "memoryGiB": 1152,
    "name": "ml.p4d.24xlarge",
    "vcpuNum": 96
   },
   {
    "_defaultOrder": 56,
    "_isFastLaunch": false,
    "category": "Accelerated computing",
    "gpuNum": 8,
    "hideHardwareSpecs": false,
    "memoryGiB": 1152,
    "name": "ml.p4de.24xlarge",
    "vcpuNum": 96
   }
  ],
  "instance_type": "ml.t3.medium",
  "kernelspec": {
   "display_name": "Python 3 (ipykernel)",
   "language": "python",
   "name": "python3"
  },
  "language_info": {
   "codemirror_mode": {
    "name": "ipython",
    "version": 3
   },
   "file_extension": ".py",
   "mimetype": "text/x-python",
   "name": "python",
   "nbconvert_exporter": "python",
   "pygments_lexer": "ipython3",
   "version": "3.11.4"
  }
 },
 "nbformat": 4,
 "nbformat_minor": 4
}
